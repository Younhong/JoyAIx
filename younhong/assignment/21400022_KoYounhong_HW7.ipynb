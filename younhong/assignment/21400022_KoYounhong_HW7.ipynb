{
 "cells": [
  {
   "cell_type": "markdown",
   "metadata": {},
   "source": [
    "# Welcome to \"CrushPython\"\n",
    "\n",
    "\n",
    "__The prudent see danger and take refuge, but the simple keep going and suffer for it.__ Proverbs 27:12\n",
    "\n",
    "---------"
   ]
  },
  {
   "cell_type": "markdown",
   "metadata": {},
   "source": [
    "## Exercises [모인활 숙제, 3 문제만 코딩하면 됩니다]\n",
    "\n",
    "### 1.  Find colors\n",
    "\n",
    "Given a list of colors, create a list of colors of which the length is greater than 5.  \n",
    "    - Use a for loop\n",
    "    - Use a list comprehension.\n",
    "    \n",
    "#### Using for-loop"
   ]
  },
  {
   "cell_type": "code",
   "execution_count": 1,
   "metadata": {},
   "outputs": [
    {
     "name": "stdout",
     "output_type": "stream",
     "text": [
      "['orange', 'yellow', 'green', 'indigo', 'violet']\n"
     ]
    }
   ],
   "source": [
    "# Use a for loop\n",
    "rainbow = ['red', 'orange', 'yellow', 'green', 'blue', 'indigo', 'violet']\n",
    "colors = []\n",
    "\n",
    "for color in rainbow:\n",
    "    if len(color) >= 5:\n",
    "        colors.append(color)\n",
    "\n",
    "print(colors)"
   ]
  },
  {
   "cell_type": "markdown",
   "metadata": {},
   "source": [
    "#### Using list comprehension"
   ]
  },
  {
   "cell_type": "code",
   "execution_count": 2,
   "metadata": {},
   "outputs": [
    {
     "name": "stdout",
     "output_type": "stream",
     "text": [
      "['orange', 'yellow', 'green', 'indigo', 'violet']\n"
     ]
    }
   ],
   "source": [
    "# Use a list comprehension.\n",
    "\n",
    "rainbow = ['red', 'orange', 'yellow', 'green', 'blue', 'indigo', 'violet']\n",
    "colors = [color for color in rainbow if len(color) >= 5]\n",
    "print(colors)"
   ]
  },
  {
   "cell_type": "markdown",
   "metadata": {},
   "source": [
    "### 2. Grading\n",
    "Given a list of grades, count how many are above the average.\n",
    "\n",
    "1. Get an average\n",
    "2. Get a list of grades above the average using a for loop\n",
    "3. Get the number of grades above the average \n",
    "\n",
    "The output expected:\n",
    "```\n",
    "17 grades are above the average 73.74074074074075\n",
    "[88, 76, 78, 87, 100, 77, 89, 92, 87, 88, 95, 99, 76, 87, 98, 87, 89]\n",
    "```\n",
    "\n",
    "#### Using for loop:"
   ]
  },
  {
   "cell_type": "code",
   "execution_count": 3,
   "metadata": {},
   "outputs": [
    {
     "name": "stdout",
     "output_type": "stream",
     "text": [
      "17 grades are above the average 73.74074074074075\n",
      "[88, 76, 78, 87, 100, 77, 89, 92, 87, 88, 95, 99, 76, 87, 98, 87, 89]\n"
     ]
    }
   ],
   "source": [
    "grades = [88,67,45,67,76,78,53,87,12,100,77,89,92,53,55,45,87,88,95,99,76,87,56,45,98,87,89]\n",
    "avg = sum(grades) / len(grades)\n",
    "alist = []\n",
    "for grade in grades:\n",
    "    if grade >= avg:\n",
    "        alist.append(grade)\n",
    "        \n",
    "print(len(alist), \"grades are above the average\", avg)\n",
    "print(alist)"
   ]
  },
  {
   "cell_type": "markdown",
   "metadata": {},
   "source": [
    "#### Using list comprehension"
   ]
  },
  {
   "cell_type": "code",
   "execution_count": 4,
   "metadata": {},
   "outputs": [
    {
     "name": "stdout",
     "output_type": "stream",
     "text": [
      "17 grades are above the average 73.74074074074075\n",
      "[88, 76, 78, 87, 100, 77, 89, 92, 87, 88, 95, 99, 76, 87, 98, 87, 89]\n"
     ]
    }
   ],
   "source": [
    "avg = sum(grades) / len(grades)\n",
    "alist = [grade for grade in grades if grade>=avg]\n",
    "        \n",
    "print(len(alist), \"grades are above the average\", avg)\n",
    "print(alist)"
   ]
  },
  {
   "cell_type": "markdown",
   "metadata": {},
   "source": [
    "## 3. Given a three-digit number. Find the sum of its digits.\n",
    "\n",
    "Print the sum of three-digit number which is an integer.\n",
    "\n",
    "For example, print `10` if `316`, `13` if `256`, `18` if `567`. \n"
   ]
  },
  {
   "cell_type": "markdown",
   "metadata": {},
   "source": [
    "Using built-in function `sum()`, `int()`, and list comprehension, we can just do it in one line of code.\n",
    "\n",
    "- To use built-in `sum()` function, use `del` command to undefine sum which was previously defined.\n",
    "- `Input()` returns a `str` type data. \n",
    "- Use list comprehension and get each character.\n",
    "- Use `sum()` to sum up the element in the list. "
   ]
  },
  {
   "cell_type": "code",
   "execution_count": 7,
   "metadata": {},
   "outputs": [
    {
     "name": "stdout",
     "output_type": "stream",
     "text": [
      "Enter an int number: 567\n",
      "18\n"
     ]
    }
   ],
   "source": [
    "# del sum\n",
    "# Read an integer as a string:\n",
    "s = input(\"Enter an int number: \")\n",
    "\n",
    "# for example, print 6 if a is 123, 18 if a is 369. \n",
    "total = sum([int(i) for i in s])   \n",
    "print(total)"
   ]
  },
  {
   "cell_type": "markdown",
   "metadata": {},
   "source": [
    "## 4. Create the following dict type data set.\n",
    "\n",
    "```\n",
    "data = {'a': 1, 'b': 2, 'c': 3, ..., 'x': 24, 'y': 25, 'z': 26}\n",
    "```\n",
    "- You may import the sequence of ASCII lowercase as shown below:\n",
    "\n",
    "```\n",
    "from string import ascii_lowercase as lowers\n",
    "```"
   ]
  },
  {
   "cell_type": "markdown",
   "metadata": {},
   "source": [
    "#### Solution 1: Using dict() function and zip()."
   ]
  },
  {
   "cell_type": "code",
   "execution_count": 10,
   "metadata": {},
   "outputs": [
    {
     "name": "stdout",
     "output_type": "stream",
     "text": [
      "{'a': 1, 'b': 2, 'c': 3, 'd': 4, 'e': 5, 'f': 6, 'g': 7, 'h': 8, 'i': 9, 'j': 10, 'k': 11, 'l': 12, 'm': 13, 'n': 14, 'o': 15, 'p': 16, 'q': 17, 'r': 18, 's': 19, 't': 20, 'u': 21, 'v': 22, 'w': 23, 'x': 24, 'y': 25, 'z': 26}\n"
     ]
    }
   ],
   "source": [
    "from string import ascii_lowercase as lowers\n",
    "\n",
    "data = dict( (c,i) for c,i in zip(lowers, range(1,27)) )\n",
    "print(data)"
   ]
  },
  {
   "cell_type": "markdown",
   "metadata": {},
   "source": [
    "#### Solution 2: Using dict comprehension\n"
   ]
  },
  {
   "cell_type": "code",
   "execution_count": 32,
   "metadata": {},
   "outputs": [
    {
     "name": "stdout",
     "output_type": "stream",
     "text": [
      "{'a': 1, 'b': 2, 'c': 3, 'd': 4, 'e': 5, 'f': 6, 'g': 7, 'h': 8, 'i': 9, 'j': 10, 'k': 11, 'l': 12, 'm': 13, 'n': 14, 'o': 15, 'p': 16, 'q': 17, 'r': 18, 's': 19, 't': 20, 'u': 21, 'v': 22, 'w': 23, 'x': 24, 'y': 25, 'z': 26}\n"
     ]
    }
   ],
   "source": [
    "data = { k:v for k,v in zip(lowers,range(1,27)) }\n",
    "print(data)"
   ]
  },
  {
   "cell_type": "markdown",
   "metadata": {},
   "source": [
    "### Pythagorean triplet 1 - Warming-up\n",
    "\n",
    "A Pythagorean triplet is a set of three positive integers a, b and c such that $a^2 + b^2 = c^2$. Given a limit, generate all Pythagorean Triples with values smaller than given limit n. Assume that a < b < c.\n",
    "\n",
    "피타고라스 정리(Pythagorean theorem)는 직각 삼각형의 빗변의 제곱이 두 직각변의 제곱의 합과 같다라는 것입니다.  삼각형 세 변의 길이가 각각 a, b, c 이며, a < b < c 라고 가정한다면, $a^2 + b^2 = c^2$ 를 만족합니다. 피타고라스 정리의 조건을 만족하는 n 보다 작은 정수 a, b, c를 요소로 하는 list를 출력하십시오. \n",
    "\n",
    "If n is 10, the following output is expected:\n",
    "\n",
    "```\n",
    "3, 4, 5\n",
    "6, 8, 10\n",
    "```\n",
    "\n",
    "If n is 20, the following output is expected:\n",
    "```\n",
    "3, 4, 5\n",
    "5, 12, 13\n",
    "6, 8, 10\n",
    "8, 15, 17\n",
    "9, 12, 15\n",
    "12, 16, 20\n",
    "```\n",
    "\n",
    "__Hints and Tips__: You may use `sep` option duing print(). "
   ]
  },
  {
   "cell_type": "code",
   "execution_count": 15,
   "metadata": {
    "scrolled": true
   },
   "outputs": [
    {
     "name": "stdout",
     "output_type": "stream",
     "text": [
      "3, 4, 5\n",
      "5, 12, 13\n",
      "6, 8, 10\n",
      "8, 15, 17\n",
      "9, 12, 15\n"
     ]
    }
   ],
   "source": [
    "n = 20\n",
    "for a in range(1, n):\n",
    "    for b in range(a, n):\n",
    "        for c in range(b, n):\n",
    "            if a * a + b * b == c * c:\n",
    "                print(a, b, c, sep = ', ')"
   ]
  },
  {
   "cell_type": "markdown",
   "metadata": {},
   "source": [
    "## 5. Pythagorean triplet 2\n",
    "Write a function, `pythagorean(n)`, that returns a list of Pythagorean triplet lists. \n",
    "\n",
    "If n is 20, the following output is expected:\n",
    "\n",
    "```\n",
    "[[3, 4, 5], [5, 12, 13], [6, 8, 10], [8, 15, 17], [9, 12, 15], [12, 16, 20]]\n",
    "```"
   ]
  },
  {
   "cell_type": "code",
   "execution_count": 19,
   "metadata": {},
   "outputs": [
    {
     "data": {
      "text/plain": [
       "[[3, 4, 5], [5, 12, 13], [6, 8, 10], [8, 15, 17], [9, 12, 15], [12, 16, 20]]"
      ]
     },
     "execution_count": 19,
     "metadata": {},
     "output_type": "execute_result"
    }
   ],
   "source": [
    "def pythagorean(n):\n",
    "    tlist = []\n",
    "    for a in range(1, n+1):\n",
    "        for b in range(a, n+1):\n",
    "            for c in range(b, n+1):\n",
    "                if a * a + b * b == c * c:\n",
    "                    tlist.append([a,b,c])\n",
    "    return tlist\n",
    "\n",
    "n = 20\n",
    "pythagorean(n) "
   ]
  },
  {
   "cell_type": "markdown",
   "metadata": {},
   "source": [
    "## 6. Pythagorean triplet 3\n",
    "Write a function, `pythagorean(n)`, that returns a list of Pythagorean triplet tuples. The __tuple__ data type in Python just works like a __list__ but it is immutable.\n",
    "\n",
    "If n is 20, the following output is expected:\n",
    "\n",
    "```\n",
    "[(3, 4, 5), (5, 12, 13), (6, 8, 10), (8, 15, 17), (9, 12, 15), (12, 16, 20)]\n",
    "```"
   ]
  },
  {
   "cell_type": "code",
   "execution_count": 20,
   "metadata": {},
   "outputs": [
    {
     "data": {
      "text/plain": [
       "[(3, 4, 5), (5, 12, 13), (6, 8, 10), (8, 15, 17), (9, 12, 15), (12, 16, 20)]"
      ]
     },
     "execution_count": 20,
     "metadata": {},
     "output_type": "execute_result"
    }
   ],
   "source": [
    "def pythagorean(n):\n",
    "    tlist = []\n",
    "    for a in range(1, n+1):\n",
    "        for b in range(a, n+1):\n",
    "            for c in range(b, n+1):\n",
    "                if a * a + b * b == c * c:\n",
    "                    tlist.append((a,b,c))\n",
    "    return tlist\n",
    "\n",
    "n = 20\n",
    "pythagorean(n) "
   ]
  },
  {
   "cell_type": "markdown",
   "metadata": {},
   "source": [
    "## 7. Pythagorean triplet 4\n",
    "Using a list comprehension, implement `pythagorean(n)`, that returns a list of Pythagorean triplet tuples. "
   ]
  },
  {
   "cell_type": "code",
   "execution_count": 23,
   "metadata": {},
   "outputs": [
    {
     "data": {
      "text/plain": [
       "[(3, 4, 5), (5, 12, 13), (6, 8, 10), (8, 15, 17), (9, 12, 15), (12, 16, 20)]"
      ]
     },
     "execution_count": 23,
     "metadata": {},
     "output_type": "execute_result"
    }
   ],
   "source": [
    "def pythagorean(n):\n",
    "    return [(a,b,c) for a in range(1, n+1) \n",
    "            for b in range(a, n+1) \n",
    "            for c in range(b,n+1) if a * a + b * b == c * c]\n",
    "\n",
    "n = 20\n",
    "pythagorean(n) "
   ]
  },
  {
   "cell_type": "markdown",
   "metadata": {},
   "source": [
    "### Reference for Pythagorean triplet\n",
    "\n",
    "There are some useful discussions to make this function faster. \n",
    "\n",
    "- https://stackoverflow.com/questions/575117/generating-unique-ordered-pythagorean-triplets\n",
    "\n",
    "- https://www.geeksforgeeks.org/generate-pythagorean-triplets/"
   ]
  },
  {
   "cell_type": "markdown",
   "metadata": {},
   "source": [
    "## Key Points to Remember\n",
    "- List comprehension is an elegant way to define and create lists based on existing lists.\n",
    "- List comprehension is generally more compact and faster than normal functions and loops for creating list.\n",
    "- However, we should avoid writing very long list comprehensions in one line to ensure that code is user-friendly.\n",
    "- Remember, every list comprehension can be rewritten in for loop, but every for loop can’t be rewritten in the form of list comprehension."
   ]
  },
  {
   "cell_type": "markdown",
   "metadata": {},
   "source": [
    "--------\n",
    "__슬기로운 자는 재앙을 보면 숨어 피하여도 어리석은 자들은 나가다가 해를 받느니라.__\n",
    "잠언27:12"
   ]
  }
 ],
 "metadata": {
  "kernelspec": {
   "display_name": "Python 3",
   "language": "python",
   "name": "python3"
  },
  "language_info": {
   "codemirror_mode": {
    "name": "ipython",
    "version": 3
   },
   "file_extension": ".py",
   "mimetype": "text/x-python",
   "name": "python",
   "nbconvert_exporter": "python",
   "pygments_lexer": "ipython3",
   "version": "3.8.3"
  }
 },
 "nbformat": 4,
 "nbformat_minor": 1
}
