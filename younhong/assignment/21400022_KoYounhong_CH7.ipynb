{
 "cells": [
  {
   "cell_type": "markdown",
   "metadata": {},
   "source": [
    "# Welcome to \"CrushPython\"\n",
    "\n",
    "\n",
    "__The prudent see danger and take refuge, but the simple keep going and suffer for it.__ Proverbs 27:12\n",
    "\n",
    "---------"
   ]
  },
  {
   "cell_type": "markdown",
   "metadata": {},
   "source": [
    "# Lesson - List comprehension \n",
    "\n",
    "### What is List Comprehension?\n",
    "- List comprehensions provide us with a simple way to create a list based on some iterable. During the creation, elements from the iterable can be conditionally included in the new list and transformed as needed. An iterable is something you can loop over. \n",
    "\n",
    "### Three components of a comprehension\n",
    "\n",
    "The components of a list comprehension are:\n",
    "- Output Expression (Optional)\n",
    "- Iterable\n",
    "- Iterator variable which represents the members of the iterable"
   ]
  },
  {
   "cell_type": "markdown",
   "metadata": {},
   "source": [
    "### Syntax\n",
    "- The syntax is:\n",
    "    - [**expression** for **variable** in **iterable**] \n",
    "\n",
    "    - [**expression** for **variable** in **iterable** if **condition**] \n",
    "    \n",
    "- It sounds like \n",
    "\n",
    "```\n",
    "    - [output expression for item in iterable]\n",
    "    - [output expression for item in iterable if condition]\n",
    "```\n",
    "\n",
    "- The `if` **condition** part is optional, the statement and the condition can use variable.\n",
    "\n",
    "<img src=\"https://github.com/idebtor/KMOOC-ML/blob/master/ipynb/images/list_comprehension.png?raw=true\" width=\"600\">\n",
    "<center>그림 1: 리스트 컴프리헨션</center>"
   ]
  },
  {
   "cell_type": "markdown",
   "metadata": {},
   "source": [
    "### Three kinds of Comprehensions\n",
    "There are three different kind of comprehensions in Python\n",
    "\n",
    "- list comprehensions, \n",
    "- set comprehensions and \n",
    "- dictionary comprehensions"
   ]
  },
  {
   "cell_type": "markdown",
   "metadata": {},
   "source": [
    "## 1. Loops and Comprehensions \n",
    "\n",
    "The list comprehensions are more efficient both computationally and in terms of coding space and time than a for loop. \n",
    "Typically, they are written in a single line of code."
   ]
  },
  {
   "cell_type": "markdown",
   "metadata": {},
   "source": [
    "### Example 1\n",
    "\n",
    "#### Using hand-coding \n",
    "\n",
    "Create a list from 0 to 9 by hand-coding. "
   ]
  },
  {
   "cell_type": "code",
   "execution_count": 3,
   "metadata": {},
   "outputs": [],
   "source": [
    "numbers = [0, 1, 2, 3, 4, 5, 6, 7, 8, 9]"
   ]
  },
  {
   "cell_type": "markdown",
   "metadata": {},
   "source": [
    "#### Using for loop\n",
    "Creat a list from 0 to 9 using a for loop"
   ]
  },
  {
   "cell_type": "code",
   "execution_count": 4,
   "metadata": {},
   "outputs": [
    {
     "data": {
      "text/plain": [
       "[0, 1, 2, 3, 4, 5, 6, 7, 8, 9]"
      ]
     },
     "execution_count": 4,
     "metadata": {},
     "output_type": "execute_result"
    }
   ],
   "source": [
    "numbers = []\n",
    "for i in range(10):\n",
    "    numbers.append(i)\n",
    "    \n",
    "numbers"
   ]
  },
  {
   "cell_type": "code",
   "execution_count": 5,
   "metadata": {},
   "outputs": [
    {
     "data": {
      "text/plain": [
       "[0, 1, 2, 3, 4, 5, 6, 7, 8, 9]"
      ]
     },
     "execution_count": 5,
     "metadata": {},
     "output_type": "execute_result"
    }
   ],
   "source": [
    "numbers = []\n",
    "for i in range(10):\n",
    "    numbers += [i]\n",
    "    \n",
    "numbers"
   ]
  },
  {
   "cell_type": "markdown",
   "metadata": {},
   "source": [
    "#### Using List comprehension"
   ]
  },
  {
   "cell_type": "code",
   "execution_count": 6,
   "metadata": {},
   "outputs": [
    {
     "data": {
      "text/plain": [
       "[0, 1, 2, 3, 4, 5, 6, 7, 8, 9]"
      ]
     },
     "execution_count": 6,
     "metadata": {},
     "output_type": "execute_result"
    }
   ],
   "source": [
    "numbers = [i for i in range(10)]\n",
    "numbers"
   ]
  },
  {
   "cell_type": "markdown",
   "metadata": {},
   "source": [
    "### Example 2\n",
    "\n",
    "Generate numbers squared from 1 to 10 using a list comprehension as shown below\n",
    "```\n",
    "[1, 4, 9, 16, 25, 36, 49, 64, 81, 100]\n",
    "```\n",
    "\n",
    "#### Using a for loop"
   ]
  },
  {
   "cell_type": "code",
   "execution_count": 7,
   "metadata": {},
   "outputs": [
    {
     "name": "stdout",
     "output_type": "stream",
     "text": [
      "[1, 4, 9, 16, 25, 36, 49, 64, 81, 100]\n"
     ]
    }
   ],
   "source": [
    "squares = []\n",
    "for x in range(1,11):\n",
    "    squares.append(x*x)\n",
    "print(squares)"
   ]
  },
  {
   "cell_type": "markdown",
   "metadata": {},
   "source": [
    "#### Using list comprehension"
   ]
  },
  {
   "cell_type": "code",
   "execution_count": 8,
   "metadata": {},
   "outputs": [
    {
     "data": {
      "text/plain": [
       "[1, 4, 9, 16, 25, 36, 49, 64, 81, 100]"
      ]
     },
     "execution_count": 8,
     "metadata": {},
     "output_type": "execute_result"
    }
   ],
   "source": [
    "numbers = [x*x for x in range(1,11)]\n",
    "numbers"
   ]
  },
  {
   "cell_type": "markdown",
   "metadata": {},
   "source": [
    "### Example 3\n",
    "\n",
    "Generate odd numbers squared from 1 to 10 using a list comprehension as shown below\n",
    "```\n",
    "squares = [1, 9, 25, 49, 81]\n",
    "```\n",
    "\n",
    "\n",
    "#### Using a for loop \n",
    "- With using a conditional statement `if`\n",
    "- Without using a conditional statement `if`, but utilizing the step in range()"
   ]
  },
  {
   "cell_type": "code",
   "execution_count": 9,
   "metadata": {},
   "outputs": [
    {
     "name": "stdout",
     "output_type": "stream",
     "text": [
      "[1, 9, 25, 49, 81]\n"
     ]
    }
   ],
   "source": [
    "# using for loop and a conditional statement `if`\n",
    "squares = []\n",
    "for x in range(1,11):\n",
    "    if x%2 == 1:\n",
    "        squares.append(x*x)\n",
    "print(squares)"
   ]
  },
  {
   "cell_type": "code",
   "execution_count": 10,
   "metadata": {},
   "outputs": [
    {
     "name": "stdout",
     "output_type": "stream",
     "text": [
      "[1, 9, 25, 49, 81]\n"
     ]
    }
   ],
   "source": [
    "# using for loop without a conditional statement `if`, but utilizing the step in range()\n",
    "squares = []\n",
    "for x in range(1,11,2):\n",
    "    squares.append(x*x)\n",
    "print(squares)"
   ]
  },
  {
   "cell_type": "markdown",
   "metadata": {},
   "source": [
    "#### Using list comprehension\n",
    "\n",
    "We can also create more advanced list comprehensions which include __a conditional statement__ on the iterable. "
   ]
  },
  {
   "cell_type": "code",
   "execution_count": 11,
   "metadata": {},
   "outputs": [
    {
     "name": "stdout",
     "output_type": "stream",
     "text": [
      "[1, 9, 25, 49, 81]\n"
     ]
    }
   ],
   "source": [
    "# list comprehension without if, but use the step in range()\n",
    "squares = [x*x for x in range(1,11,2)]\n",
    "print(squares)"
   ]
  },
  {
   "cell_type": "code",
   "execution_count": 12,
   "metadata": {},
   "outputs": [
    {
     "name": "stdout",
     "output_type": "stream",
     "text": [
      "[1, 9, 25, 49, 81]\n"
     ]
    }
   ],
   "source": [
    "# list comprehension with if \n",
    "squares = [x*x for x in range(1,11) if x % 2 == 1]\n",
    "print(squares)"
   ]
  },
  {
   "cell_type": "markdown",
   "metadata": {},
   "source": [
    "### Example 4\n",
    "\n",
    "Convert a list of temperatures in Celsius into Fahrenheit using \n",
    "\n",
    "- Using a for loop and \n",
    "- Using a list comprehension, \n",
    "\n",
    "You may convert a Celsisus into Fahrenheit using the formula:\n",
    "\n",
    "```f = 1.8 * c + 32```"
   ]
  },
  {
   "cell_type": "code",
   "execution_count": 13,
   "metadata": {},
   "outputs": [
    {
     "name": "stdout",
     "output_type": "stream",
     "text": [
      "[14.0, 32.0, 50.0, 122.0, 212.0, 392.0]\n"
     ]
    }
   ],
   "source": [
    "clist = [-10, 0, 10, 50, 100, 200]\n",
    "flist = []\n",
    "for c in clist:\n",
    "    flist.append(1.8 * c + 32)\n",
    "    \n",
    "print(flist)"
   ]
  },
  {
   "cell_type": "code",
   "execution_count": 14,
   "metadata": {},
   "outputs": [
    {
     "data": {
      "text/plain": [
       "[14.0, 32.0, 50.0, 122.0, 212.0, 392.0]"
      ]
     },
     "execution_count": 14,
     "metadata": {},
     "output_type": "execute_result"
    }
   ],
   "source": [
    "#use list comprehension\n",
    "clist = [-10, 0, 10, 50, 100, 200] \n",
    "flist = [1.8*c+32 for c in clist]\n",
    "flist"
   ]
  },
  {
   "cell_type": "markdown",
   "metadata": {},
   "source": [
    "### Example 5: Using nested `if` \n",
    "\n",
    "Find numbers that are divisible by 2 and 3 from 1 to 50.\n",
    "\n",
    "The output we are expecting is\n",
    "```\n",
    "[6, 12, 18, 24, 30, 36, 42, 48]\n",
    "```\n",
    "\n",
    "#### Using logical `and`"
   ]
  },
  {
   "cell_type": "code",
   "execution_count": 15,
   "metadata": {},
   "outputs": [
    {
     "data": {
      "text/plain": [
       "[6, 12, 18, 24, 30, 36, 42, 48]"
      ]
     },
     "execution_count": 15,
     "metadata": {},
     "output_type": "execute_result"
    }
   ],
   "source": [
    "num = [ x for x in range(1,51) if x%2==0 and x%3==0 ]\n",
    "num"
   ]
  },
  {
   "cell_type": "markdown",
   "metadata": {},
   "source": [
    "#### Using nested `if`"
   ]
  },
  {
   "cell_type": "code",
   "execution_count": 16,
   "metadata": {},
   "outputs": [
    {
     "data": {
      "text/plain": [
       "[6, 12, 18, 24, 30, 36, 42, 48]"
      ]
     },
     "execution_count": 16,
     "metadata": {},
     "output_type": "execute_result"
    }
   ],
   "source": [
    "num = [ x for x in range(1,51) if x%2==0 if x%3==0 ]\n",
    "num"
   ]
  },
  {
   "cell_type": "markdown",
   "metadata": {},
   "source": [
    "### Example 6\n",
    "\n",
    "Let's suppose we have lists in a list. For example, a matrix is a sort of lists in a list. Sometimes, we want to make lists in a list into a list. This operation is called `flatten`. For example,  The following matrix may be flattened \n",
    "\n",
    "```\n",
    "matrix = [ [1, 2, 3, 4],\n",
    "           [5, 6, 7, 8],\n",
    "           [9, 10, 11, 12]]\n",
    "```\n",
    "into \n",
    "```\n",
    "[1, 2, 3, 4, 5, 6, 7, 8, 9, 10, 11, 12]\n",
    "```\n",
    "\n",
    "Flatten the following matrix by\n",
    "- Using for loops\n",
    "- Using list comprehension."
   ]
  },
  {
   "cell_type": "code",
   "execution_count": 17,
   "metadata": {},
   "outputs": [
    {
     "data": {
      "text/plain": [
       "[1, 2, 3, 4, 5, 6, 7, 8, 9, 10, 11, 12]"
      ]
     },
     "execution_count": 17,
     "metadata": {},
     "output_type": "execute_result"
    }
   ],
   "source": [
    "matrix = [\n",
    "    [1, 2, 3, 4],\n",
    "    [5, 6, 7, 8],\n",
    "    [9, 10, 11, 12],\n",
    "]\n",
    "\n",
    "flattened = []\n",
    "for row in matrix:\n",
    "    for col in row:\n",
    "        flattened.append(col)\n",
    "        \n",
    "flattened"
   ]
  },
  {
   "cell_type": "markdown",
   "metadata": {},
   "source": [
    "It flattens the list of the list. "
   ]
  },
  {
   "cell_type": "code",
   "execution_count": 18,
   "metadata": {},
   "outputs": [
    {
     "data": {
      "text/plain": [
       "[1, 2, 3, 4, 5, 6, 7, 8, 9, 10, 11, 12]"
      ]
     },
     "execution_count": 18,
     "metadata": {},
     "output_type": "execute_result"
    }
   ],
   "source": [
    "flattened = [ x for row in matrix for x in row ]      # incorrect ->  [n for n in row for row in matrix]\n",
    "flattened"
   ]
  },
  {
   "cell_type": "markdown",
   "metadata": {},
   "source": [
    "## 2. List Comprehension vs loop\n",
    "\n",
    "The list comprehensions is more efficient in terms of coding space than a `for` loop since they are typically written in a single line of code. Computationally, however, is it always faster than For-loops?  Let's find out.\n",
    "\n",
    "### Step 1:\n",
    "\n",
    "Let’s square for every item in a list from 1 to 5 such that it produces the following:\n",
    "\n",
    "```[1, 4, 9, 16, 25]```\n",
    "\n",
    "Let's implement this (when N = 5) when  using a for loop. "
   ]
  },
  {
   "cell_type": "code",
   "execution_count": 19,
   "metadata": {},
   "outputs": [
    {
     "name": "stdout",
     "output_type": "stream",
     "text": [
      "[1, 4, 9, 16, 25]\n"
     ]
    }
   ],
   "source": [
    "N = 5\n",
    "result = []\n",
    "for x in range(1, N + 1):\n",
    "    result.append(x * x)\n",
    "    \n",
    "print(result)"
   ]
  },
  {
   "cell_type": "markdown",
   "metadata": {},
   "source": [
    "### Step 2:\n",
    "\n",
    "Let us implement it as a function that returns a list."
   ]
  },
  {
   "cell_type": "code",
   "execution_count": 20,
   "metadata": {},
   "outputs": [],
   "source": [
    "def squares(N):\n",
    "    result = []\n",
    "    for x in range(1, N + 1):\n",
    "        result.append(x * x)\n",
    "    return result"
   ]
  },
  {
   "cell_type": "markdown",
   "metadata": {},
   "source": [
    "### Step 3:\n",
    "\n",
    "Let us implement it as a list comprehension."
   ]
  },
  {
   "cell_type": "code",
   "execution_count": 21,
   "metadata": {},
   "outputs": [],
   "source": [
    "def squares_x(N):\n",
    "    return [x*x for x in range(1, N+1)]"
   ]
  },
  {
   "cell_type": "markdown",
   "metadata": {},
   "source": [
    "### Step 4\n",
    "Let us run two functions 10_000 times, respectively and time it."
   ]
  },
  {
   "cell_type": "code",
   "execution_count": 22,
   "metadata": {},
   "outputs": [
    {
     "name": "stdout",
     "output_type": "stream",
     "text": [
      "908 µs ± 61.7 µs per loop (mean ± std. dev. of 7 runs, 1000 loops each)\n"
     ]
    }
   ],
   "source": [
    "%%timeit\n",
    "N = 10_000\n",
    "ans = squares(N)"
   ]
  },
  {
   "cell_type": "code",
   "execution_count": 23,
   "metadata": {},
   "outputs": [
    {
     "name": "stdout",
     "output_type": "stream",
     "text": [
      "623 ns ± 15.2 ns per loop (mean ± std. dev. of 7 runs, 1000000 loops each)\n"
     ]
    }
   ],
   "source": [
    "%%timeit\n",
    "ans = squares_x(N)"
   ]
  },
  {
   "cell_type": "markdown",
   "metadata": {},
   "source": [
    "## 3. A pythonic way of coding: For-loop vs List comprehension\n",
    "\n",
    "#### A sort of Palindrome(회문)\n",
    "\n",
    "A string is said to be __palindrome__ if the reverse of the string is the same as string. For example, “radar”or \"civic\" is a palindrome, \n",
    "\n",
    "Emordnilaps are like __palindromes'__ evil twins. Instead of being the same word, these rare words make a different real word when spelled backward! Reverse the word \"stop\" and it becomes \"pots.\" Flip \"drawer\" and you get \"reward.\" English contains a surprising variety of words that change meanings as soon as you read them right to left.\n",
    "\n",
    "Emordnilap Examples: \n",
    "- desserts and stressed, \n",
    "- decaf and faced\n",
    "- edit and tide\n",
    "- deeps and speed\n",
    "- stops and spots"
   ]
  },
  {
   "cell_type": "code",
   "execution_count": 24,
   "metadata": {},
   "outputs": [],
   "source": [
    "from urllib.request import urlopen \n",
    "#book = urlopen('http://www.gutenberg.org/cache/epub/10/pg10.txt')\n",
    "book = urlopen('http://composingprograms.com/shakespeare.txt')\n",
    "\n",
    "# Make a list words out of the book read from url.\n",
    "wlist = book.read().decode().split()"
   ]
  },
  {
   "cell_type": "code",
   "execution_count": 25,
   "metadata": {},
   "outputs": [
    {
     "data": {
      "text/plain": [
       "980637"
      ]
     },
     "execution_count": 25,
     "metadata": {},
     "output_type": "execute_result"
    }
   ],
   "source": [
    "len(wlist)"
   ]
  },
  {
   "cell_type": "code",
   "execution_count": 26,
   "metadata": {},
   "outputs": [
    {
     "name": "stdout",
     "output_type": "stream",
     "text": [
      "33505\n",
      "33505\n"
     ]
    }
   ],
   "source": [
    "## make a list that has a set of unique words.\n",
    "ulist = set(wlist)\n",
    "print(len(ulist))\n",
    "# then, convert the set back to a list type\n",
    "wlist = list(ulist)\n",
    "print(len(wlist))"
   ]
  },
  {
   "cell_type": "markdown",
   "metadata": {},
   "source": [
    "## Finding Emordnilaps - a sort of Palindrome\n",
    "\n",
    "- Using for-loop"
   ]
  },
  {
   "cell_type": "code",
   "execution_count": 27,
   "metadata": {},
   "outputs": [
    {
     "name": "stdout",
     "output_type": "stream",
     "text": [
      "['drawer', 'redder', 'diaper', 'reward', 'repaid']\n"
     ]
    }
   ],
   "source": [
    "alist = []\n",
    "for w in wlist:\n",
    "    if len(w) == 6 and w[::-1] in wlist:\n",
    "        alist.append(w)\n",
    "\n",
    "print(alist)"
   ]
  },
  {
   "cell_type": "markdown",
   "metadata": {},
   "source": [
    "## a pythonic way?\n",
    "\n",
    "- using list comprehension"
   ]
  },
  {
   "cell_type": "code",
   "execution_count": 28,
   "metadata": {},
   "outputs": [
    {
     "name": "stdout",
     "output_type": "stream",
     "text": [
      "['drawer', 'redder', 'diaper', 'reward', 'repaid']\n"
     ]
    }
   ],
   "source": [
    "alist = [w for w in wlist if len(w)==6 and w[::-1] in wlist]\n",
    "print(alist)"
   ]
  },
  {
   "cell_type": "markdown",
   "metadata": {},
   "source": [
    "#### Which one is more efficient computationally?\n",
    "\n",
    "- You may use `%%time` instead of `%%timeit` since it takes long enough to run it once."
   ]
  },
  {
   "cell_type": "code",
   "execution_count": 29,
   "metadata": {},
   "outputs": [
    {
     "name": "stdout",
     "output_type": "stream",
     "text": [
      "CPU times: user 7.87 s, sys: 33.6 ms, total: 7.9 s\n",
      "Wall time: 7.98 s\n"
     ]
    }
   ],
   "source": [
    "%%time\n",
    "alist = []\n",
    "for w in wlist:\n",
    "    if len(w) == 6 and w[::-1] in wlist:\n",
    "        alist.append(w)"
   ]
  },
  {
   "cell_type": "code",
   "execution_count": 30,
   "metadata": {},
   "outputs": [
    {
     "name": "stdout",
     "output_type": "stream",
     "text": [
      "CPU times: user 7.34 s, sys: 14.1 ms, total: 7.35 s\n",
      "Wall time: 7.39 s\n"
     ]
    }
   ],
   "source": [
    "%%time\n",
    "alist = [w for w in wlist if len(w)==6 and w[::-1] in wlist]"
   ]
  },
  {
   "cell_type": "markdown",
   "metadata": {},
   "source": [
    "## 4. Dictionary\n",
    "\n",
    "Python dictionary is an unordered collection of items. Each item of a dictionary has a key/value pair. Creating a dictionary is as simple as placing items inside curly braces `{ }` separated by commas.\n",
    "\n",
    "An item has a key and a corresponding value that is expressed as a pair or `key: value`. You may use the `dict()` construct. \n",
    "\n",
    "For example: \n",
    "```\n",
    "my_dict = {'apple': 5, 'orange': 10}\n",
    "ur_dict = {'apple': 2, 'banana': 3, 'kiwi': 1, 'mango': 5}\n",
    "\n",
    "store = {'apple': 2, 'banana': 8, 'kiwi': 1, 'mango': 9}\n",
    "```"
   ]
  },
  {
   "cell_type": "markdown",
   "metadata": {},
   "source": [
    "#### Example 1: construct a dictionary from a list.\n",
    "```\n",
    "alist = [('apple', 2), ('banana', 8), ('kiwi', 1), ('mango', 9)]\n",
    "\n",
    "store = {'apple': 2, 'banana': 8, 'kiwi': 1, 'mango': 9}\n",
    "```"
   ]
  },
  {
   "cell_type": "code",
   "execution_count": 31,
   "metadata": {},
   "outputs": [
    {
     "name": "stdout",
     "output_type": "stream",
     "text": [
      "{'apple': 2, 'banana': 8, 'kiwi': 1, 'mango': 9}\n"
     ]
    }
   ],
   "source": [
    "alist = [('apple', 2), ('banana', 8), ('kiwi', 1), ('mango', 9)]\n",
    "store = dict(alist)\n",
    "print(store)"
   ]
  },
  {
   "cell_type": "markdown",
   "metadata": {},
   "source": [
    "#### Example 2: List all keys\n",
    "```\n",
    "store = {'apple': 2, 'banana': 8, 'kiwi': 1, 'mango': 9}\n",
    "alist = ['apple', 'banana', 'kiwi', 'mango']\n",
    "```"
   ]
  },
  {
   "cell_type": "code",
   "execution_count": 32,
   "metadata": {},
   "outputs": [
    {
     "name": "stdout",
     "output_type": "stream",
     "text": [
      "['apple', 'banana', 'kiwi', 'mango']\n"
     ]
    }
   ],
   "source": [
    "store = {'apple': 2, 'banana': 8, 'kiwi': 1, 'mango': 9}\n",
    "alist = list(store.keys())\n",
    "print(alist)"
   ]
  },
  {
   "cell_type": "markdown",
   "metadata": {},
   "source": [
    "#### Example 3: List all values and its sum\n",
    "```\n",
    "store = {'apple': 2, 'banana': 8, 'kiwi': 1, 'mango': 9}\n",
    "alist = [2, 8, 1, 9]\n",
    "20\n",
    "```"
   ]
  },
  {
   "cell_type": "code",
   "execution_count": 33,
   "metadata": {},
   "outputs": [
    {
     "name": "stdout",
     "output_type": "stream",
     "text": [
      "[2, 8, 1, 9]\n",
      "20\n"
     ]
    }
   ],
   "source": [
    "store = {'apple': 2, 'banana': 8, 'kiwi': 1, 'mango': 9}\n",
    "alist = list(store.values())\n",
    "print(alist)\n",
    "print(sum(alist))"
   ]
  },
  {
   "cell_type": "markdown",
   "metadata": {},
   "source": [
    "#### Example 4: List all key: value pairs\n",
    "\n",
    "```\n",
    "apple:2, banana:8, kiwi:1, mango:9\n",
    "```\n",
    "\n",
    "__Hint:__ \n",
    "- Use for-loop and items()"
   ]
  },
  {
   "cell_type": "code",
   "execution_count": 38,
   "metadata": {},
   "outputs": [
    {
     "name": "stdout",
     "output_type": "stream",
     "text": [
      "apple:2 banana:8 kiwi:1 mango:9 "
     ]
    }
   ],
   "source": [
    "store = {'apple': 2, 'banana': 8, 'kiwi': 1, 'mango': 9}\n",
    "for k,v in store.items():\n",
    "    print(k, v, sep=\":\", end=\" \")"
   ]
  },
  {
   "cell_type": "markdown",
   "metadata": {},
   "source": [
    "## 5. Dict Comprehension \n",
    "\n",
    "A dictionary is a collection of __key/value pairs__. Python has various methods to work in dictionaries. "
   ]
  },
  {
   "cell_type": "markdown",
   "metadata": {},
   "source": [
    "#### Example 1. Make a dict from two lists.\n",
    "\n",
    "```\n",
    "fruit = ['apple', 'banana', 'kiwi', 'mango']\n",
    "count = [2, 8, 1, 9]\n",
    "\n",
    "store = {'apple': 2, 'banana': 8, 'kiwi': 1, {'mango': 9}\n",
    "```\n",
    "__Hint:__ \n",
    "- Use `zip()` to combine fruit and count as a pair. \n",
    "- Use list comprehension to make a list of those pairs.\n",
    "- Use `dict()` construct to convert the list to a dict data type\n",
    "\n",
    "#### Solution 1: Using for-loop"
   ]
  },
  {
   "cell_type": "code",
   "execution_count": 39,
   "metadata": {},
   "outputs": [
    {
     "name": "stdout",
     "output_type": "stream",
     "text": [
      "{'apple': 2, 'banana': 8, 'kiwi': 1, 'mango': 9}\n"
     ]
    }
   ],
   "source": [
    "#converting two lists or sets into one dict type object\n",
    "fruit = ['apple', 'banana', 'kiwi', 'mango']\n",
    "count = [2, 8, 1, 9]\n",
    "alist = []\n",
    "\n",
    "for f,c in zip(fruit,count):\n",
    "    alist.append((f,c))\n",
    "\n",
    "store = dict(alist)\n",
    "print(store)"
   ]
  },
  {
   "cell_type": "markdown",
   "metadata": {},
   "source": [
    "#### Solution 2: Using list-comprehension"
   ]
  },
  {
   "cell_type": "code",
   "execution_count": 40,
   "metadata": {},
   "outputs": [
    {
     "name": "stdout",
     "output_type": "stream",
     "text": [
      "{'apple': 2, 'banana': 8, 'kiwi': 1, 'mango': 9}\n"
     ]
    }
   ],
   "source": [
    "fruit = ['apple', 'banana', 'kiwi', 'mango']\n",
    "count = [2, 8, 1, 9]\n",
    "\n",
    "alist = [(f,c) for f,c in zip(fruit, count)]\n",
    "store = dict(alist)\n",
    "print(store)"
   ]
  },
  {
   "cell_type": "markdown",
   "metadata": {},
   "source": [
    "--------\n",
    "__슬기로운 자는 재앙을 보면 숨어 피하여도 어리석은 자들은 나가다가 해를 받느니라.__\n",
    "잠언27:12"
   ]
  }
 ],
 "metadata": {
  "kernelspec": {
   "display_name": "Python 3",
   "language": "python",
   "name": "python3"
  },
  "language_info": {
   "codemirror_mode": {
    "name": "ipython",
    "version": 3
   },
   "file_extension": ".py",
   "mimetype": "text/x-python",
   "name": "python",
   "nbconvert_exporter": "python",
   "pygments_lexer": "ipython3",
   "version": "3.8.3"
  }
 },
 "nbformat": 4,
 "nbformat_minor": 1
}
