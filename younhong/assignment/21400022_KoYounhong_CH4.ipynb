{
 "cells": [
  {
   "cell_type": "markdown",
   "metadata": {},
   "source": [
    "# Welcome to \"CrushPython\"\n",
    "\n",
    "__So whether you eat or drink or whatever you do, do it all for the glory of God.__ \n",
    "1 Corinthians 10:31\n",
    "\n",
    "\n",
    "------"
   ]
  },
  {
   "cell_type": "markdown",
   "metadata": {},
   "source": [
    "__NOTE:__ The following materials have been compiled and adapted from the numerous sources including Python and Canopy web sites including my own. Please help me to keep this tutorial up-to-date by reporting any issues or questions. Send any comments or criticisms to `idebtor@gmail.com` Your assistances and comments will be appreciated."
   ]
  },
  {
   "cell_type": "markdown",
   "metadata": {},
   "source": [
    "## Revisit Iteration\n",
    "Iteration means executing the same block of code over and over, potentially many times. For example, the following code contains an iterative work of accumulating a series of addtions. It keeps on adding to sum from 1 to n, inclusively."
   ]
  },
  {
   "cell_type": "code",
   "execution_count": 2,
   "metadata": {},
   "outputs": [
    {
     "name": "stdout",
     "output_type": "stream",
     "text": [
      "Sum from 1 to 10 is 55\n"
     ]
    }
   ],
   "source": [
    "# add a series of numbers from 1 to n.\n",
    "n = 10\n",
    "sum = 0\n",
    "\n",
    "for i in range(n):\n",
    "    sum += (i+1)\n",
    "\n",
    "print('Sum from 1 to {} is {}'.format(n, sum))"
   ]
  },
  {
   "cell_type": "markdown",
   "metadata": {},
   "source": [
    "What would you do if you want to do the same kind of job but with a different number `n`? For example, what do we do if want to add numbers upto 20, 50, 200, or 5000. "
   ]
  },
  {
   "cell_type": "code",
   "execution_count": 3,
   "metadata": {},
   "outputs": [
    {
     "name": "stdout",
     "output_type": "stream",
     "text": [
      "Sum from 1 to 10 is 55\n",
      "Sum from 1 to 100 is 5050\n",
      "Sum from 1 to 1000 is 500500\n"
     ]
    }
   ],
   "source": [
    "n = 10\n",
    "sum = 0\n",
    "\n",
    "for i in range(n):\n",
    "    sum += (i+1)\n",
    "\n",
    "\n",
    "print('Sum from 1 to {} is {}'.format(n, sum))\n",
    "\n",
    "n = 100\n",
    "sum = 0\n",
    "\n",
    "for i in range(n):\n",
    "    sum += (i+1)\n",
    "\n",
    "\n",
    "print('Sum from 1 to {} is {}'.format(n, sum))\n",
    "\n",
    "n = 1000\n",
    "sum = 0\n",
    "\n",
    "for i in range(n):\n",
    "    sum += (i+1)\n",
    "\n",
    "\n",
    "print('Sum from 1 to {} is {}'.format(n, sum))"
   ]
  },
  {
   "cell_type": "markdown",
   "metadata": {},
   "source": [
    "To satisfy this kind of needs, we introduce the function. "
   ]
  },
  {
   "cell_type": "markdown",
   "metadata": {},
   "source": [
    "---------\n",
    "\n",
    "# Lesson Function\n",
    "\n",
    "- A function is a block of code which only runs when it is called. \n",
    "- You can pass data, known as parameters, into a function.\n",
    "- A function can return data as a result."
   ]
  },
  {
   "cell_type": "markdown",
   "metadata": {},
   "source": [
    "## 1. Creating a function\n",
    "\n",
    "\n",
    "__Syntax of Function__\n",
    "```\n",
    "def function_name(parameters):\n",
    "\t\"\"\"docstring\"\"\"\n",
    "\tstatement(s)\n",
    "```\n",
    "\n",
    "__For example:__\n",
    "\n",
    "Define a function called `greet_hello()` that prints `Hello from a function`"
   ]
  },
  {
   "cell_type": "code",
   "execution_count": 4,
   "metadata": {},
   "outputs": [],
   "source": [
    "def greet_hello():\n",
    "    print(\"Hello from a function\")"
   ]
  },
  {
   "cell_type": "markdown",
   "metadata": {},
   "source": [
    "## 2. Calling a function \n",
    "\n",
    "To call a function, use the function name followed by parenthesis:\n",
    "\n",
    "__For example:__\n",
    "\n",
    "Invoke `greet_hello()` defined above:"
   ]
  },
  {
   "cell_type": "code",
   "execution_count": 5,
   "metadata": {},
   "outputs": [
    {
     "name": "stdout",
     "output_type": "stream",
     "text": [
      "Hello from a function\n"
     ]
    }
   ],
   "source": [
    "greet_hello()"
   ]
  },
  {
   "cell_type": "markdown",
   "metadata": {},
   "source": [
    "## 3. Passing information as arguments  \n",
    "\n",
    "- Information can be passed into functions as arguments.\n",
    "\n",
    "- Arguments are specified after the function name, inside the parentheses. You can add as many arguments as you want, just separate them with a comma.\n",
    "\n",
    "- The following example has a function with one argument (fname). When the function is called, we pass along a first name, which is used inside the function to print the full name:\n",
    "\n",
    "__For example:__\n",
    "\n",
    "Define `greet_hello()` that takes two objects, `fname`, and `lname`, as arguments. Then it prints two arguments with `Hello` in front."
   ]
  },
  {
   "cell_type": "code",
   "execution_count": 6,
   "metadata": {},
   "outputs": [],
   "source": [
    "def greet_hello(fname, lname):\n",
    "    print(\"Hello\", fname, lname)"
   ]
  },
  {
   "cell_type": "code",
   "execution_count": 7,
   "metadata": {},
   "outputs": [
    {
     "name": "stdout",
     "output_type": "stream",
     "text": [
      "Hello Joe Blow\n",
      "Hello Joe Adam\n",
      "Hello King David\n"
     ]
    }
   ],
   "source": [
    "greet_hello('Joe', 'Blow')\n",
    "greet_hello('Joe', 'Adam')\n",
    "greet_hello('King', 'David')"
   ]
  },
  {
   "cell_type": "markdown",
   "metadata": {},
   "source": [
    "#### For example:\n",
    "\n",
    "Define a function called `sum_n_print()` that adds upto an argument `n` and prints its result as shown below:\n",
    "\n",
    "```\n",
    "sum_n_print(10)\n",
    "sum_n_print(50)\n",
    "sum_n_print(1000)\n",
    "\n",
    "Sum from 1 to 10 is 55\n",
    "Sum from 1 to 50 is 1275\n",
    "Sum from 1 to 1000 is 500500\n",
    "```"
   ]
  },
  {
   "cell_type": "code",
   "execution_count": 8,
   "metadata": {},
   "outputs": [],
   "source": [
    "def sum_n_print(n):\n",
    "    sum = 0\n",
    "\n",
    "    for i in range(n):\n",
    "        sum += (i+1)\n",
    "\n",
    "    print('Sum from 1 to {} is {}'.format(n, sum))"
   ]
  },
  {
   "cell_type": "code",
   "execution_count": 9,
   "metadata": {},
   "outputs": [
    {
     "name": "stdout",
     "output_type": "stream",
     "text": [
      "Sum from 1 to 10 is 55\n",
      "Sum from 1 to 50 is 1275\n",
      "Sum from 1 to 1000 is 500500\n"
     ]
    }
   ],
   "source": [
    "sum_n_print(10)\n",
    "sum_n_print(50)\n",
    "sum_n_print(1000)"
   ]
  },
  {
   "cell_type": "markdown",
   "metadata": {},
   "source": [
    "## 4. Arbitary arguments\n",
    "\n",
    "- If you do not know how many arguments that will be passed into your function, add an `*` before the parameter name in the function definition.\n",
    "\n",
    "- This way the function will receive __a tuple of arguments__, and can access the items accordingly:"
   ]
  },
  {
   "cell_type": "markdown",
   "metadata": {},
   "source": [
    "#### For example: \n",
    "\n",
    "Define `greet_hello()`such that it takes any number of arguments and prints `Hello ` with those names.\n",
    "\n",
    "__Sample run:__\n",
    "```\n",
    "greet_hello('Joe', 'Blow', 'David', 'Stones')\n",
    "```\n",
    "__Output:__\n",
    "```\n",
    "Hello Joe\n",
    "Hello Blow\n",
    "Hello David\n",
    "Hello Stones\n",
    "```"
   ]
  },
  {
   "cell_type": "code",
   "execution_count": 14,
   "metadata": {},
   "outputs": [],
   "source": [
    "def greet_hello(*names):\n",
    "    for name in names:\n",
    "        print(\"Hello\", name)"
   ]
  },
  {
   "cell_type": "code",
   "execution_count": 15,
   "metadata": {},
   "outputs": [
    {
     "name": "stdout",
     "output_type": "stream",
     "text": [
      "Hello Joe\n",
      "Hello Blow\n",
      "Hello David\n",
      "Hello Stones\n"
     ]
    }
   ],
   "source": [
    "greet_hello('Joe', 'Blow', 'David', 'Stones')"
   ]
  },
  {
   "cell_type": "markdown",
   "metadata": {},
   "source": [
    "## 5. Keyword arguments\n",
    "- You can also send arguments with the key = value syntax.\n",
    "- This way the order of the arguments does not matter.\n",
    "\n",
    "#### For example: \n",
    "Define a function that uses three keyword arguments as shown below:\n",
    "\n",
    "__Sample run:__\n",
    "```\n",
    "greet_hello(child = 'David', father = 'Joe', mother = 'Jane')\n",
    "```\n",
    "__Output:__\n",
    "```\n",
    "The youngest person is David\n",
    "```"
   ]
  },
  {
   "cell_type": "code",
   "execution_count": 22,
   "metadata": {},
   "outputs": [],
   "source": [
    "def greet_hello(child, father, mother):\n",
    "    print('The youngest person is', child)\n",
    "    print('His parents are', mother, \"and\", father)"
   ]
  },
  {
   "cell_type": "code",
   "execution_count": 23,
   "metadata": {},
   "outputs": [
    {
     "name": "stdout",
     "output_type": "stream",
     "text": [
      "The youngest person is David\n",
      "His parents are Jane and Joe\n"
     ]
    }
   ],
   "source": [
    "greet_hello(child = 'David', father = 'Joe', mother = 'Jane')"
   ]
  },
  {
   "cell_type": "markdown",
   "metadata": {},
   "source": [
    "## 6. Arbitary keyword arguments \n",
    "- If you do not know how many keyword arguments that will be passed into your function, add two asterisk: `** ` before the parameter name in the function definition.\n",
    "\n",
    "- This way the function will receive a dictionary of arguments, and can access the items accordingly:\n",
    "\n",
    "#### For example: "
   ]
  },
  {
   "cell_type": "code",
   "execution_count": 24,
   "metadata": {},
   "outputs": [],
   "source": [
    "def greet_hello(**names):\n",
    "    print('The youngest person is', names['child'])\n",
    "    print('The lovely person is', names['mother'])\n",
    "    print('The respectful person is', names['father'])"
   ]
  },
  {
   "cell_type": "code",
   "execution_count": 25,
   "metadata": {},
   "outputs": [
    {
     "name": "stdout",
     "output_type": "stream",
     "text": [
      "The youngest person is David\n",
      "The lovely person is Jane\n",
      "The respectful person is Joe\n"
     ]
    }
   ],
   "source": [
    "greet_hello(father = 'Joe', mother = 'Jane', child = 'David')"
   ]
  },
  {
   "cell_type": "markdown",
   "metadata": {},
   "source": [
    "## 7. Default Parameter Value\n",
    "- The following example shows how to use a default parameter value.\n",
    "- If we call the function without argument, it uses the default value:\n",
    "\n",
    "#### For example: \n",
    "\n",
    "Define `greet_hello()` such that it take a default parameter value `Korea`.\n",
    "\n",
    "__Sample run:__\n",
    "```\n",
    "greet_hello('England')\n",
    "greet_hello()\n",
    "greet_hello('Heaven')\n",
    "```\n",
    "__Output:__\n",
    "```\n",
    "Are you from England?\n",
    "Are you from Korea?\n",
    "Are you from Heaven?\n",
    "```"
   ]
  },
  {
   "cell_type": "code",
   "execution_count": 26,
   "metadata": {},
   "outputs": [],
   "source": [
    "def greet_hello(country = 'Korea'):\n",
    "    print('Are you from ' + country + '?')"
   ]
  },
  {
   "cell_type": "code",
   "execution_count": 27,
   "metadata": {},
   "outputs": [
    {
     "name": "stdout",
     "output_type": "stream",
     "text": [
      "Are you from England?\n",
      "Are you from Korea?\n",
      "Are you from Heaven?\n"
     ]
    }
   ],
   "source": [
    "greet_hello('England')\n",
    "greet_hello()\n",
    "greet_hello('Heaven')"
   ]
  },
  {
   "cell_type": "markdown",
   "metadata": {},
   "source": [
    "## 8. Passing a list as an argument\n",
    "- You can send any data types of argument to a function (string, number, list, dictionary etc.), and it will be treated as the same data type inside the function.\n",
    "- E.g. if you send a List as an argument, it will still be a List when it reaches the function:\n",
    "\n",
    "#### For example: \n",
    "Define a function my_favorites() that takes a list and print elements in it.\n",
    "\n",
    "__Sample run:__\n",
    "```\n",
    "my_stuff = [\"apple\", \"banana\", 100, 200, \"Genesis\", \"John\" ]\n",
    "my_favorites(my_stuff)\n",
    "```\n",
    "__Output:__\n",
    "```\n",
    "apple banana 100 200 Genesis John \n",
    "```"
   ]
  },
  {
   "cell_type": "code",
   "execution_count": 30,
   "metadata": {},
   "outputs": [],
   "source": [
    "def my_favorites(items):\n",
    "    for item in items:\n",
    "        print(item, end = \" \")"
   ]
  },
  {
   "cell_type": "code",
   "execution_count": 31,
   "metadata": {},
   "outputs": [
    {
     "name": "stdout",
     "output_type": "stream",
     "text": [
      "apple banana 100 200 Genesis John "
     ]
    }
   ],
   "source": [
    "my_stuff = [\"apple\", \"banana\", 100, 200, 'Genesis', 'John']\n",
    "my_favorites(my_stuff)"
   ]
  },
  {
   "cell_type": "markdown",
   "metadata": {},
   "source": [
    "## 9. Return Values\n",
    "To let a function return a value, use the return statement:\n",
    "\n",
    "#### For example:\n",
    "Define a function `my_favorites` which takes a list and returns the first and last elements in it. Add a code to be able to handle an empty list gracefully.\n",
    "\n",
    "__Sample run 1:__\n",
    "```\n",
    "first, last = my_favorites([\"apple\", \"banana\", \"Romans\", \"Genesis\"])\n",
    "print(first, last)\n",
    "```\n",
    "__Output:__\n",
    "```\n",
    "apple Genesis\n",
    "```\n",
    "__Sample run 2:__\n",
    "```\n",
    "first, last = my_favorites([])\n",
    "print(first, last)\n",
    "```\n",
    "__Output:__\n",
    "```\n",
    "None, None\n",
    "```"
   ]
  },
  {
   "cell_type": "code",
   "execution_count": 39,
   "metadata": {},
   "outputs": [],
   "source": [
    "def my_favorites(items):\n",
    "    if len(items) == 0:\n",
    "        return None, None\n",
    "    return items[0], items[-1]"
   ]
  },
  {
   "cell_type": "code",
   "execution_count": 40,
   "metadata": {},
   "outputs": [
    {
     "name": "stdout",
     "output_type": "stream",
     "text": [
      "apple Genesis\n",
      "None None\n"
     ]
    }
   ],
   "source": [
    "first, last = my_favorites([\"apple\", \"banana\", \"Romans\", \"Genesis\"])\n",
    "print(first, last)\n",
    "\n",
    "first, last = my_favorites([])\n",
    "print(first, last)"
   ]
  },
  {
   "cell_type": "markdown",
   "metadata": {},
   "source": [
    "## More Examples"
   ]
  },
  {
   "cell_type": "markdown",
   "metadata": {},
   "source": [
    "#### Example 1: sum_to_n(n)\n",
    "\n",
    "- Generalize this capability of summing up to `n`. In other words, write a function, `sum_to_n(n)`, such that it returns 55 when `sum_to_n(10)` is invoked. \n",
    "- Complete the following code cells to sum the integers from `1` to `n` inclusively. \n",
    "\n",
    "```\n",
    "Sum from 1 to 10 is 55\n",
    "Sum from 1 to 100 is 5050\n",
    "Sum from 1 to 1000 is 500500\n",
    "Sum from 1 to 10000 is 50005000\n",
    "```"
   ]
  },
  {
   "cell_type": "code",
   "execution_count": 41,
   "metadata": {},
   "outputs": [],
   "source": [
    "# function to sum upto n inclusively.\n",
    "def sum_to_n(n):\n",
    "    sum = 0\n",
    "    for i in range(0, n + 1):\n",
    "        sum += i\n",
    "    return sum"
   ]
  },
  {
   "cell_type": "code",
   "execution_count": 42,
   "metadata": {
    "scrolled": false
   },
   "outputs": [
    {
     "name": "stdout",
     "output_type": "stream",
     "text": [
      "Sum from 1 to 10 is 55\n",
      "Sum from 1 to 100 is 5050\n",
      "Sum from 1 to 1000 is 500500\n",
      "Sum from 1 to 10000 is 50005000\n"
     ]
    }
   ],
   "source": [
    "# For testing\n",
    "for n in [10, 100, 1000, 10000]:\n",
    "    print('Sum from 1 to {} is {}'.format(n, sum_to_n(n)))"
   ]
  },
  {
   "cell_type": "markdown",
   "metadata": {},
   "source": [
    "Pay attention that maximum value in `range()` is `n + 1` to make `i` equal to `N` on the last step.\n",
    "\n",
    "To iterate over a decreasing sequence, we can use an extended form of `range()` with three arguments - `range(start, end, step)`. When omitted, the `step` is implicitly equal to `1`. However, can be any non-zero value. The loop always includes `start` and excludes `end` during iteration:"
   ]
  },
  {
   "cell_type": "markdown",
   "metadata": {},
   "source": [
    "#### Example 2: count_alpha()\n",
    "Write a function `count_alpha()` which takes a string and returns two values or counts of lowercase and uppercase alphabets in the string, respectively. \n",
    "\n",
    "Use two `string` class methods, `islower()` and `isupper()` to distinguish the cases. \n",
    "\n",
    "__Sample run:__\n",
    "```\n",
    "lower, upper = count_alpha(\"Hello World!\")\n",
    "print(lower)\n",
    "print(upper)\n",
    "```\n",
    "__Output:__\n",
    "```\n",
    "8\n",
    "2\n",
    "```"
   ]
  },
  {
   "cell_type": "code",
   "execution_count": 51,
   "metadata": {},
   "outputs": [],
   "source": [
    "def count_alpha(str):\n",
    "    lower = 0\n",
    "    upper = 0\n",
    "    for ch in str:\n",
    "        if ch.islower():\n",
    "            lower += 1\n",
    "        elif ch.isupper():\n",
    "            upper += 1\n",
    "    return lower, upper"
   ]
  },
  {
   "cell_type": "code",
   "execution_count": 52,
   "metadata": {},
   "outputs": [
    {
     "name": "stdout",
     "output_type": "stream",
     "text": [
      "8\n",
      "2\n"
     ]
    }
   ],
   "source": [
    "lower, upper = count_alpha(\"Hello World!\")\n",
    "print(lower)\n",
    "print(upper)"
   ]
  },
  {
   "cell_type": "code",
   "execution_count": 53,
   "metadata": {},
   "outputs": [
    {
     "name": "stdout",
     "output_type": "stream",
     "text": [
      "Help on class str in module builtins:\n",
      "\n",
      "class str(object)\n",
      " |  str(object='') -> str\n",
      " |  str(bytes_or_buffer[, encoding[, errors]]) -> str\n",
      " |  \n",
      " |  Create a new string object from the given object. If encoding or\n",
      " |  errors is specified, then the object must expose a data buffer\n",
      " |  that will be decoded using the given encoding and error handler.\n",
      " |  Otherwise, returns the result of object.__str__() (if defined)\n",
      " |  or repr(object).\n",
      " |  encoding defaults to sys.getdefaultencoding().\n",
      " |  errors defaults to 'strict'.\n",
      " |  \n",
      " |  Methods defined here:\n",
      " |  \n",
      " |  __add__(self, value, /)\n",
      " |      Return self+value.\n",
      " |  \n",
      " |  __contains__(self, key, /)\n",
      " |      Return key in self.\n",
      " |  \n",
      " |  __eq__(self, value, /)\n",
      " |      Return self==value.\n",
      " |  \n",
      " |  __format__(self, format_spec, /)\n",
      " |      Return a formatted version of the string as described by format_spec.\n",
      " |  \n",
      " |  __ge__(self, value, /)\n",
      " |      Return self>=value.\n",
      " |  \n",
      " |  __getattribute__(self, name, /)\n",
      " |      Return getattr(self, name).\n",
      " |  \n",
      " |  __getitem__(self, key, /)\n",
      " |      Return self[key].\n",
      " |  \n",
      " |  __getnewargs__(...)\n",
      " |  \n",
      " |  __gt__(self, value, /)\n",
      " |      Return self>value.\n",
      " |  \n",
      " |  __hash__(self, /)\n",
      " |      Return hash(self).\n",
      " |  \n",
      " |  __iter__(self, /)\n",
      " |      Implement iter(self).\n",
      " |  \n",
      " |  __le__(self, value, /)\n",
      " |      Return self<=value.\n",
      " |  \n",
      " |  __len__(self, /)\n",
      " |      Return len(self).\n",
      " |  \n",
      " |  __lt__(self, value, /)\n",
      " |      Return self<value.\n",
      " |  \n",
      " |  __mod__(self, value, /)\n",
      " |      Return self%value.\n",
      " |  \n",
      " |  __mul__(self, value, /)\n",
      " |      Return self*value.\n",
      " |  \n",
      " |  __ne__(self, value, /)\n",
      " |      Return self!=value.\n",
      " |  \n",
      " |  __repr__(self, /)\n",
      " |      Return repr(self).\n",
      " |  \n",
      " |  __rmod__(self, value, /)\n",
      " |      Return value%self.\n",
      " |  \n",
      " |  __rmul__(self, value, /)\n",
      " |      Return value*self.\n",
      " |  \n",
      " |  __sizeof__(self, /)\n",
      " |      Return the size of the string in memory, in bytes.\n",
      " |  \n",
      " |  __str__(self, /)\n",
      " |      Return str(self).\n",
      " |  \n",
      " |  capitalize(self, /)\n",
      " |      Return a capitalized version of the string.\n",
      " |      \n",
      " |      More specifically, make the first character have upper case and the rest lower\n",
      " |      case.\n",
      " |  \n",
      " |  casefold(self, /)\n",
      " |      Return a version of the string suitable for caseless comparisons.\n",
      " |  \n",
      " |  center(self, width, fillchar=' ', /)\n",
      " |      Return a centered string of length width.\n",
      " |      \n",
      " |      Padding is done using the specified fill character (default is a space).\n",
      " |  \n",
      " |  count(...)\n",
      " |      S.count(sub[, start[, end]]) -> int\n",
      " |      \n",
      " |      Return the number of non-overlapping occurrences of substring sub in\n",
      " |      string S[start:end].  Optional arguments start and end are\n",
      " |      interpreted as in slice notation.\n",
      " |  \n",
      " |  encode(self, /, encoding='utf-8', errors='strict')\n",
      " |      Encode the string using the codec registered for encoding.\n",
      " |      \n",
      " |      encoding\n",
      " |        The encoding in which to encode the string.\n",
      " |      errors\n",
      " |        The error handling scheme to use for encoding errors.\n",
      " |        The default is 'strict' meaning that encoding errors raise a\n",
      " |        UnicodeEncodeError.  Other possible values are 'ignore', 'replace' and\n",
      " |        'xmlcharrefreplace' as well as any other name registered with\n",
      " |        codecs.register_error that can handle UnicodeEncodeErrors.\n",
      " |  \n",
      " |  endswith(...)\n",
      " |      S.endswith(suffix[, start[, end]]) -> bool\n",
      " |      \n",
      " |      Return True if S ends with the specified suffix, False otherwise.\n",
      " |      With optional start, test S beginning at that position.\n",
      " |      With optional end, stop comparing S at that position.\n",
      " |      suffix can also be a tuple of strings to try.\n",
      " |  \n",
      " |  expandtabs(self, /, tabsize=8)\n",
      " |      Return a copy where all tab characters are expanded using spaces.\n",
      " |      \n",
      " |      If tabsize is not given, a tab size of 8 characters is assumed.\n",
      " |  \n",
      " |  find(...)\n",
      " |      S.find(sub[, start[, end]]) -> int\n",
      " |      \n",
      " |      Return the lowest index in S where substring sub is found,\n",
      " |      such that sub is contained within S[start:end].  Optional\n",
      " |      arguments start and end are interpreted as in slice notation.\n",
      " |      \n",
      " |      Return -1 on failure.\n",
      " |  \n",
      " |  format(...)\n",
      " |      S.format(*args, **kwargs) -> str\n",
      " |      \n",
      " |      Return a formatted version of S, using substitutions from args and kwargs.\n",
      " |      The substitutions are identified by braces ('{' and '}').\n",
      " |  \n",
      " |  format_map(...)\n",
      " |      S.format_map(mapping) -> str\n",
      " |      \n",
      " |      Return a formatted version of S, using substitutions from mapping.\n",
      " |      The substitutions are identified by braces ('{' and '}').\n",
      " |  \n",
      " |  index(...)\n",
      " |      S.index(sub[, start[, end]]) -> int\n",
      " |      \n",
      " |      Return the lowest index in S where substring sub is found,\n",
      " |      such that sub is contained within S[start:end].  Optional\n",
      " |      arguments start and end are interpreted as in slice notation.\n",
      " |      \n",
      " |      Raises ValueError when the substring is not found.\n",
      " |  \n",
      " |  isalnum(self, /)\n",
      " |      Return True if the string is an alpha-numeric string, False otherwise.\n",
      " |      \n",
      " |      A string is alpha-numeric if all characters in the string are alpha-numeric and\n",
      " |      there is at least one character in the string.\n",
      " |  \n",
      " |  isalpha(self, /)\n",
      " |      Return True if the string is an alphabetic string, False otherwise.\n",
      " |      \n",
      " |      A string is alphabetic if all characters in the string are alphabetic and there\n",
      " |      is at least one character in the string.\n",
      " |  \n",
      " |  isascii(self, /)\n",
      " |      Return True if all characters in the string are ASCII, False otherwise.\n",
      " |      \n",
      " |      ASCII characters have code points in the range U+0000-U+007F.\n",
      " |      Empty string is ASCII too.\n",
      " |  \n",
      " |  isdecimal(self, /)\n",
      " |      Return True if the string is a decimal string, False otherwise.\n",
      " |      \n",
      " |      A string is a decimal string if all characters in the string are decimal and\n",
      " |      there is at least one character in the string.\n",
      " |  \n",
      " |  isdigit(self, /)\n",
      " |      Return True if the string is a digit string, False otherwise.\n",
      " |      \n",
      " |      A string is a digit string if all characters in the string are digits and there\n",
      " |      is at least one character in the string.\n",
      " |  \n",
      " |  isidentifier(self, /)\n",
      " |      Return True if the string is a valid Python identifier, False otherwise.\n",
      " |      \n",
      " |      Call keyword.iskeyword(s) to test whether string s is a reserved identifier,\n",
      " |      such as \"def\" or \"class\".\n",
      " |  \n",
      " |  islower(self, /)\n",
      " |      Return True if the string is a lowercase string, False otherwise.\n",
      " |      \n",
      " |      A string is lowercase if all cased characters in the string are lowercase and\n",
      " |      there is at least one cased character in the string.\n",
      " |  \n",
      " |  isnumeric(self, /)\n",
      " |      Return True if the string is a numeric string, False otherwise.\n",
      " |      \n",
      " |      A string is numeric if all characters in the string are numeric and there is at\n",
      " |      least one character in the string.\n",
      " |  \n",
      " |  isprintable(self, /)\n",
      " |      Return True if the string is printable, False otherwise.\n",
      " |      \n",
      " |      A string is printable if all of its characters are considered printable in\n",
      " |      repr() or if it is empty.\n",
      " |  \n",
      " |  isspace(self, /)\n",
      " |      Return True if the string is a whitespace string, False otherwise.\n",
      " |      \n",
      " |      A string is whitespace if all characters in the string are whitespace and there\n",
      " |      is at least one character in the string.\n",
      " |  \n",
      " |  istitle(self, /)\n",
      " |      Return True if the string is a title-cased string, False otherwise.\n",
      " |      \n",
      " |      In a title-cased string, upper- and title-case characters may only\n",
      " |      follow uncased characters and lowercase characters only cased ones.\n",
      " |  \n",
      " |  isupper(self, /)\n",
      " |      Return True if the string is an uppercase string, False otherwise.\n",
      " |      \n",
      " |      A string is uppercase if all cased characters in the string are uppercase and\n",
      " |      there is at least one cased character in the string.\n",
      " |  \n",
      " |  join(self, iterable, /)\n",
      " |      Concatenate any number of strings.\n",
      " |      \n",
      " |      The string whose method is called is inserted in between each given string.\n",
      " |      The result is returned as a new string.\n",
      " |      \n",
      " |      Example: '.'.join(['ab', 'pq', 'rs']) -> 'ab.pq.rs'\n",
      " |  \n",
      " |  ljust(self, width, fillchar=' ', /)\n",
      " |      Return a left-justified string of length width.\n",
      " |      \n",
      " |      Padding is done using the specified fill character (default is a space).\n",
      " |  \n",
      " |  lower(self, /)\n",
      " |      Return a copy of the string converted to lowercase.\n",
      " |  \n",
      " |  lstrip(self, chars=None, /)\n",
      " |      Return a copy of the string with leading whitespace removed.\n",
      " |      \n",
      " |      If chars is given and not None, remove characters in chars instead.\n",
      " |  \n",
      " |  partition(self, sep, /)\n",
      " |      Partition the string into three parts using the given separator.\n",
      " |      \n",
      " |      This will search for the separator in the string.  If the separator is found,\n",
      " |      returns a 3-tuple containing the part before the separator, the separator\n",
      " |      itself, and the part after it.\n",
      " |      \n",
      " |      If the separator is not found, returns a 3-tuple containing the original string\n",
      " |      and two empty strings.\n",
      " |  \n",
      " |  replace(self, old, new, count=-1, /)\n",
      " |      Return a copy with all occurrences of substring old replaced by new.\n",
      " |      \n",
      " |        count\n",
      " |          Maximum number of occurrences to replace.\n",
      " |          -1 (the default value) means replace all occurrences.\n",
      " |      \n",
      " |      If the optional argument count is given, only the first count occurrences are\n",
      " |      replaced.\n",
      " |  \n",
      " |  rfind(...)\n",
      " |      S.rfind(sub[, start[, end]]) -> int\n",
      " |      \n",
      " |      Return the highest index in S where substring sub is found,\n",
      " |      such that sub is contained within S[start:end].  Optional\n",
      " |      arguments start and end are interpreted as in slice notation.\n",
      " |      \n",
      " |      Return -1 on failure.\n",
      " |  \n",
      " |  rindex(...)\n",
      " |      S.rindex(sub[, start[, end]]) -> int\n",
      " |      \n",
      " |      Return the highest index in S where substring sub is found,\n",
      " |      such that sub is contained within S[start:end].  Optional\n",
      " |      arguments start and end are interpreted as in slice notation.\n",
      " |      \n",
      " |      Raises ValueError when the substring is not found.\n",
      " |  \n",
      " |  rjust(self, width, fillchar=' ', /)\n",
      " |      Return a right-justified string of length width.\n",
      " |      \n",
      " |      Padding is done using the specified fill character (default is a space).\n",
      " |  \n",
      " |  rpartition(self, sep, /)\n",
      " |      Partition the string into three parts using the given separator.\n",
      " |      \n",
      " |      This will search for the separator in the string, starting at the end. If\n",
      " |      the separator is found, returns a 3-tuple containing the part before the\n",
      " |      separator, the separator itself, and the part after it.\n",
      " |      \n",
      " |      If the separator is not found, returns a 3-tuple containing two empty strings\n",
      " |      and the original string.\n",
      " |  \n",
      " |  rsplit(self, /, sep=None, maxsplit=-1)\n",
      " |      Return a list of the words in the string, using sep as the delimiter string.\n",
      " |      \n",
      " |        sep\n",
      " |          The delimiter according which to split the string.\n",
      " |          None (the default value) means split according to any whitespace,\n",
      " |          and discard empty strings from the result.\n",
      " |        maxsplit\n",
      " |          Maximum number of splits to do.\n",
      " |          -1 (the default value) means no limit.\n",
      " |      \n",
      " |      Splits are done starting at the end of the string and working to the front.\n",
      " |  \n",
      " |  rstrip(self, chars=None, /)\n",
      " |      Return a copy of the string with trailing whitespace removed.\n",
      " |      \n",
      " |      If chars is given and not None, remove characters in chars instead.\n",
      " |  \n",
      " |  split(self, /, sep=None, maxsplit=-1)\n",
      " |      Return a list of the words in the string, using sep as the delimiter string.\n",
      " |      \n",
      " |      sep\n",
      " |        The delimiter according which to split the string.\n",
      " |        None (the default value) means split according to any whitespace,\n",
      " |        and discard empty strings from the result.\n",
      " |      maxsplit\n",
      " |        Maximum number of splits to do.\n",
      " |        -1 (the default value) means no limit.\n",
      " |  \n",
      " |  splitlines(self, /, keepends=False)\n",
      " |      Return a list of the lines in the string, breaking at line boundaries.\n",
      " |      \n",
      " |      Line breaks are not included in the resulting list unless keepends is given and\n",
      " |      true.\n",
      " |  \n",
      " |  startswith(...)\n",
      " |      S.startswith(prefix[, start[, end]]) -> bool\n",
      " |      \n",
      " |      Return True if S starts with the specified prefix, False otherwise.\n",
      " |      With optional start, test S beginning at that position.\n",
      " |      With optional end, stop comparing S at that position.\n",
      " |      prefix can also be a tuple of strings to try.\n",
      " |  \n",
      " |  strip(self, chars=None, /)\n",
      " |      Return a copy of the string with leading and trailing whitespace removed.\n",
      " |      \n",
      " |      If chars is given and not None, remove characters in chars instead.\n",
      " |  \n",
      " |  swapcase(self, /)\n",
      " |      Convert uppercase characters to lowercase and lowercase characters to uppercase.\n",
      " |  \n",
      " |  title(self, /)\n",
      " |      Return a version of the string where each word is titlecased.\n",
      " |      \n",
      " |      More specifically, words start with uppercased characters and all remaining\n",
      " |      cased characters have lower case.\n",
      " |  \n",
      " |  translate(self, table, /)\n",
      " |      Replace each character in the string using the given translation table.\n",
      " |      \n",
      " |        table\n",
      " |          Translation table, which must be a mapping of Unicode ordinals to\n",
      " |          Unicode ordinals, strings, or None.\n",
      " |      \n",
      " |      The table must implement lookup/indexing via __getitem__, for instance a\n",
      " |      dictionary or list.  If this operation raises LookupError, the character is\n",
      " |      left untouched.  Characters mapped to None are deleted.\n",
      " |  \n",
      " |  upper(self, /)\n",
      " |      Return a copy of the string converted to uppercase.\n",
      " |  \n",
      " |  zfill(self, width, /)\n",
      " |      Pad a numeric string with zeros on the left, to fill a field of the given width.\n",
      " |      \n",
      " |      The string is never truncated.\n",
      " |  \n",
      " |  ----------------------------------------------------------------------\n",
      " |  Static methods defined here:\n",
      " |  \n",
      " |  __new__(*args, **kwargs) from builtins.type\n",
      " |      Create and return a new object.  See help(type) for accurate signature.\n",
      " |  \n",
      " |  maketrans(...)\n",
      " |      Return a translation table usable for str.translate().\n",
      " |      \n",
      " |      If there is only one argument, it must be a dictionary mapping Unicode\n",
      " |      ordinals (integers) or characters to Unicode ordinals, strings or None.\n",
      " |      Character keys will be then converted to ordinals.\n",
      " |      If there are two arguments, they must be strings of equal length, and\n",
      " |      in the resulting dictionary, each character in x will be mapped to the\n",
      " |      character at the same position in y. If there is a third argument, it\n",
      " |      must be a string, whose characters will be mapped to None in the result.\n",
      "\n"
     ]
    }
   ],
   "source": [
    "help(str)"
   ]
  },
  {
   "cell_type": "markdown",
   "metadata": {},
   "source": [
    "#### Example 3: [Caesar Cypher](https://en.wikipedia.org/wiki/Caesar_cipher) \n",
    "\n",
    "카이사르 암호(Caesar cipher) 또는 시저 암호는 암호학에서 다루는 간단한 치환암호의 일종이다. 실제로 로마의 황제 카이사르는 이 카이사르 암호를 사용하기도 했다. 카이사르 암호는 암호화하고자 하는 내용을 알파벳별로 일정한 거리만큼 밀어서 다른 알파벳으로 치환하는 방식이다. 예를 들어 3글자씩 밀어내는 카이사르 암호로 'COME TO ROME'을 암호화하면 'FRPH WR URPH'가 된다. 여기서 밀어내는 글자 수는 암호를 보내는 사람과 함께 정해 더 어려운 암호를 만들 수 있다. 이런 카이사르 암호는 순환암호라고 한다. 카이사르는 'RUSQHUVKBVEHQIIQIYDQJEH' 라는 암호를 받았다. 해독하면 BECAREFULFORASSASINATOR, 암살자를 조심하라는 뜻이된다. 카이사르는 이 암호를 해독하지 못해 암살자에게 암살당하고 말았다..\n",
    "\n",
    "\n",
    "카이사르 암호는 약 기원전 100년경에 만들어져 로마의 장군인 카이사르가 동맹군들과 소통하기 위해 만든 암호이다\n",
    "\n",
    "카이사르 암호는 단순하고 간단하여 일반인도 쉽게 사용할 수 있지만, 철자의 빈도와 자주 사용되는 단어와 형태를 이용하면 쉽게 풀 수 있다는 단점이 있다.\n",
    "\n"
   ]
  },
  {
   "cell_type": "markdown",
   "metadata": {},
   "source": [
    "<img width=\"400\" alt=\"Caesar3\" src=\"https://upload.wikimedia.org/wikipedia/commons/thumb/2/2b/Caesar3.svg/512px-Caesar3.svg.png\"></a>"
   ]
  },
  {
   "cell_type": "markdown",
   "metadata": {},
   "source": [
    "#### Step 1:\n",
    "\n",
    "Write a function, `next_alpha(ch, n)` which takes an ascii character `ch` and an int `n`. Then the function returns a character at some fixed positions `n` from the current letter `ch`in the alphabet.  "
   ]
  },
  {
   "cell_type": "markdown",
   "metadata": {},
   "source": [
    "__Sample run:__\n",
    "```\n",
    "for ch in \"Hello World! zzz\":\n",
    "    print(next_alpha(ch, 1), end=' ')\n",
    "```\n",
    "__Output:__\n",
    "```\n",
    "I f m m p   X p s m e !   a a a \n",
    "```\n",
    "    "
   ]
  },
  {
   "cell_type": "markdown",
   "metadata": {},
   "source": [
    "__Hint:__ Use two constant strings `ascii_lowercase` and `ascii_uppercase` which are defined in `string` module.\n",
    "    \n",
    "__Note:__ This coding is YET to be continued in the following homework. Some bugs are left intentionally."
   ]
  },
  {
   "cell_type": "code",
   "execution_count": 61,
   "metadata": {},
   "outputs": [
    {
     "name": "stdout",
     "output_type": "stream",
     "text": [
      "abcdefghijklmnopqrstuvwxyz\n",
      "ABCDEFGHIJKLMNOPQRSTUVWXYZ\n"
     ]
    }
   ],
   "source": [
    "import string\n",
    "lower = string.ascii_lowercase\n",
    "upper = string.ascii_uppercase\n",
    "\n",
    "print(lower)\n",
    "print(upper)"
   ]
  },
  {
   "cell_type": "code",
   "execution_count": 57,
   "metadata": {},
   "outputs": [],
   "source": [
    "def next_alpha(ch, n):\n",
    "    if len(ch) != 1:\n",
    "        return ch\n",
    "    \n",
    "    if ch.islower():\n",
    "        idx = lower.find(ch)\n",
    "        return lower[idx+n]\n",
    "    elif ch.isupper():\n",
    "        idx = upper.find(ch)\n",
    "        return upper[idx+n]\n",
    "    return ch  "
   ]
  },
  {
   "cell_type": "code",
   "execution_count": 58,
   "metadata": {},
   "outputs": [
    {
     "name": "stdout",
     "output_type": "stream",
     "text": [
      "I f m m p   X p s m e ! "
     ]
    }
   ],
   "source": [
    "for ch in \"Hello World!\":\n",
    "    print(next_alpha(ch, 1), end=' ')"
   ]
  },
  {
   "cell_type": "code",
   "execution_count": null,
   "metadata": {},
   "outputs": [],
   "source": [
    "# for ch in \"Hello World! zzz\":\n",
    "#     print(next_alpha(ch, 1), end=' ')\n",
    "\n",
    "# error -> fix in assignment"
   ]
  },
  {
   "cell_type": "code",
   "execution_count": null,
   "metadata": {},
   "outputs": [],
   "source": []
  }
 ],
 "metadata": {
  "kernelspec": {
   "display_name": "Python 3",
   "language": "python",
   "name": "python3"
  },
  "language_info": {
   "codemirror_mode": {
    "name": "ipython",
    "version": 3
   },
   "file_extension": ".py",
   "mimetype": "text/x-python",
   "name": "python",
   "nbconvert_exporter": "python",
   "pygments_lexer": "ipython3",
   "version": "3.8.3"
  }
 },
 "nbformat": 4,
 "nbformat_minor": 1
}
