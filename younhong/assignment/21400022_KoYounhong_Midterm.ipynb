{
 "cells": [
  {
   "cell_type": "markdown",
   "metadata": {},
   "source": [
    "# Welcome to \"Crush Python\"\n",
    "\n",
    "God has saved us and called us to a holy life - not because of anythin we have done but because of his own purpose and grace. This grace was given us in Christ Jesus before the beginning of time. (1Tim1:9)\n",
    "\n",
    "하나님이 우리를 구원하사 거룩하신 소명으로 부르심은 우리의 행위대로 하심이 아니요 오직 자기 뜻과 영원 전부터 그리스도 예수 안에서 우리에게 주신 은혜대로 하심이라. (딤후1:9)\n",
    "\n",
    "----------"
   ]
  },
  {
   "cell_type": "markdown",
   "metadata": {},
   "source": [
    "### Some Excellent Machine Learning Technical Video Lectures Recommended\n",
    "\n",
    "1. [Neural Networks](https://www.youtube.com/watch?v=aircAruvnKk&list=PLZHQObOWTQDNU6R1_67000Dx_ZCJB-3pi)\n",
    "    - link: [YouTube](https://www.youtube.com/watch?v=aircAruvnKk&list=PLZHQObOWTQDNU6R1_67000Dx_ZCJB-3pi)\n",
    "    - length: 19:13\n",
    "    - lecturer: 3Blue1Brown\n",
    "    - contents: One of the best lecture series about neural networks.\n",
    "    \n",
    "1. [Gradient descent](https://www.youtube.com/watch?v=IHZwWFHWa-w&list=PLZHQObOWTQDNU6R1_67000Dx_ZCJB-3pi&index=3&t=0s)\n",
    "    - link: [YouTube](https://www.youtube.com/watch?v=IHZwWFHWa-w&list=PLZHQObOWTQDNU6R1_67000Dx_ZCJB-3pi&index=3&t=0s)\n",
    "    - length: 21:00\n",
    "    - lecturer: 3Blue1Brown\n",
    "    - contents: One of the best lecture series about neural networks.\n",
    "    \n",
    "1. [What is backpropagation really doing?](https://www.youtube.com/watch?v=Ilg3gGewQ5U&list=PLZHQObOWTQDNU6R1_67000Dx_ZCJB-3pi&index=3)\n",
    "    - link: [YouTube](https://www.youtube.com/watch?v=Ilg3gGewQ5U&list=PLZHQObOWTQDNU6R1_67000Dx_ZCJB-3pi&index=3)\n",
    "    - length: 13:53\n",
    "    - lecturer: 3Blue1Brown\n",
    "    - contents: One of the best lecture series about neural networks.\n",
    "    \n",
    "1. [Backpropagation calculus](https://www.youtube.com/watch?v=Ilg3gGewQ5U&list=PLZHQObOWTQDNU6R1_67000Dx_ZCJB-3pi&index=3)\n",
    "    - link: [YouTube](https://www.youtube.com/watch?v=Ilg3gGewQ5U&list=PLZHQObOWTQDNU6R1_67000Dx_ZCJB-3pi&index=3)\n",
    "    - length: 10:18\n",
    "    - lecturer: 3Blue1Brown\n",
    "    - contents: One of the best lecture series about neural networks.\n"
   ]
  },
  {
   "cell_type": "markdown",
   "metadata": {},
   "source": [
    "# [The Monty Hall Problem](http://en.wikipedia.org/wiki/Monty_Hall_problem)\n",
    "\n",
    "Here's a fun and perhaps surprising statistical riddle, and a good way to get some practice writing python functions.\n",
    "\n",
    "In a gameshow, contestants try to guess which of 3 closed doors contain a cash prize (goats are behind the other two doors). Of course, the odds of choosing the correct door are 1 in 3. As a twist, the host of the show occasionally opens a door after a contestant makes his or her choice. This door is always one of the two the contestant did not pick, and is also always one of the goat doors (note that it is always possible to do this, since there are two goat doors). At this point, the contestant has the option of keeping his or her original choice, or swtiching to the other unopened door. The question is: is there any benefit to switching doors? The answer surprises many people who haven't heard the question before.\n",
    "\n",
    "We can answer the problem by running simulations in Python. We'll do it in several parts.\n"
   ]
  },
  {
   "cell_type": "code",
   "execution_count": 2,
   "metadata": {
    "scrolled": true
   },
   "outputs": [
    {
     "data": {
      "image/jpeg": "[encoded data removed]",
      "text/html": [
       "\n",
       "        <iframe\n",
       "            width=\"400\"\n",
       "            height=\"300\"\n",
       "            src=\"https://www.youtube.com/embed/mhlc7peGlGg\"\n",
       "            frameborder=\"0\"\n",
       "            allowfullscreen\n",
       "        ></iframe>\n",
       "        "
      ],
      "text/plain": [
       "<IPython.lib.display.YouTubeVideo at 0x7fcd623406a0>"
      ]
     },
     "execution_count": 2,
     "metadata": {},
     "output_type": "execute_result"
    }
   ],
   "source": [
    "from IPython.display import YouTubeVideo\n",
    "YouTubeVideo('mhlc7peGlGg') "
   ]
  },
  {
   "cell_type": "markdown",
   "metadata": {},
   "source": [
    "### Refer to another good explanations of Monty Hall Problem in Korean\n",
    "- [서울대 경영대학원 - 직관과 다른 확률](https://cba.snu.ac.kr/ko/sblcolumn?mode=view&bbsidx=77838)\n",
    "- [위키피디아](https://ko.wikipedia.org/wiki/%EB%AA%AC%ED%8B%B0_%ED%99%80_%EB%AC%B8%EC%A0%9C)\n",
    "- [나무위키](https://namu.wiki/w/%EB%AA%AC%ED%8B%B0%20%ED%99%80%20%EB%AC%B8%EC%A0%9C)"
   ]
  },
  {
   "cell_type": "markdown",
   "metadata": {},
   "source": [
    "## Step 1: (Using list)\n",
    "First, write a function called `simulate_prizedoor`. This function will simulate the location of the prize in many games -- see the detailed specification below:"
   ]
  },
  {
   "cell_type": "code",
   "execution_count": 1,
   "metadata": {},
   "outputs": [],
   "source": [
    "# %%file simulate_prizedoor.py\n",
    "# simulate_prizedoor.py\n",
    "# CrushPython - MontyHall\n",
    "import random                    # to use random.randint(......)\n",
    "\n",
    "def simulate_prizedoor(nsim):\n",
    "    \"\"\"    \n",
    "    Return a random array or list of 0s, 1s, and 2s. \n",
    "    The length of the array or list is the parameter nsim - a positive integer. \n",
    "    nsim represents the number of simulation. \n",
    "    \n",
    "    This function generates a random array of 0s, 1s, and 2s, representing \n",
    "    hiding a prize between door 0, door 1, and door. \n",
    "    \n",
    "    Use random.randint(0,2) to generate the numbers of 0, 1, and 2 randomly.\n",
    "\n",
    "    >>> print(simulate_prizedoor(3))\n",
    "    array([0, 0, 2])\n",
    "    >>> print(simulate_prizedoor(7))\n",
    "    [2, 1, 0, 1, 1, 0, 2]\n",
    "    \"\"\"\n",
    "    assert nsim >= 1\n",
    "    \n",
    "    prizedoors = [ random.randint(0,2) for i in range(nsim) ]\n",
    "\n",
    "    return prizedoors"
   ]
  },
  {
   "cell_type": "code",
   "execution_count": 2,
   "metadata": {},
   "outputs": [
    {
     "name": "stdout",
     "output_type": "stream",
     "text": [
      "[2, 0, 2]\n",
      "[1, 1, 1, 2, 2, 1, 2]\n"
     ]
    }
   ],
   "source": [
    "print(simulate_prizedoor(3))\n",
    "print(simulate_prizedoor(7))"
   ]
  },
  {
   "cell_type": "markdown",
   "metadata": {},
   "source": [
    "### Step 1: NumPy Impelmentation \n",
    "\n",
    "The code shown below does the same thing, but is implemented using numpy array, not list. "
   ]
  },
  {
   "cell_type": "code",
   "execution_count": 3,
   "metadata": {},
   "outputs": [],
   "source": [
    "import numpy as np\n",
    "import random                    # to use random.randint(......)\n",
    "\n",
    "def simulate_prizedoor(nsim):\n",
    "    assert nsim >= 1\n",
    "    prizedoors = np.empty(0, dtype=int)\n",
    "    for num in range(0, nsim):\n",
    "        answer = random.randint(0, 2)\n",
    "        prizedoors = np.append(prizedoors, answer)\n",
    "    \n",
    "    return prizedoors"
   ]
  },
  {
   "cell_type": "code",
   "execution_count": 4,
   "metadata": {},
   "outputs": [
    {
     "name": "stdout",
     "output_type": "stream",
     "text": [
      "[0 0 0]\n",
      "[2 0 0 0 0 2 0]\n"
     ]
    }
   ],
   "source": [
    "print(simulate_prizedoor(3))\n",
    "print(simulate_prizedoor(7))"
   ]
  },
  {
   "cell_type": "markdown",
   "metadata": {},
   "source": [
    "#### 질문 1: \n",
    "함수 `simulate_prizedoor(5)`을 실행했을 때, 함수가 `[0, 1, 1, 2, 0]`를 반환한다면, 5의 의미는 무엇이며, 반환값 각각의 의미는 무엇입니까? 또한 `simulate_prizedoor(5)` 함수가 `[1, 1, 1, 1, 1]`같은 값도 반환할 수도 있나요? yes/no로 답하십시오. "
   ]
  },
  {
   "cell_type": "markdown",
   "metadata": {},
   "source": [
    "#### 답:\n",
    "- 5의 의미는 array의 원소의 갯수가 5개라는 의미이며(5번의 시도 횟수), 반환된 값은 0,1,2 중의 하나의 값이 각각 랜덤으로 지정됩니다(prize가 있는 문의 위치를 의미)\n",
    "- Yes"
   ]
  },
  {
   "cell_type": "markdown",
   "metadata": {},
   "source": [
    "#### 질문 2: \n",
    "위의 코드에서 `assert nsim >= 1` 은 무엇을 하는 것이며, 왜 이런 구문이 필요한 것일까요?  "
   ]
  },
  {
   "cell_type": "markdown",
   "metadata": {},
   "source": [
    "#### 답:\n",
    "- nsim이 1보다 크거나 같은 경우에만 코드가 실행이 되게 하는 코드\n",
    "- nsim의 갯수만큼 반복해야 하기 때문에 nsim이 1보다 무조건 크거나 같아야만 합니다."
   ]
  },
  {
   "cell_type": "markdown",
   "metadata": {},
   "source": [
    "## Step 2: (using list)\n",
    "Next, write a function `simulate_guess()` that simulates the contestant's guesses for `nsim` simulations. Call this function `simulate_guess`. The specs:"
   ]
  },
  {
   "cell_type": "code",
   "execution_count": 5,
   "metadata": {},
   "outputs": [],
   "source": [
    "# %%file simulate_guess.py\n",
    "# simulate_guess.py\n",
    "# CrushPython - MontyHall\n",
    "\n",
    "import random\n",
    "def simulate_guess(nsim):\n",
    "    \"\"\"\n",
    "    Return an arry of list that is  a strategy for guessing which door \n",
    "    a prize is behind. This could be a random strategy, one that always \n",
    "    guesses 2, whatever. \n",
    "    \n",
    "    You may use randint() as well here\n",
    "\n",
    "    nsim is the number of simulations to generate guesses for.\n",
    "\n",
    "    >>> print(simulate_guess(5))\n",
    "    array([0, 0, 0, 0, 0])\n",
    "    >>> print(simulate_guess(5))\n",
    "    [0, 0, 0, 0, 0]\n",
    "    \"\"\"\n",
    "\n",
    "    assert nsim >= 1\n",
    "\n",
    "    guesses = [ random.randint(0,2) for i in range(nsim) ]\n",
    "    \n",
    "    return guesses"
   ]
  },
  {
   "cell_type": "code",
   "execution_count": 6,
   "metadata": {},
   "outputs": [
    {
     "data": {
      "text/plain": [
       "[0, 0, 0, 1, 0, 0, 0]"
      ]
     },
     "execution_count": 6,
     "metadata": {},
     "output_type": "execute_result"
    }
   ],
   "source": [
    "simulate_guess(7)"
   ]
  },
  {
   "cell_type": "markdown",
   "metadata": {},
   "source": [
    "### Step 2: NumPy Impelmentation "
   ]
  },
  {
   "cell_type": "code",
   "execution_count": 7,
   "metadata": {},
   "outputs": [],
   "source": [
    "def simulate_guess(nsim):\n",
    "    assert nsim >= 1\n",
    "    guesses = np.empty(0, dtype=int)\n",
    "    for num in range(0, nsim):\n",
    "        answer = random.randint(0,2)\n",
    "        guesses = np.append(guesses, answer)\n",
    "    return guesses"
   ]
  },
  {
   "cell_type": "code",
   "execution_count": 8,
   "metadata": {},
   "outputs": [
    {
     "data": {
      "text/plain": [
       "array([2, 2, 2, 2, 2])"
      ]
     },
     "execution_count": 8,
     "metadata": {},
     "output_type": "execute_result"
    }
   ],
   "source": [
    "simulate_guess(5)"
   ]
  },
  {
   "cell_type": "markdown",
   "metadata": {},
   "source": [
    "#### 질문 3: \n",
    "`simulate_guess()`함수는 누구(Show Host or Contestant)의 역할을 감당하는 것을 시뮬레이션 하는 것인가요? \n"
   ]
  },
  {
   "cell_type": "markdown",
   "metadata": {},
   "source": [
    "#### 답:\n",
    "- Contestant\n",
    "- "
   ]
  },
  {
   "cell_type": "markdown",
   "metadata": {},
   "source": [
    "#### 질문 4: \n",
    "`simulate_guess()` 함수를 정의할 때, 왜 \"This could be a random strategy, one that always guesses 2, whatever.\"라고 설명하나요? random strategy로 할 때의 함수 반환값과 다른 경우의 반환값을 각각 `nsim = 7` 일 경우, 나열하십시오. \n"
   ]
  },
  {
   "cell_type": "markdown",
   "metadata": {},
   "source": [
    "#### 답:\n",
    "- random strategy로 할 경우: [0, 0, 1, 1, 2, 0, 1]\n",
    "- 다른 경우: [1, 1, 1, 1, 1, 1, 1]"
   ]
  },
  {
   "cell_type": "markdown",
   "metadata": {},
   "source": [
    "## Step 3: \n",
    "Next, write a function, `goat_door`, to simulate randomly revealing one of the goat doors that a contestant didn't pick."
   ]
  },
  {
   "cell_type": "code",
   "execution_count": 3,
   "metadata": {},
   "outputs": [],
   "source": [
    "# %%file goat_door.py\n",
    "# goat_door.py\n",
    "# CrushPython - MontyHall\n",
    "\n",
    "import numpy as np\n",
    "import random\n",
    "\n",
    "def goat_door(prizedoors, guesses):\n",
    "    \"\"\" Return the goat door that is opened for each simulation. \n",
    "    Each item is 0, 1, or 2, and is different from both prizedoors and guesses.\n",
    "    \n",
    "    It simulates the opening of a \"goat door\" that doesn't contain the prize,\n",
    "        and is different from the contestants guess\n",
    "    The prizedoors array or list is the door that the prize is behind \n",
    "        in each simulation\n",
    "    The guesses array or list is the door that the contestant guessed \n",
    "        in each simulation\n",
    "        \n",
    "    remove(element) removes the first matching element from the list.\n",
    "    pop() removes the last element from the list.\n",
    "\n",
    "    >>> print(goat_door(np.array([0, 1, 2]), np.array([1, 1, 1])))\n",
    "    array([2, 2, 0])              # array([2, 0, 0]) is valid too.\n",
    "    >>> print(goat_door([0, 1, 2], [1, 1, 1]))\n",
    "    array([2, 2, 0])              # array([2, 0, 0]) is valid too.\n",
    "    \"\"\"\n",
    "    \n",
    "    goat_door = []\n",
    "    \n",
    "    for i in range(len(prizedoors)):\n",
    "        notPrizeList = [ j for j in range(3) ]\n",
    "        \n",
    "        if prizedoors[i] == guesses[i]:\n",
    "            notPrizeList.remove(prizedoors[i])\n",
    "        else:\n",
    "            notPrizeList.remove(prizedoors[i])\n",
    "            notPrizeList.remove(guesses[i])\n",
    "            \n",
    "        pickGoat = random.choice(notPrizeList)\n",
    "        goat_door.append(pickGoat)\n",
    "    return goat_door"
   ]
  },
  {
   "cell_type": "code",
   "execution_count": 10,
   "metadata": {},
   "outputs": [
    {
     "data": {
      "text/plain": [
       "[2, 2, 0]"
      ]
     },
     "execution_count": 10,
     "metadata": {},
     "output_type": "execute_result"
    }
   ],
   "source": [
    "goat_door([0, 1, 2], [1, 1, 1])"
   ]
  },
  {
   "cell_type": "code",
   "execution_count": 8,
   "metadata": {},
   "outputs": [
    {
     "name": "stdout",
     "output_type": "stream",
     "text": [
      "[2 2 0 2 0]\n"
     ]
    }
   ],
   "source": [
    "print(goat_door(np.array([0, 1, 2, 0, 2]), np.array([1, 1, 1, 1, 1])))"
   ]
  },
  {
   "cell_type": "markdown",
   "metadata": {},
   "source": [
    "### Step 3: NumPy Impelmentation "
   ]
  },
  {
   "cell_type": "code",
   "execution_count": 5,
   "metadata": {},
   "outputs": [],
   "source": [
    "def goat_door(prizedoors, guesses):\n",
    "    goat_door = np.empty(0, dtype=int)\n",
    "    \n",
    "    for i in range(len(prizedoors)):\n",
    "        notPrizeList = np.empty(0, dtype=int)\n",
    "        for num in range(3):\n",
    "            notPrizeList = np.append(notPrizeList, num)\n",
    "        if prizedoors[i] == guesses[i]:\n",
    "            index = np.where(notPrizeList == prizedoors[i])\n",
    "            notPrizeList = np.delete(notPrizeList, index)\n",
    "        else:\n",
    "            index = np.where(notPrizeList == prizedoors[i])\n",
    "            notPrizeList = np.delete(notPrizeList, index)\n",
    "            index2 = np.where(notPrizeList == guesses[i])\n",
    "            notPrizeList = np.delete(notPrizeList, index2)\n",
    "            \n",
    "        pickGoat = random.choice(notPrizeList)\n",
    "        goat_door = np.append(goat_door, pickGoat)\n",
    "    return goat_door"
   ]
  },
  {
   "cell_type": "code",
   "execution_count": 6,
   "metadata": {},
   "outputs": [
    {
     "data": {
      "text/plain": [
       "array([2, 0, 0])"
      ]
     },
     "execution_count": 6,
     "metadata": {},
     "output_type": "execute_result"
    }
   ],
   "source": [
    "goat_door([0, 1, 2], [1, 1, 1])"
   ]
  },
  {
   "cell_type": "code",
   "execution_count": 7,
   "metadata": {},
   "outputs": [
    {
     "name": "stdout",
     "output_type": "stream",
     "text": [
      "[2 2 0 2 0]\n"
     ]
    }
   ],
   "source": [
    "print(goat_door(np.array([0, 1, 2, 0, 2]), np.array([1, 1, 1, 1, 1])))"
   ]
  },
  {
   "cell_type": "markdown",
   "metadata": {},
   "source": [
    "#### 질문 5:\n",
    "\n",
    "만약 `prizedoors = [0, 1, 2, 1, 2]`이며, random strtegy로 인하여, `guesses = [1, 2, 0, 1, 0]`이라면, `goat_door()`가 반환하는 값은 무엇입니까? 답이 여러 개라면, 모든 경우를 나열하십시오. \n",
    "\n"
   ]
  },
  {
   "cell_type": "markdown",
   "metadata": {},
   "source": [
    "#### 답:\n",
    "```\n",
    "- [2, 0, 1, 0, 1]\n",
    "- [2, 0, 1, 2, 1]\n",
    "```"
   ]
  },
  {
   "cell_type": "markdown",
   "metadata": {},
   "source": [
    "## Step 4: \n",
    "Write a function, `switch_guess`, that represents the strategy of always switching a guess after the goat door is opened."
   ]
  },
  {
   "cell_type": "code",
   "execution_count": 14,
   "metadata": {},
   "outputs": [],
   "source": [
    "# %%file switch_guess.py\n",
    "# %load switch_guess.py\n",
    "# CrushPython - MontyHall\n",
    "\n",
    "def switch_guess(guesses, goatdoors):\n",
    "    \"\"\" Return the new door after switching. Should be different from \n",
    "    both guesses and goatdoors.\n",
    "    The parameter guesses is an array or list of original guesses for \n",
    "        each simulation \n",
    "    The parameter goatdoors is an array or list of revealed goat doors for \n",
    "        each simulation\n",
    "    The strategy that always switches a guess after the goat door is opened\n",
    "    \n",
    "    remove(element) removes the first matching element from the list.\n",
    "    pop() removes the last element from the list.\n",
    "    \n",
    "    >>> print(switch_guess(np.array([0, 1, 2]), np.array([1, 2, 1])))\n",
    "    [2, 0, 0]                      # [2, 0, 0] is valid\n",
    "    >>> print(switch_guess([0, 1, 2], [1, 2, 1]))\n",
    "    [2, 0, 0]                      # [2, 0, 0] is valid\n",
    "    \"\"\"\n",
    "    switchguess = []\n",
    "\n",
    "    for i in range(len(guesses)):\n",
    "        assert guesses[i] != goatdoors[i]\n",
    "\n",
    "        changeDoor = [ j for j in range(3) ]\n",
    "        \n",
    "        changeDoor.remove(goatdoors[i])\n",
    "        changeDoor.remove(guesses[i])\n",
    "            \n",
    "        pickAnotherDoor = random.choice(changeDoor)\n",
    "        switchguess.append(pickAnotherDoor)\n",
    "    return switchguess"
   ]
  },
  {
   "cell_type": "code",
   "execution_count": 15,
   "metadata": {},
   "outputs": [
    {
     "data": {
      "text/plain": [
       "[2, 0, 0]"
      ]
     },
     "execution_count": 15,
     "metadata": {},
     "output_type": "execute_result"
    }
   ],
   "source": [
    "switch_guess([0, 1, 2], [1, 2, 1])"
   ]
  },
  {
   "cell_type": "code",
   "execution_count": 16,
   "metadata": {},
   "outputs": [
    {
     "data": {
      "text/plain": [
       "[0, 2, 2]"
      ]
     },
     "execution_count": 16,
     "metadata": {},
     "output_type": "execute_result"
    }
   ],
   "source": [
    "switch_guess(np.array([1, 1, 1]), np.array([2, 0, 0]))"
   ]
  },
  {
   "cell_type": "markdown",
   "metadata": {},
   "source": [
    "### Step 4: NumPy Impelmentation "
   ]
  },
  {
   "cell_type": "code",
   "execution_count": 9,
   "metadata": {},
   "outputs": [],
   "source": [
    "def switch_guess(guesses, goatdoors):\n",
    "    switchguess = np.empty(0, dtype=int)\n",
    "    \n",
    "    for i in range(len(guesses)):\n",
    "        assert guesses[i] != goatdoors[i]\n",
    "        changeDoor = np.empty(0, dtype=int)\n",
    "        for num in range(3):\n",
    "            changeDoor = np.append(changeDoor, num)\n",
    "\n",
    "        index = np.where(changeDoor == guesses[i])\n",
    "        changeDoor = np.delete(changeDoor, index)\n",
    "        index2 = np.where(changeDoor == goatdoors[i])\n",
    "        changeDoor = np.delete(changeDoor, index2)\n",
    "            \n",
    "        pickAnotherDoor = random.choice(changeDoor)\n",
    "        switchguess = np.append(switchguess, pickAnotherDoor)\n",
    "    return switchguess"
   ]
  },
  {
   "cell_type": "code",
   "execution_count": 10,
   "metadata": {},
   "outputs": [
    {
     "data": {
      "text/plain": [
       "array([1, 2, 1, 0, 2])"
      ]
     },
     "execution_count": 10,
     "metadata": {},
     "output_type": "execute_result"
    }
   ],
   "source": [
    "switch_guess(guesses = [0, 1, 2, 1, 0], goatdoors = [2, 0, 0, 2, 1] )"
   ]
  },
  {
   "cell_type": "code",
   "execution_count": 11,
   "metadata": {},
   "outputs": [
    {
     "data": {
      "text/plain": [
       "array([0, 2, 2])"
      ]
     },
     "execution_count": 11,
     "metadata": {},
     "output_type": "execute_result"
    }
   ],
   "source": [
    "switch_guess(np.array([1, 1, 1]), np.array([2, 0, 0]))"
   ]
  },
  {
   "cell_type": "markdown",
   "metadata": {},
   "source": [
    "#### 질문 6:\n",
    "\n",
    "만약, `switch_guess(guesses = [0, 1, 2, 1, 0], ________ )` 함수에 `goatdoors = [2, 1, 0, 2, 1]`를 인자로 호출한다면, 함수는 작동하지 않을 것입니다. `goatdoors` 인자 값에서 잘못된 부분의 의미(이유)를 설명하고, 작동할 수 있는 인자값(들)을 제시하십시오. "
   ]
  },
  {
   "cell_type": "markdown",
   "metadata": {},
   "source": [
    "#### 답:\n",
    "```\n",
    "- 값이 정상적으로 출력되지 않는 이유: goatdoors의 값은 guesses와 동일한 인덱스에서 다른 값을 가져야 합니다.\n",
    "- goatdoors [2, 2, 0, 2, 1] or [2, 0, 0, 2, 1]\n",
    "```"
   ]
  },
  {
   "cell_type": "markdown",
   "metadata": {},
   "source": [
    "## Step 5 - Almost finished...: \n",
    "Last function: write a `win_percentage` function that takes an array or list of `guesses` and `prizedoors`, and returns the percent of correct guesses"
   ]
  },
  {
   "cell_type": "code",
   "execution_count": 19,
   "metadata": {},
   "outputs": [],
   "source": [
    "# %%file win_percentage.py\n",
    "# win_percentage.py\n",
    "# CrushPython - MontyHall\n",
    "\n",
    "def win_percentage(guesses, prizedoors):\n",
    "    \"\"\" Return the win percentage between 0 and 100. \n",
    "    win_percentage is calculated by the percent of times that a simulation of \n",
    "        guesses is correct\n",
    "    The parameters: \n",
    "    guesses is an array or list of guesses for each simulation\n",
    "    prizedoors is an array or list of the location of prize for each simulation\n",
    "\n",
    "    >>> print(win_percentage(np.array([0, 1, 2]), np.array([0, 0, 0])))\n",
    "    33.333\n",
    "    >>> print(win_percentage([0, 1, 2], [0, 0, 0]))\n",
    "    33.333\n",
    "    \"\"\"\n",
    "    \n",
    "    wins = []\n",
    "    winpercentage = 0.0\n",
    "\n",
    "    for i in range(len(guesses)):\n",
    "        if guesses[i] == prizedoors[i]:\n",
    "            wins.append(guesses[i])\n",
    "    winpercentage = round(len(wins) / len(guesses), 3)\n",
    "    return winpercentage"
   ]
  },
  {
   "cell_type": "code",
   "execution_count": 20,
   "metadata": {},
   "outputs": [
    {
     "name": "stdout",
     "output_type": "stream",
     "text": [
      "0.333\n"
     ]
    }
   ],
   "source": [
    "print(win_percentage(np.array([0, 1, 2]), np.array([0, 0, 0])))"
   ]
  },
  {
   "cell_type": "markdown",
   "metadata": {},
   "source": [
    "# Congratulations!\n",
    "\n",
    "## Step 5 - The final step: \n",
    "Now, put it together. Simulate (nsim=1000) games where contestant keeps his original guess versus where the contestant switches his door after a  goat door is revealed. \n",
    "\n",
    "Compute the percentage of time the contestant wins under either strategy. Is one strategy better than the other?\n",
    "\n",
    "__A sample run:__\n",
    "```\n",
    "Winning Rate with the original guess: 0.324\n",
    "Winning Rate with the switched guess: 0.647\n",
    "```"
   ]
  },
  {
   "cell_type": "code",
   "execution_count": 21,
   "metadata": {},
   "outputs": [
    {
     "name": "stdout",
     "output_type": "stream",
     "text": [
      "Winning Rate with the original guess: 0.32\n",
      "Winning Rate with the switched guess: 0.68\n"
     ]
    }
   ],
   "source": [
    "# %%file MontyHall.py\n",
    "# MontyFall.py\n",
    "# CrushPython - MontyHall\n",
    "\n",
    "nsim = 1000\n",
    "\n",
    "prizedoor = simulate_prizedoor(nsim)\n",
    "guess = simulate_guess(nsim)\n",
    "\n",
    "print(\"Winning Rate with the original guess:\", win_percentage(guess, prizedoor))\n",
    "\n",
    "#switch everytime for nsim\n",
    "goatdoor = goat_door(prizedoor, guess)\n",
    "switchguess = switch_guess(guess, goatdoor)\n",
    "\n",
    "print(\"Winning Rate with the switched guess:\", win_percentage(switchguess, prizedoor))"
   ]
  },
  {
   "cell_type": "markdown",
   "metadata": {},
   "source": [
    "# Challenge: Plot the simulation process. \n",
    "As the number of simulation increases, the winning rate converges as we computed above. In the plot, the x-axis is the number of simulation, and the y-axis the winning rate.\n",
    "\n",
    "__A sample run:__\n",
    "<img src=\"https://github.com/idebtor/KMOOC-ML/blob/master/ipynb/images/montyhall_plot.png?raw=true\" width=\"400\">\n",
    "<center>Monty Hall problem winning rate simulation</center>"
   ]
  },
  {
   "cell_type": "code",
   "execution_count": 22,
   "metadata": {},
   "outputs": [
    {
     "data": {
      "text/plain": [
       "<matplotlib.legend.Legend at 0x7ffe8769bcd0>"
      ]
     },
     "execution_count": 22,
     "metadata": {},
     "output_type": "execute_result"
    },
    {
     "data": {
      "image/png": "[encoded data removed]",
      "text/plain": [
       "<Figure size 432x288 with 1 Axes>"
      ]
     },
     "metadata": {
      "needs_background": "light"
     },
     "output_type": "display_data"
    }
   ],
   "source": [
    "#%%file MontyHallPlot.py\n",
    "# MontyFallPlot.py\n",
    "# CrushPython - MontyHall\n",
    "\n",
    "%matplotlib inline\n",
    "import matplotlib.pyplot as plot\n",
    "\n",
    "nsim = 1000    \n",
    "win_rate_keep = []\n",
    "win_rate_swap = []\n",
    "\n",
    "for n in range(1, nsim):\n",
    "    prizedoor = simulate_prizedoor(n)\n",
    "    guess = simulate_guess(n)\n",
    "    win_rate_keep.append(win_percentage(guess, prizedoor))\n",
    "    goatdoor = goat_door(prizedoor, guess)\n",
    "    switchguess = switch_guess(guess, goatdoor)\n",
    "    win_rate_swap.append(win_percentage(switchguess, prizedoor))\n",
    "\n",
    "plot.plot([x for x in range(1, nsim)], win_rate_keep, label='Original Guess')   \n",
    "\n",
    "plot.plot([x for x in range(1, nsim)], win_rate_swap, label='Switched Guess')   \n",
    "plot.title(\"Winning Rate Plot\")\n",
    "plot.xlabel(\"Number of Simulation\")\n",
    "plot.ylabel(\"Winning Percentage\")\n",
    "plot.legend() "
   ]
  },
  {
   "cell_type": "markdown",
   "metadata": {},
   "source": [
    "### Fianl Note:\n",
    "Many people find this answer counter-intuitive (famously, PhD mathematicians have incorrectly claimed the result must be wrong. Clearly, none of them knew Python). \n",
    "\n",
    "One of the best ways to build intuition about why opening a Goat door affects the odds is to re-run the experiment with 100 doors and one prize. If the game show host opens 98 goat doors after you make your initial selection, would you want to keep your first pick or switch? Can you generalize your simulation code to handle the case of `n` doors?"
   ]
  },
  {
   "cell_type": "markdown",
   "metadata": {},
   "source": [
    "-----\n",
    "God has saved us and called us to a holy life - not because of anythin we have done but because of his own purpose and grace. This grace was given us in Christ Jesus before the beginning of time. (1Tim1:9)\n",
    "\n",
    "하나님이 우리를 구원하사 거룩하신 소명으로 부르심은 우리의 행위대로 하심이 아니요 오직 자기 뜻과 영원 전부터 그리스도 예수 안에서 우리에게 주신 은혜대로 하심이라. (딤후1:9)"
   ]
  }
 ],
 "metadata": {
  "kernelspec": {
   "display_name": "Python 3",
   "language": "python",
   "name": "python3"
  },
  "language_info": {
   "codemirror_mode": {
    "name": "ipython",
    "version": 3
   },
   "file_extension": ".py",
   "mimetype": "text/x-python",
   "name": "python",
   "nbconvert_exporter": "python",
   "pygments_lexer": "ipython3",
   "version": "3.8.3"
  }
 },
 "nbformat": 4,
 "nbformat_minor": 1
}
