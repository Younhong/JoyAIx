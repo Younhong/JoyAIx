{
 "cells": [
  {
   "cell_type": "markdown",
   "metadata": {},
   "source": [
    "The fear of the LORD is the beginning of knowledge, but fools despise wisdom and discipline. Proverbs 1:7\n",
    "\n",
    "-------\n",
    "\n",
    "# Welcome to \"AI for All\"\n",
    "\n",
    "Lecture Notes by idebtor@gmail.com, Handong Global University"
   ]
  },
  {
   "cell_type": "markdown",
   "metadata": {},
   "source": [
    "##  Exercise \n",
    "\n",
    "#### 1. 다음과 같이 3x4 배열을 만들고, np.newaxis를 이용하여 axis 0 를 추가 하여 (1, 3, 4) 형상의 배열과 axis 2를 추가하여 (3, 1, 4) 형상의 배열을 생성하십시오. \n",
    "\n",
    "2차원 배열 형상(3, 4)\n",
    "```\n",
    "[[ 0  1  2  3]\n",
    " [ 4  5  6  7]\n",
    " [ 8  9 10 11]]\n",
    "```\n",
    "\n",
    "3차원 배열 형상 (1, 3, 4) \n",
    "```\n",
    "[[[ 0  1  2  3]\n",
    "  [ 4  5  6  7]\n",
    "  [ 8  9 10 11]]]\n",
    "  \n",
    "```\n",
    "\n",
    "3차원 배열 형상 (3, 1, 4) \n",
    "```\n",
    "[[[ 0  1  2  3]]\n",
    "\n",
    "  [[ 4  5  6  7]]\n",
    "\n",
    "  [[ 8  9 10 11]]]\n",
    "```"
   ]
  },
  {
   "cell_type": "code",
   "execution_count": 4,
   "metadata": {
    "scrolled": false
   },
   "outputs": [
    {
     "name": "stdout",
     "output_type": "stream",
     "text": [
      "[[ 0  1  2  3]\n",
      " [ 4  5  6  7]\n",
      " [ 8  9 10 11]]\n",
      "[[[ 0  1  2  3]\n",
      "  [ 4  5  6  7]\n",
      "  [ 8  9 10 11]]]\n",
      "[[[ 0  1  2  3]]\n",
      "\n",
      " [[ 4  5  6  7]]\n",
      "\n",
      " [[ 8  9 10 11]]]\n",
      "(3, 1, 4)\n"
     ]
    }
   ],
   "source": [
    "import numpy as np\n",
    "a = np.arange(12).reshape(3, 4)\n",
    "print(a)\n",
    "b = a.reshape(1,3,4)            # using reshape()\n",
    "print(b)\n",
    "c = a[:, np.newaxis, :]         # using newaxis\n",
    "print(c)\n",
    "print(c.shape)"
   ]
  },
  {
   "cell_type": "markdown",
   "metadata": {},
   "source": [
    "#### 2.  배열의 슬라이싱\n",
    "다음 그림의 배열의 위 왼쪽 코너의 4개의 원소 즉 `[[1, 2], [5,6]]`와 아래 오른쪽 코너 4개의 원소 즉 `[[7, 8], [11,12]]`를 추출하십시오. \n",
    "<img src=\"https://github.com/idebtor/KMOOC-ML/blob/master/ipynb/images/ndarray-indexing1.png?raw=true\" width=\"200\">\n",
    "<center>그림 2: Numpy 배열 인덱싱</center>"
   ]
  },
  {
   "cell_type": "code",
   "execution_count": 8,
   "metadata": {},
   "outputs": [
    {
     "name": "stdout",
     "output_type": "stream",
     "text": [
      "[[ 1  2  3  4]\n",
      " [ 5  6  7  8]\n",
      " [ 9 10 11 12]]\n",
      "[[ 7  8]\n",
      " [11 12]]\n"
     ]
    }
   ],
   "source": [
    "a = np.arange(1,13).reshape(3,4)\n",
    "print(a)\n",
    "b = a[-2:,-2:]\n",
    "print(b)"
   ]
  },
  {
   "cell_type": "markdown",
   "metadata": {},
   "source": [
    "#### 3. 다음 코드 셀에서 생성하는 3x4 배열에서 가장 가운데 있는 배열의 원소 `7, 8, 9`를 슬라이싱하여 출력하십시오. \n",
    "\n",
    "```\n",
    "[[ 1  2  3  4  5]\n",
    " [ 6  7  8  9 10]\n",
    " [11 12 13 14 15]]\n",
    " ```\n",
    " ```\n",
    "[[7 8 9]]\n",
    "```\n",
    "\n",
    "#### solution:"
   ]
  },
  {
   "cell_type": "code",
   "execution_count": 21,
   "metadata": {},
   "outputs": [
    {
     "name": "stdout",
     "output_type": "stream",
     "text": [
      "[[ 1  2  3  4  5]\n",
      " [ 6  7  8  9 10]\n",
      " [11 12 13 14 15]]\n",
      "[[7 8 9]]\n"
     ]
    }
   ],
   "source": [
    "a = np.arange(1, 16).reshape(3, -1)\n",
    "print(a)\n",
    "b = a[1:2, 1:-1]\n",
    "print(b)"
   ]
  },
  {
   "cell_type": "markdown",
   "metadata": {},
   "source": [
    "#### 4. 아래와 같이 주어진 배열의 가장자리의 행과 열을 제외한 나머지 배열을 인덱싱하여 다음과 같이 출력하십시오. 단, 이 문제의 답을 바로 위의 문제에 넣어도 답이 되도록 코딩(Slicing)을 하십시오. \n",
    "\n",
    "```\n",
    "[[ 1  2  3  4  5  6]\n",
    " [ 7  8  9 10 11 12]\n",
    " [13 14 15 16 17 18]\n",
    " [19 20 21 22 23 24]\n",
    " [25 26 27 28 29 30]]\n",
    "[[ 8  9 10 11]\n",
    " [14 15 16 17]\n",
    " [20 21 22 23]]\n",
    "```\n",
    "\n",
    "#### solution:"
   ]
  },
  {
   "cell_type": "code",
   "execution_count": 12,
   "metadata": {},
   "outputs": [
    {
     "name": "stdout",
     "output_type": "stream",
     "text": [
      "[[ 1  2  3  4  5  6]\n",
      " [ 7  8  9 10 11 12]\n",
      " [13 14 15 16 17 18]\n",
      " [19 20 21 22 23 24]\n",
      " [25 26 27 28 29 30]]\n",
      "[[ 8  9 10 11]\n",
      " [14 15 16 17]\n",
      " [20 21 22 23]]\n"
     ]
    }
   ],
   "source": [
    "data = np.arange(1, 31).reshape(5, 6)\n",
    "print(data)\n",
    "b = data[1:-1, 1:-1]\n",
    "print(b)"
   ]
  },
  {
   "cell_type": "markdown",
   "metadata": {},
   "source": [
    "#### 5.  다음 코드 셀에서, 아래와 같이 주어진 배열의 짝수번째 열을 제외한 모든 요소를 포함하는 배열을 출력하십시오.  힌트: 파이썬의 여러 곳에서 사용되고 있는 `[start:end:step]` 용법을 적용하면 됩니다. \n",
    "\n",
    "```\n",
    "[[ 1  2  3  4  5  6  7  8]\n",
    " [ 9 10 11 12 13 14 15 16]\n",
    " [17 18 19 20 21 22 23 24]]\n",
    "[[ 1  3  5  7]\n",
    " [ 9 11 13 15]\n",
    " [17 19 21 23]]\n",
    "```\n",
    "\n",
    "#### solution"
   ]
  },
  {
   "cell_type": "code",
   "execution_count": 14,
   "metadata": {},
   "outputs": [
    {
     "name": "stdout",
     "output_type": "stream",
     "text": [
      "[[ 1  2  3  4  5  6  7  8]\n",
      " [ 9 10 11 12 13 14 15 16]\n",
      " [17 18 19 20 21 22 23 24]]\n",
      "[[ 1  3  5  7]\n",
      " [ 9 11 13 15]\n",
      " [17 19 21 23]]\n"
     ]
    }
   ],
   "source": [
    "a = np.arange(1, 25).reshape(3, 8)\n",
    "print(a)\n",
    "b = a[:,::2]\n",
    "print(b)"
   ]
  },
  {
   "cell_type": "markdown",
   "metadata": {},
   "source": [
    "#### Reminder:\n",
    "- 다음과 같은 리스트에서, 과일 이름들이나 숫자만을 찾아내 리스트로 만들 수 있습니다. "
   ]
  },
  {
   "cell_type": "code",
   "execution_count": 15,
   "metadata": {
    "scrolled": true
   },
   "outputs": [
    {
     "name": "stdout",
     "output_type": "stream",
     "text": [
      "['apple', 'kiwi', 'banana', 'pear']\n",
      "[5, 7, 8, 3]\n"
     ]
    }
   ],
   "source": [
    "store = ['apple', 5, 'kiwi', 7, 'banana', 8, 'pear', 3]\n",
    "fruits = store[::2]\n",
    "stocks = store[1::2]\n",
    "print(fruits)\n",
    "print(stocks)"
   ]
  },
  {
   "cell_type": "markdown",
   "metadata": {},
   "source": [
    "#### 6. 아래의 4x4 배열 `data`에서 첫 세개의 열을 (4, 3)형상으로, 마지막 열을(4,1)형상 또한 (4,)형상으로 슬라이싱 하여 출력하십시오.\n",
    "```\n",
    "[[1 0 0 0]\n",
    " [1 0 1 1]\n",
    " [1 1 0 1]\n",
    " [1 1 1 0]]\n",
    " \n",
    "[[1 0 0]\n",
    " [1 0 1]\n",
    " [1 1 0]\n",
    " [1 1 1]]\n",
    "   \n",
    "[[0]\n",
    " [1]\n",
    " [1]\n",
    " [0]]\n",
    " \n",
    "[0 1 1 0]\n",
    "``` \n",
    "\n",
    "#### solution:"
   ]
  },
  {
   "cell_type": "code",
   "execution_count": 29,
   "metadata": {},
   "outputs": [
    {
     "name": "stdout",
     "output_type": "stream",
     "text": [
      "[[1 0 0 0]\n",
      " [1 0 1 1]\n",
      " [1 1 0 1]\n",
      " [1 1 1 0]]\n",
      "[[1 0 0]\n",
      " [1 0 1]\n",
      " [1 1 0]\n",
      " [1 1 1]]\n",
      "[[0]\n",
      " [1]\n",
      " [1]\n",
      " [0]]\n",
      "[0 1 1 0]\n"
     ]
    }
   ],
   "source": [
    "a = np.array([[1, 0, 0, 0], [1, 0, 1, 1], [1, 1, 0, 1], [1, 1, 1, 0]])\n",
    "print(a)\n",
    "x, y, z = a[:,:-1], a[:,-1:], a[:,-1]\n",
    "print(x)\n",
    "print(y)\n",
    "print(z)"
   ]
  },
  {
   "cell_type": "markdown",
   "metadata": {},
   "source": [
    "## 학습 정리\n",
    "1. 배열의 형상 다루기\n",
    "1. 배열들 합치기\n",
    "1. 배열의 인덱싱과 슬라이싱\n",
    "1. 배열과 벡터의 연산"
   ]
  },
  {
   "cell_type": "markdown",
   "metadata": {},
   "source": [
    "### 참고자료\n",
    "- CS231n Convolutional Neural Networks for Visual Recognition, [Python Numpy Tutorial](http://cs231n.github.io/python-numpy-tutorial/), Stanford University\n",
    "- [Python For Data Science Cheat Sheet NumPy Basics](https://s3.amazonaws.com/assets.datacamp.com/blog_assets/Numpy_Python_Cheat_Sheet.pdf), DataCamp\n",
    "- [astroML](http://www.astroml.org/book_figures/appendix/fig_broadcast_visual.html) \n",
    "- Python Numpy Tutorial - http://cs231n.github.io/\n",
    "- 김태완 블로그: [파이썬 데이터 사이언스 Cheat Sheet](http://taewan.kim/post/numpy_cheat_sheet/)"
   ]
  },
  {
   "cell_type": "markdown",
   "metadata": {},
   "source": []
  },
  {
   "cell_type": "markdown",
   "metadata": {},
   "source": [
    "## Exercise "
   ]
  },
  {
   "cell_type": "markdown",
   "metadata": {},
   "source": [
    "### 1. 배열 생성과 axis를 이용한 연산 \n",
    "\n",
    "다음 그림과 같은 3차원 배열 `a`를 생성하고, axis = 0 및 axis = 1 의 sum을 각각 손으로 계산하고, 또한 코드로 확인하십시오.  \n",
    "\n",
    "<img src=\"https://github.com/idebtor/KMOOC-ML/blob/master/ipynb/images/ndarray2.png?raw=true\" width=\"600\">\n",
    "\n",
    "<center>그림 1: 넘파이 1차원, 2차원 및 3차원 배열과 Axis 0 의미의 변화</center>"
   ]
  },
  {
   "cell_type": "markdown",
   "metadata": {},
   "source": [
    "1차원 배열에 있는 유일한 축 즉 첫 번째 축이 axix 0 입니다. 2차원 배열에서 axis 0는 행(row)의 갯수입니다.  2차원 배열이 여러 개 모여 3차원의 배열을 이루는데, 그 첫 번째 axis는 2차원 배열의 갯수입니다. 배열 shape의 첫 번째 요소가 항상 axis 0에 해당합니다. \n",
    "\n",
    "여기서 생성한 3차원 배열 `a`는 (2, 3) 2차원 배열이 4개 모인 것이며, shape은 (4, 2, 3)이 될 것입니다.  크기가 (2, 3)인 4개의 배열들의 원소들을 각각 더하면 될 것입니다. 우선 그러한 배열을 생성하여 출력하고, 우리가 머리로 먼저 계산하고, 이것을 코딩하여 확인합니다.  이제 크기가 (2, 3)인 4개의 배열들의 원소들을 각각 더하면, 결과를 내면 그 형상은 당연히 (2, 3)가 될 것입니다.  \n",
    "\n",
    "```\n",
    "[[36 40 44]\n",
    " [48 52 56]]]\n",
    "\n",
    "[[ 3  5  7]\n",
    " [15 17 19]\n",
    " [27 29 31]\n",
    " [39 41 43]]\n",
    "```\n",
    "#### Solution:"
   ]
  },
  {
   "cell_type": "code",
   "execution_count": 22,
   "metadata": {},
   "outputs": [
    {
     "name": "stdout",
     "output_type": "stream",
     "text": [
      "[[36 40 44]\n",
      " [48 52 56]]\n",
      "[[ 3  5  7]\n",
      " [15 17 19]\n",
      " [27 29 31]\n",
      " [39 41 43]]\n"
     ]
    }
   ],
   "source": [
    "a = np.arange(24).reshape(4,2,3)\n",
    "axis0sum = np.sum(a, axis=0)\n",
    "axis1sum = np.sum(a, axis=1)\n",
    "print(axis0sum)\n",
    "print(axis1sum)"
   ]
  },
  {
   "cell_type": "markdown",
   "metadata": {},
   "source": [
    "예를 들면, 어떤 배열의 크기(shape)가 (60000, 28, 28)이라고 한다면, 배열의 크기가 (28, 28)인 2차원 배열이 6만개 있다는 것입니다. 2차원 배열은 흔히 이미지를 나타내는 많이 사용됩니다. 좀 더 구체적으로 말하면, 채널이 하나인 흑백 이미지가 6만 장이라는 말입니다. "
   ]
  },
  {
   "cell_type": "markdown",
   "metadata": {},
   "source": [
    "### 2. 이미지 추출하기 - Center\n",
    "\n",
    "기계학습을 진행하다 보면, 이미지를 일부분을 추출(Slicing)해야 할 때가 종종 있습니다. 주어진 이미지(16, 16)에서 처음과 마지막 두 행과 열을 제외한 부분 이미지(8x8)를 추출하십시오\n",
    "- 추출한 이미지의 four corners의 값을 출력하여, 각각 `68, 75, 180, 187`인 것을 확인하십시오.  "
   ]
  },
  {
   "cell_type": "markdown",
   "metadata": {},
   "source": [
    "<img src=\"https://github.com/idebtor/KMOOC-ML/blob/master/ipynb/images/numpy-image2.png?raw=true\" width=\"200\">\n",
    "\n",
    "<center>그림 2: 이미지의 가운데 부분 추출하기</center>\n",
    "\n",
    "#### Solution:"
   ]
  },
  {
   "cell_type": "code",
   "execution_count": 28,
   "metadata": {},
   "outputs": [
    {
     "name": "stdout",
     "output_type": "stream",
     "text": [
      "68 75 180 187\n"
     ]
    },
    {
     "data": {
      "text/plain": [
       "<matplotlib.image.AxesImage at 0x7f9079b2b4c0>"
      ]
     },
     "execution_count": 28,
     "metadata": {},
     "output_type": "execute_result"
    },
    {
     "data": {
      "image/png": "[encoded data removed]",
      "text/plain": [
       "<Figure size 432x288 with 1 Axes>"
      ]
     },
     "metadata": {
      "needs_background": "light"
     },
     "output_type": "display_data"
    }
   ],
   "source": [
    "import matplotlib.pyplot as plt\n",
    "image = np.arange(256).reshape(16, 16)\n",
    "center = image[4:-4,4:-4]\n",
    "print(center[0,0], center[0,-1], center[-1,0], center[-1,-1])\n",
    "plt.imshow(center, cmap=\"gray\", vmin=0, vmax=255)"
   ]
  },
  {
   "cell_type": "markdown",
   "metadata": {},
   "source": [
    "### 3. 이미지 추출하여 결합하기 - Four corners\n",
    "\n",
    "기계학습을 진행하다 보면, 이미지를 일부분을 추출(Slicing)해야 할 때가 종종 있습니다. 주어진 이미지(16, 16)에서 네 코너들(upper lower 를 4x4로 추출한 후, 이들을 결합한 새로운 이미지(8x8)를 만드십시오. \n",
    "- 결합한 이미지의 four corners의 값을 출력하여, 각각 `0, 15, 240, 255`인 것을 확인하십시오.  "
   ]
  },
  {
   "cell_type": "markdown",
   "metadata": {},
   "source": [
    "<img src=\"https://github.com/idebtor/KMOOC-ML/blob/master/ipynb/images/numpy-image3.png?raw=true\" width=\"200\">\n",
    "\n",
    "<center>그림 3: 이미지의 네 코너들을 4x4로 추출하여 결합하기</center>\n",
    "\n",
    "#### Solution:"
   ]
  },
  {
   "cell_type": "code",
   "execution_count": 43,
   "metadata": {},
   "outputs": [
    {
     "name": "stdout",
     "output_type": "stream",
     "text": [
      "[[  0   1   2   3  12  13  14  15]\n",
      " [ 16  17  18  19  28  29  30  31]\n",
      " [ 32  33  34  35  44  45  46  47]\n",
      " [ 48  49  50  51  60  61  62  63]\n",
      " [192 193 194 195 204 205 206 207]\n",
      " [208 209 210 211 220 221 222 223]\n",
      " [224 225 226 227 236 237 238 239]\n",
      " [240 241 242 243 252 253 254 255]]\n"
     ]
    },
    {
     "data": {
      "text/plain": [
       "<matplotlib.image.AxesImage at 0x7f907ad5f190>"
      ]
     },
     "execution_count": 43,
     "metadata": {},
     "output_type": "execute_result"
    },
    {
     "data": {
      "image/png": "[encoded data removed]",
      "text/plain": [
       "<Figure size 432x288 with 1 Axes>"
      ]
     },
     "metadata": {
      "needs_background": "light"
     },
     "output_type": "display_data"
    }
   ],
   "source": [
    "image = np.arange(256).reshape(16, 16)\n",
    "upperleft = image[:4,:4]\n",
    "lowerleft = image[-4:,:4]\n",
    "upper = np.vstack([upperleft, lowerleft])  # combine two upper corners\n",
    "upperright = image[:4, -4:]\n",
    "lowerright = image[-4:, -4:]\n",
    "lower = np.vstack([upperright, lowerright])      # combine two lower corners\n",
    "corners = np.hstack([upper, lower])            # combine upper and lower \n",
    "print(corners)\n",
    "plt.imshow(corners, cmap=\"gray\")"
   ]
  },
  {
   "cell_type": "markdown",
   "metadata": {},
   "source": [
    "### 4. 이미지 이동하기 (Shift)\n",
    "\n",
    "기계학습을 진행하다 보면, 이미지를 아래로, 오른쪽으로 혹은 위로, 왼쪽 이동해야 할 때가 있습니다. 이를 위해 ndarray처럼 ndimage 라이브러리가 제공됩니다. 수많은 함수 중에 이미지를 이동할 수 있는 shift함수가 있으며, 이동한 빈 자리에 어떤 값으로 채울지에 여러 옵션도 있습니다. \n",
    "\n",
    "shfit함수의 두 번째 인자가 __shift__인데, 이것을 정확히 설정하는 것이 중요합니다. 이 함수는 축에 따라 이미지를 shift하는데, 2D텐서(2차원 배열, 이미지)에서 axis 0는 위에 아래 방향이고, axis 1은 왼쪽에서 오른쪽 방향입니다. 넘파이 2차원 배열과 일치합니다.\n",
    "\n",
    "[scipy.ndimage.interpolation.shift](https://docs.scipy.org/doc/scipy/reference/generated/scipy.ndimage.shift.html) 를 검색해서 살펴 보십시오. \n",
    "\n",
    "```\n",
    "scipy.ndimage.interpolation.shift(input, shift, output=None, order=3, mode='constant', cval=0.0, prefilter=True)\n",
    "```\n",
    "- input : ndarray - The input array.\n",
    "- shift : float or sequence, optional, \n",
    "\n",
    "<p style=\"color:blue\">The shift along the axes. If a float, shift is the same for each axis. If a sequence, shift should contain one value for each axis. </p>\n",
    "\n",
    "위와 같은 설명에 따라 두 번째 shift 매개변수를 axis에 따라 어떻게 이동할지 설정해야 합니다. 이를 참고로 하여 아래 이미지(original)를 상/하, 좌우로 3 픽셀을 옮기고, 그 빈 자리에는 100으로 채우도록 코딩하십시오. "
   ]
  },
  {
   "cell_type": "markdown",
   "metadata": {},
   "source": [
    "<img src=\"https://github.com/idebtor/KMOOC-ML/blob/master/ipynb/images/midterm14.png?raw=true\" width=\"600\">\n",
    "\n",
    "<center>그림 4: 이미지 이동하기</center>\n",
    "\n",
    "#### Solution:"
   ]
  },
  {
   "cell_type": "code",
   "execution_count": 42,
   "metadata": {},
   "outputs": [
    {
     "data": {
      "image/png": "[encoded data removed]",
      "text/plain": [
       "<Figure size 720x720 with 5 Axes>"
      ]
     },
     "metadata": {},
     "output_type": "display_data"
    }
   ],
   "source": [
    "from scipy.ndimage.interpolation import shift\n",
    "\n",
    "shifted_down = shift(image, [3, 0], cval=100)  \n",
    "shifted_right = shift(image, [0, 3], cval=100)  \n",
    "shifted_up = shift(image, [-3, 0], cval=100)  \n",
    "shifted_left = shift(image, [0, -3], cval=100)  \n",
    "\n",
    "fig, ax = plt.subplots(1, 5, figsize=(10,10))  \n",
    "ax[0].imshow(image, cmap = \"gray\")\n",
    "ax[1].imshow(shifted_down, cmap=\"gray\")\n",
    "ax[2].imshow(shifted_right, cmap=\"gray\")\n",
    "ax[3].imshow(shifted_up, cmap=\"gray\")\n",
    "ax[4].imshow(shifted_left, cmap=\"gray\")\n",
    "\n",
    "ax[0].set_title(\"original\")\n",
    "ax[1].set_title(\"shifted down\")\n",
    "ax[2].set_title(\"shifted right\")\n",
    "ax[3].set_title(\"shifted up\")\n",
    "ax[4].set_title(\"shifted left\")\n",
    "\n",
    "plt.setp(plt.gcf().get_axes(), xticks=[], yticks=[]);\n",
    "plt.show()"
   ]
  }
 ],
 "metadata": {
  "kernelspec": {
   "display_name": "Python 3",
   "language": "python",
   "name": "python3"
  },
  "language_info": {
   "codemirror_mode": {
    "name": "ipython",
    "version": 3
   },
   "file_extension": ".py",
   "mimetype": "text/x-python",
   "name": "python",
   "nbconvert_exporter": "python",
   "pygments_lexer": "ipython3",
   "version": "3.8.3"
  }
 },
 "nbformat": 4,
 "nbformat_minor": 2
}
