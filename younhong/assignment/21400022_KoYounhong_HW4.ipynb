{
 "cells": [
  {
   "cell_type": "markdown",
   "metadata": {},
   "source": [
    "# 모인활 숙제\n",
    "\n",
    "## 1. Teen Age \n",
    "\n",
    "- Write a function, `is_teen(age)`, which returns if `age` is a teen age.\n",
    "- Write a code to test `is_teen()` while calling it from `age = 9` to `age = 21`.\n",
    "- Print the result as shown below:\n",
    "\n",
    "```\n",
    "The age 9 is not a teen\n",
    "The age 10 is not a teen\n",
    "The age 11 is not a teen\n",
    "The age 12 is not a teen\n",
    "The age 13 is a teen\n",
    "The age 14 is a teen\n",
    "The age 15 is a teen\n",
    "The age 16 is a teen\n",
    "The age 17 is a teen\n",
    "The age 18 is a teen\n",
    "The age 19 is a teen\n",
    "The age 20 is not a teen\n",
    "The age 21 is not a teen\n",
    "```\n",
    "\n",
    "#### Step 1: Code is_teean(age) function first"
   ]
  },
  {
   "cell_type": "code",
   "execution_count": 14,
   "metadata": {},
   "outputs": [],
   "source": [
    "# Replace `None` with the logic expression you developed above.\n",
    "def is_teen(age):\n",
    "    if age >= 13 and age <= 19:\n",
    "        print(\"The age {} is a teen\".format(age))\n",
    "    else:\n",
    "        print(\"The age {} is not a teen\".format(age))"
   ]
  },
  {
   "cell_type": "markdown",
   "metadata": {},
   "source": [
    "#### Step 2: Write a test code to produce the output shown above.\n",
    "\n",
    "#### Method 1: Using a list of ages "
   ]
  },
  {
   "cell_type": "code",
   "execution_count": 18,
   "metadata": {},
   "outputs": [
    {
     "name": "stdout",
     "output_type": "stream",
     "text": [
      "The age 9 is not a teen\n",
      "The age 10 is not a teen\n",
      "The age 11 is not a teen\n",
      "The age 12 is not a teen\n",
      "The age 13 is a teen\n",
      "The age 14 is a teen\n",
      "The age 15 is a teen\n",
      "The age 16 is a teen\n",
      "The age 17 is a teen\n",
      "The age 18 is a teen\n",
      "The age 19 is a teen\n",
      "The age 20 is not a teen\n",
      "The age 21 is not a teen\n"
     ]
    }
   ],
   "source": [
    "# test is_teen()\n",
    "for age in [9, 10, 11, 12, 13, 14, 15, 16, 17, 18, 19, 20, 21]:\n",
    "    is_teen(age)"
   ]
  },
  {
   "cell_type": "markdown",
   "metadata": {},
   "source": [
    "#### Method 2: Using `range()` "
   ]
  },
  {
   "cell_type": "code",
   "execution_count": 19,
   "metadata": {},
   "outputs": [
    {
     "name": "stdout",
     "output_type": "stream",
     "text": [
      "The age 9 is not a teen\n",
      "The age 10 is not a teen\n",
      "The age 11 is not a teen\n",
      "The age 12 is not a teen\n",
      "The age 13 is a teen\n",
      "The age 14 is a teen\n",
      "The age 15 is a teen\n",
      "The age 16 is a teen\n",
      "The age 17 is a teen\n",
      "The age 18 is a teen\n",
      "The age 19 is a teen\n",
      "The age 20 is not a teen\n",
      "The age 21 is not a teen\n"
     ]
    }
   ],
   "source": [
    "for age in range(9,22):\n",
    "    is_teen(age)"
   ]
  },
  {
   "cell_type": "markdown",
   "metadata": {},
   "source": [
    "## 2. Leap Year \n",
    "\n",
    "A leap year is exactly divisible by 4 except for century years (years ending with 00). The century year is a leap year only if it is perfectly divisible by 400. For example,\n",
    "\n",
    "```\n",
    "2017 is not a leap year\n",
    "1900 is a not leap year\n",
    "2012 is a leap year\n",
    "2000 is a leap year\n",
    "```\n",
    "\n",
    "To test a leap year interactively, you may code it as shwon below:"
   ]
  },
  {
   "cell_type": "code",
   "execution_count": 29,
   "metadata": {},
   "outputs": [
    {
     "name": "stdout",
     "output_type": "stream",
     "text": [
      "Enter a year: 1112\n",
      "1112 is a leap year\n"
     ]
    }
   ],
   "source": [
    "# Python program to check if the input year is a leap year or not\n",
    "year = int(input(\"Enter a year: \"))\n",
    "if (year % 4) == 0:\n",
    "    if (year % 100) == 0:\n",
    "        if (year % 400) == 0:\n",
    "            print(\"{0} is a leap year\".format(year))\n",
    "        else:\n",
    "            print(\"{0} is not a leap year\".format(year))\n",
    "    else:\n",
    "        print(\"{0} is a leap year\".format(year))\n",
    "else:\n",
    "    print(\"{0} is not a leap year\".format(year))"
   ]
  },
  {
   "cell_type": "markdown",
   "metadata": {},
   "source": [
    "#### Step 1: Coding `is_leap_year()` function:\n",
    "Now, complete the following `is_leap_year()` function that returns `True` if `year` is a leap year, `False` otherwise. "
   ]
  },
  {
   "cell_type": "code",
   "execution_count": 57,
   "metadata": {},
   "outputs": [],
   "source": [
    "def is_leap_year(year):\n",
    "    if (year % 4) == 0:\n",
    "        if (year % 100) == 0:\n",
    "            if (year % 400) == 0:\n",
    "                return True\n",
    "            else:\n",
    "                return False\n",
    "        else:\n",
    "            return True\n",
    "    else:\n",
    "        return False"
   ]
  },
  {
   "cell_type": "markdown",
   "metadata": {},
   "source": [
    "#### Step 2: Coding to test `is_leap_year()` to have the following output shown below:\n",
    "```\n",
    "100 No, it is not.\n",
    "200 No, it is not.\n",
    "1990 No, it is not.\n",
    "2000 Yes, it is a leap year\n",
    "2002 No, it is not.\n",
    "2004 Yes, it is a leap year\n",
    "2010 No, it is not.\n",
    "2100 No, it is not.\n",
    "```"
   ]
  },
  {
   "cell_type": "code",
   "execution_count": 58,
   "metadata": {},
   "outputs": [
    {
     "name": "stdout",
     "output_type": "stream",
     "text": [
      "100 No, it is not.\n",
      "200 No, it is not.\n",
      "1990 No, it is not.\n",
      "2000 Yes, it is a leap year\n",
      "2002 No, it is not.\n",
      "2004 Yes, it is a leap year\n",
      "2010 No, it is not.\n",
      "2100 No, it is not.\n"
     ]
    }
   ],
   "source": [
    "# test leap_year()\n",
    "for year in [100,200,1990,2000,2002,2004,2010,2100]:\n",
    "    is_leap = is_leap_year(year)\n",
    "    if is_leap:\n",
    "        print(year, \"Yes, it is a leap year\")\n",
    "    else:\n",
    "        print(year, \"No, it is not.\")"
   ]
  },
  {
   "cell_type": "markdown",
   "metadata": {},
   "source": [
    "## 3. Caesar Cypher\n",
    "\n",
    "Write a function, `next_alpha(ch, n)` which takes an ascii character `ch` and an int `n`. Then the function returns a character at some fixed positions `n` from the current letter `ch`in the alphabet.  "
   ]
  },
  {
   "cell_type": "markdown",
   "metadata": {},
   "source": [
    "<img width=\"400\" alt=\"Caesar3\" src=\"https://upload.wikimedia.org/wikipedia/commons/thumb/2/2b/Caesar3.svg/512px-Caesar3.svg.png\"></a>"
   ]
  },
  {
   "cell_type": "markdown",
   "metadata": {},
   "source": [
    "#### Step 1:  Fix the following code such that it works with the following cases:\n",
    "__Hint:__ Use two constant strings `ascii_lowercase` and `ascii_uppercase` which are defined in `string` module.\n",
    "\n",
    "__Hint:__ Perform a modulo operation (%) to prevent the index from exceeding the length of alphabet."
   ]
  },
  {
   "cell_type": "markdown",
   "metadata": {},
   "source": [
    "__Sample run 1:__\n",
    "```\n",
    "for ch in \"Hello World! zzz\":\n",
    "    print(next_alpha(ch, 1), end=' ')\n",
    "```\n",
    "__Output:__\n",
    "```\n",
    "I f m m p   X p s m e !   a a a \n",
    "```\n",
    "\n",
    "__Sample run 2:__\n",
    "```\n",
    "for ch in \"aaa BBB ccc Hello World! XXX yyy zzz\":\n",
    "    print(next_alpha(ch, 3), end=' ')\n",
    "```\n",
    "__Output:__\n",
    "```\n",
    "d d d   E E E   f f f   K h o o r   Z r u o g !   A A A   b b b   c c c \n",
    "```"
   ]
  },
  {
   "cell_type": "code",
   "execution_count": 59,
   "metadata": {},
   "outputs": [],
   "source": [
    "import string\n",
    "lower = string.ascii_lowercase\n",
    "upper = string.ascii_uppercase\n",
    "\n",
    "def next_alpha(ch, n):\n",
    "    if len(ch) != 1:\n",
    "        return ch\n",
    "    if ch.islower():\n",
    "        idx = lower.find(ch)\n",
    "        return lower[(idx+n)%26]\n",
    "    elif ch.isupper():\n",
    "        idx = upper.find(ch)\n",
    "        return upper[(idx+n)%26]\n",
    "    return ch"
   ]
  },
  {
   "cell_type": "code",
   "execution_count": 60,
   "metadata": {},
   "outputs": [
    {
     "name": "stdout",
     "output_type": "stream",
     "text": [
      "I f m m p   X p s m e !   a a a "
     ]
    }
   ],
   "source": [
    "for ch in \"Hello World! zzz\":\n",
    "    print(next_alpha(ch, 1), end=' ')"
   ]
  },
  {
   "cell_type": "code",
   "execution_count": 61,
   "metadata": {},
   "outputs": [
    {
     "name": "stdout",
     "output_type": "stream",
     "text": [
      "d d d   E E E   f f f   K h o o r   Z r u o g !   A A A   b b b   c c c "
     ]
    }
   ],
   "source": [
    "for ch in \"aaa BBB ccc Hello World! XXX yyy zzz\":\n",
    "    print(next_alpha(ch, 3), end=' ')"
   ]
  },
  {
   "cell_type": "markdown",
   "metadata": {},
   "source": [
    "#### Step 2:  \n",
    "\n",
    "Write a Caesar cypher function that encoded by shifting n to the right in alphabet.\n",
    "\n",
    "__Sample run 1:__\n",
    "```\n",
    "encoded = cypher(\"aaa Hello World! zzz\", 2)\n",
    "print(encoded)\n",
    "```\n",
    "__Output:__\n",
    "```\n",
    "ccc Jgnnq Yqtnf! bbb\n",
    "```\n",
    "\n",
    "__Sample run 2:__\n",
    "```\n",
    "encoded = cypher(\"aaa Hello World! zzz\", 3)\n",
    "print(encoded)\n",
    "```\n",
    "__Output:__\n",
    "```\n",
    "ddd Khoor Zruog! ccc\n",
    "```"
   ]
  },
  {
   "cell_type": "code",
   "execution_count": 62,
   "metadata": {},
   "outputs": [],
   "source": [
    "def cypher(str, n):\n",
    "    cString = \"\"\n",
    "    for ch in str:\n",
    "        if len(ch) != 1:\n",
    "            return ch\n",
    "        if ch.islower():\n",
    "            idx = lower.find(ch)\n",
    "            cString += (lower[(idx + n)%26])\n",
    "        elif ch.isupper():\n",
    "            idx = upper.find(ch)\n",
    "            cString += (upper[(idx + n)%26])\n",
    "        else:\n",
    "            cString += ch\n",
    "    return cString"
   ]
  },
  {
   "cell_type": "code",
   "execution_count": 63,
   "metadata": {},
   "outputs": [
    {
     "name": "stdout",
     "output_type": "stream",
     "text": [
      "ccc Jgnnq Yqtnf! bbb\n"
     ]
    }
   ],
   "source": [
    "encoded = cypher(\"aaa Hello World! zzz\", 2)\n",
    "print(encoded)"
   ]
  },
  {
   "cell_type": "code",
   "execution_count": 64,
   "metadata": {},
   "outputs": [
    {
     "name": "stdout",
     "output_type": "stream",
     "text": [
      "ddd Khoor Zruog! ccc\n"
     ]
    }
   ],
   "source": [
    "encoded = cypher(\"aaa Hello World! zzz\", 3)\n",
    "print(encoded)"
   ]
  },
  {
   "cell_type": "markdown",
   "metadata": {},
   "source": [
    "#### Step 3: Decypher\n",
    "\n",
    "<img src=\"https://upload.wikimedia.org/wikipedia/commons/thumb/4/4a/Caesar_cipher_left_shift_of_3.svg/1200px-Caesar_cipher_left_shift_of_3.svg.png\" width=400 alt=\"Caesar cipher left shift of 3.svg\"></a>\n",
    "\n",
    "Modify cypher() to have a default optional argument `coded = False`. The function works as `cypher` function as usual, but it works as `decypher` function if `coded = True`. \n",
    "\n",
    "__Sample run:__\n",
    "```\n",
    "hello = \"aaa Hello World! zzz\"\n",
    "print(hello)\n",
    "encoded = cypher(hello, 2)\n",
    "print(encoded)\n",
    "decoded = cypher(encoded, 2, coded = True)\n",
    "print(decoded)\n",
    "```\n",
    "\n",
    "__Output:__\n",
    "```\n",
    "aaa Hello World! zzz\n",
    "ccc Jgnnq Yqtnf! bbb\n",
    "aaa Hello World! zzz\n",
    "```"
   ]
  },
  {
   "cell_type": "code",
   "execution_count": 65,
   "metadata": {},
   "outputs": [],
   "source": [
    "def cypher(str, n, coded=False):\n",
    "    cString = \"\"\n",
    "    for ch in str:\n",
    "        if len(ch) != 1:\n",
    "            return ch\n",
    "        if ch.islower():\n",
    "            idx = lower.find(ch)\n",
    "            if coded:\n",
    "                cString += (lower[(idx - n)%26])\n",
    "            else:\n",
    "                cString += (lower[(idx + n)%26])\n",
    "                \n",
    "        elif ch.isupper():\n",
    "            idx = upper.find(ch)\n",
    "            if coded:\n",
    "                cString += (lower[(idx - n)%26])\n",
    "            else:\n",
    "                cString += (lower[(idx + n)%26])\n",
    "        else:\n",
    "            cString += ch\n",
    "    return cString"
   ]
  },
  {
   "cell_type": "code",
   "execution_count": 66,
   "metadata": {},
   "outputs": [
    {
     "name": "stdout",
     "output_type": "stream",
     "text": [
      "aaa Hello World! zzz\n",
      "ccc jgnnq yqtnf! bbb\n",
      "aaa hello world! zzz\n"
     ]
    }
   ],
   "source": [
    "hello = \"aaa Hello World! zzz\"\n",
    "print(hello)\n",
    "encoded = cypher(hello, 2)\n",
    "print(encoded)\n",
    "decoded = cypher(encoded, 2, coded = True)\n",
    "print(decoded)"
   ]
  },
  {
   "cell_type": "markdown",
   "metadata": {},
   "source": [
    "---------\n",
    "__\"Everything is permissible\" - but not everything is beneficial. \"Everything is permissible\" - but not everything is constructive.__\n",
    "1 Corinthians 10:23\n",
    "    "
   ]
  },
  {
   "cell_type": "code",
   "execution_count": null,
   "metadata": {},
   "outputs": [],
   "source": []
  }
 ],
 "metadata": {
  "kernelspec": {
   "display_name": "Python 3",
   "language": "python",
   "name": "python3"
  },
  "language_info": {
   "codemirror_mode": {
    "name": "ipython",
    "version": 3
   },
   "file_extension": ".py",
   "mimetype": "text/x-python",
   "name": "python",
   "nbconvert_exporter": "python",
   "pygments_lexer": "ipython3",
   "version": "3.8.3"
  }
 },
 "nbformat": 4,
 "nbformat_minor": 1
}
