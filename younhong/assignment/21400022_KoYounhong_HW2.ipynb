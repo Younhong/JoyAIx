{
 "cells": [
  {
   "cell_type": "markdown",
   "metadata": {},
   "source": [
    "------------------\n",
    "\n",
    "# Homework \n",
    "\n",
    "__\"모인활:모두를 위한 인공지능의 활용\"__ 수강생은 다음 문제들 중에서 여러 방법으로 코딩할 수 있는 문제는 단 하나의 방법으로만 코딩해도 됩니다. \n",
    "\n",
    "## 1. Given an integer number, print its last digit.\n",
    "\n",
    "Print the last digit of a which is an integer.\n",
    "\n",
    "For example, print `5` if `35`, `6` if `6`, and `9` if `5679`. \n",
    "\n"
   ]
  },
  {
   "cell_type": "markdown",
   "metadata": {},
   "source": [
    "#### Method 1: Using any arithmetic operators. \n",
    "- Often we use both modulus `%` operator and floor division `//`. "
   ]
  },
  {
   "cell_type": "code",
   "execution_count": 52,
   "metadata": {},
   "outputs": [
    {
     "name": "stdout",
     "output_type": "stream",
     "text": [
      "Enter an integer number: 15\n",
      "<class 'str'>\n",
      "5\n"
     ]
    }
   ],
   "source": [
    "# Read an integer:\n",
    "a = input(\"Enter an integer number: \")\n",
    "print(type(a))\n",
    "# using mod % operator\n",
    "print(int(a) % 10)"
   ]
  },
  {
   "cell_type": "markdown",
   "metadata": {},
   "source": [
    "#### Method 2: Using `len()` and indexing "
   ]
  },
  {
   "cell_type": "code",
   "execution_count": 53,
   "metadata": {},
   "outputs": [
    {
     "name": "stdout",
     "output_type": "stream",
     "text": [
      "Enter an integer number: 15\n",
      "<class 'str'>\n",
      "5\n"
     ]
    }
   ],
   "source": [
    "# Read an integer as a string\n",
    "s = input(\"Enter an integer number: \")\n",
    "print(type(s))\n",
    "# Using len() and indexing  \n",
    "print(s[len(s)-1])"
   ]
  },
  {
   "cell_type": "markdown",
   "metadata": {},
   "source": [
    "#### Method 3: Using indexing "
   ]
  },
  {
   "cell_type": "code",
   "execution_count": 185,
   "metadata": {},
   "outputs": [
    {
     "name": "stdout",
     "output_type": "stream",
     "text": [
      "Enter an integer number: 1502\n",
      "<class 'str'>\n",
      "2\n"
     ]
    }
   ],
   "source": [
    "# Read an integer as a string\n",
    "s = input(\"Enter an integer number: \")\n",
    "print(type(s))\n",
    "# using indexing \n",
    "print(s[-1])\n"
   ]
  },
  {
   "cell_type": "markdown",
   "metadata": {},
   "source": [
    "## 2. Given a three-digit number. Find the sum of its digits.\n",
    "\n",
    "Print the sum of three-digit number which is an integer.\n",
    "\n",
    "For example, print `10` if `316`, `13` if `256`, `18` if `567`. \n",
    "\n",
    "#### Method 1: Using % (mod operator) and // (integer division)"
   ]
  },
  {
   "cell_type": "code",
   "execution_count": 54,
   "metadata": {},
   "outputs": [
    {
     "name": "stdout",
     "output_type": "stream",
     "text": [
      "3 digit number: 15\n",
      "6\n"
     ]
    }
   ],
   "source": [
    "a = int(input(\"3 digit number: \"))\n",
    "x = a // 100          # get 100's \n",
    "y = (a % 100) // 10   # get 10's\n",
    "z = a % 10            # get 1's\n",
    "print (x + y + z)"
   ]
  },
  {
   "cell_type": "code",
   "execution_count": 55,
   "metadata": {},
   "outputs": [
    {
     "name": "stdout",
     "output_type": "stream",
     "text": [
      "3 digit number: 15\n",
      "6\n"
     ]
    }
   ],
   "source": [
    "a = int(input(\"3 digit number: \"))\n",
    "x = a // 100          # get 100's \n",
    "y = a // 10 % 10      # get 10's\n",
    "z = a % 10            # get 1's\n",
    "print (x + y + z)"
   ]
  },
  {
   "cell_type": "markdown",
   "metadata": {},
   "source": [
    "## 3. Clock displays military time\n",
    "\n",
    "The integer N given is the number of minutes that is passed since midnight. Display the hour and minute in military time. The program should print two numbers: the number of hours (between 0 and 23) and the number of minutes (between 0 and 59). For example, if N = 150, then 150 minutes have passed since midnight - i.e. now is 2:30 am. So the program should print 2:30."
   ]
  },
  {
   "cell_type": "code",
   "execution_count": 1,
   "metadata": {},
   "outputs": [
    {
     "name": "stdout",
     "output_type": "stream",
     "text": [
      "1439\n",
      "23:59\n"
     ]
    }
   ],
   "source": [
    "# Read an integer:\n",
    "a = int(input())\n",
    "a = a % 1440\n",
    "hour = a // 60 \n",
    "minute = a % 60\n",
    "print(str(hour) +  \":\" + str(minute))\n",
    "# print 3:0 for 180, 7:24 for 444, 18:31 for 1111, 23:59 for 1439 "
   ]
  },
  {
   "cell_type": "markdown",
   "metadata": {},
   "source": [
    "## 4. Equal numbers\n",
    "\n",
    "Given three integers, determine how many of them are equal to each other. The program must print one of these numbers: 3 (if all are the same), 2 (if two of them are equal to each other and the third is different) or 0 (if all numbers are different)."
   ]
  },
  {
   "cell_type": "code",
   "execution_count": 57,
   "metadata": {},
   "outputs": [
    {
     "name": "stdout",
     "output_type": "stream",
     "text": [
      "x:1\n",
      "y:1\n",
      "z:1\n",
      "3\n"
     ]
    }
   ],
   "source": [
    "# Read an integer:\n",
    "x = int(input(\"x:\"))\n",
    "y = int(input(\"y:\"))\n",
    "z = int(input(\"z:\"))\n",
    "\n",
    "count  = 0\n",
    "if (x == y):\n",
    "    if (x == z):\n",
    "        count = 3\n",
    "    else:\n",
    "        count = 2\n",
    "else:\n",
    "    if (x == z):\n",
    "        count = 2\n",
    "    elif (y == z):\n",
    "        count = 2\n",
    "    else:\n",
    "        count = 0\n",
    "\n",
    "print(count)"
   ]
  },
  {
   "cell_type": "markdown",
   "metadata": {},
   "source": [
    "--------\n",
    "__The LORD bless you and keep you.__ Numbers 6:24"
   ]
  }
 ],
 "metadata": {
  "kernelspec": {
   "display_name": "Python 3",
   "language": "python",
   "name": "python3"
  },
  "language_info": {
   "codemirror_mode": {
    "name": "ipython",
    "version": 3
   },
   "file_extension": ".py",
   "mimetype": "text/x-python",
   "name": "python",
   "nbconvert_exporter": "python",
   "pygments_lexer": "ipython3",
   "version": "3.8.3"
  }
 },
 "nbformat": 4,
 "nbformat_minor": 1
}
