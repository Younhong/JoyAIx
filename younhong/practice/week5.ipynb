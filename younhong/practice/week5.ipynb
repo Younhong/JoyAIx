{
 "cells": [
  {
   "cell_type": "code",
   "execution_count": 2,
   "metadata": {},
   "outputs": [
    {
     "name": "stdout",
     "output_type": "stream",
     "text": [
      "-1.72\t-3.12\t1\r\n",
      "0.31\t1.85\t1\r\n",
      "1.56\t2.85\t1\r\n",
      "2.64\t2.41\t1\r\n",
      "1.23\t2.54\t1\r\n",
      "1.33\t2.03\t1\r\n",
      "1.26\t2.68\t1\r\n",
      "2.58\t1.79\t1\r\n",
      "2.40\t0.91\t1\r\n",
      "0.51\t2.44\t1\r\n",
      "2.17\t2.64\t1\r\n",
      "3.38\t2.94\t1\r\n",
      "1.09\t3.12\t1\r\n",
      "0.68\t1.43\t1\r\n",
      "3.76\t0.64\t1\r\n",
      "0.73\t2.97\t1\r\n",
      "0.53\t2.94\t1\r\n",
      "1.49\t1.25\t1\r\n",
      "3.92\t3.48\t1\r\n",
      "3.87\t2.91\t1\r\n",
      "1.14\t3.01\t1\r\n",
      "1.73\t2.80\t1\r\n",
      "2.96\t1.84\t1\r\n",
      "2.61\t2.92\t1\r\n",
      "2.28\t0.90\t1\r\n",
      "1.93\t3.71\t1\r\n",
      "1.26\t1.17\t1\r\n",
      "1.90\t1.34\t1\r\n",
      "3.13\t0.92\t1\r\n",
      "0.85\t1.46\t1\r\n",
      "1.50\t3.93\t1\r\n",
      "2.95\t2.09\t1\r\n",
      "0.76\t2.84\t1\r\n",
      "1.00\t0.46\t1\r\n",
      "3.19\t2.32\t1\r\n",
      "2.82\t2.32\t1\r\n",
      "2.86\t1.35\t1\r\n",
      "0.97\t2.68\t1\r\n",
      "1.20\t1.31\t1\r\n",
      "1.54\t2.02\t1\r\n",
      "1.74\t0.63\t1\r\n",
      "1.36\t-0.22\t1\r\n",
      "2.63\t0.40\t1\r\n",
      "0.90\t2.05\t1\r\n",
      "1.26\t2.54\t1\r\n",
      "0.71\t2.27\t1\r\n",
      "1.96\t0.83\t1\r\n",
      "2.52\t1.83\t1\r\n",
      "2.76\t2.82\t1\r\n",
      "3.16\t3.34\t1\r\n",
      "1.10\t-1.14\t0\r\n",
      "-1.33\t0.34\t0\r\n",
      "0.76\t-3.07\t0\r\n",
      "-0.37\t-1.91\t0\r\n",
      "-1.84\t-1.11\t0\r\n",
      "-1.50\t0.24\t0\r\n",
      "-0.63\t-1.53\t0\r\n",
      "-1.08\t-1.23\t0\r\n",
      "0.29\t-1.99\t0\r\n",
      "-1.26\t-2.90\t0\r\n",
      "-5.27\t-1.78\t0\r\n",
      "-0.49\t-2.64\t0\r\n",
      "1.28\t-3.64\t0\r\n",
      "-1.64\t-1.96\t0\r\n",
      "0.25\t-1.26\t0\r\n",
      "-1.48\t-1.17\t0\r\n",
      "-2.94\t-3.47\t0\r\n",
      "-2.19\t-1.48\t0\r\n",
      "0.52\t-0.02\t0\r\n",
      "-2.24\t-2.12\t0\r\n",
      "-3.07\t-2.09\t0\r\n",
      "-3.99\t0.73\t0\r\n",
      "-2.41\t-2.21\t0\r\n",
      "-3.45\t-0.62\t0\r\n",
      "-3.96\t-2.00\t0\r\n",
      "-2.95\t-1.16\t0\r\n",
      "-2.42\t-3.35\t0\r\n",
      "-1.64\t-1.11\t0\r\n",
      "-1.61\t-1.28\t0\r\n",
      "-2.59\t-2.21\t0\r\n",
      "-2.64\t-2.20\t0\r\n",
      "-2.84\t-3.22\t0\r\n",
      "-1.45\t-2.26\t0\r\n",
      "-3.08\t-1.05\t0\r\n",
      "-2.97\t-1.53\t0\r\n",
      "-0.68\t-1.52\t0\r\n",
      "-0.11\t-3.43\t0\r\n",
      "-1.14\t-2.66\t0\r\n",
      "-2.92\t-2.51\t0\r\n",
      "-2.14\t-1.52\t0\r\n",
      "-3.02\t-0.44\t0\r\n",
      "-1.05\t-3.85\t0\r\n",
      "0.28\t-1.25\t0\r\n",
      "-0.05\t-1.95\t0\r\n",
      "-3.20\t-0.22\t0\r\n",
      "-2.26\t0.01\t0\r\n",
      "-1.41\t-0.23\t0\r\n",
      "-1.20\t-0.71\t0\r\n",
      "-1.69\t0.70\t0\r\n",
      "-1.52\t-1.14\t0\r\n"
     ]
    }
   ],
   "source": [
    "!cat data/joydata.txt"
   ]
  },
  {
   "cell_type": "code",
   "execution_count": 3,
   "metadata": {},
   "outputs": [],
   "source": [
    "import numpy as np"
   ]
  },
  {
   "cell_type": "code",
   "execution_count": 4,
   "metadata": {},
   "outputs": [
    {
     "name": "stdout",
     "output_type": "stream",
     "text": [
      "[[-1.72 -3.12]\n",
      " [ 0.31  1.85]\n",
      " [ 1.56  2.85]\n",
      " [ 2.64  2.41]\n",
      " [ 1.23  2.54]]\n",
      "[1 1 1 1 1]\n"
     ]
    }
   ],
   "source": [
    "data = np.genfromtxt('data/joydata.txt')\n",
    "x, y = data[:, :2], data[:, 2]\n",
    "y = y.astype(np.int)\n",
    "print(x[:5])\n",
    "print(y[:5])"
   ]
  },
  {
   "cell_type": "code",
   "execution_count": 5,
   "metadata": {},
   "outputs": [
    {
     "data": {
      "image/png": "[encoded data removed]",
      "text/plain": [
       "<Figure size 432x288 with 1 Axes>"
      ]
     },
     "metadata": {
      "needs_background": "light"
     },
     "output_type": "display_data"
    }
   ],
   "source": [
    "import numpy as np\n",
    "import matplotlib.pylab as plt\n",
    "%matplotlib inline\n",
    "\n",
    "data = np.genfromtxt('data/joydata.txt')\n",
    "x, y = data[:, :2], data[:, 2]\n",
    "y = y.astype(np.int)\n",
    "\n",
    "plt.scatter(x[y==1,0], x[y==1,1], label='class1', marker='s')\n",
    "plt.scatter(x[y==0,0], x[y==0,1], label='class2', marker='o')\n",
    "plt.xlabel('$x_1$', fontsize = 18)\n",
    "plt.ylabel('$x_2$', fontsize = 18)\n",
    "plt.legend()\n",
    "plt.show()"
   ]
  },
  {
   "cell_type": "code",
   "execution_count": 6,
   "metadata": {},
   "outputs": [
    {
     "name": "stdout",
     "output_type": "stream",
     "text": [
      "[[-1.72 -3.12]\n",
      " [ 0.31  1.85]\n",
      " [ 1.56  2.85]\n",
      " [ 2.64  2.41]\n",
      " [ 1.23  2.54]] [1 1 1 1 1]\n",
      "[[-2.26  0.01]\n",
      " [-1.41 -0.23]\n",
      " [-1.2  -0.71]\n",
      " [-1.69  0.7 ]\n",
      " [-1.52 -1.14]] [0 0 0 0 0]\n"
     ]
    }
   ],
   "source": [
    "data = np.genfromtxt('data/joydata.txt')\n",
    "x, y = data[:, :2], data[:, 2]\n",
    "y = y.astype(np.int)\n",
    "print(x[:5], y[:5])\n",
    "print(x[-5:], y[-5:])"
   ]
  },
  {
   "cell_type": "code",
   "execution_count": 7,
   "metadata": {},
   "outputs": [
    {
     "name": "stdout",
     "output_type": "stream",
     "text": [
      "[[ 3.76  0.64]\n",
      " [ 0.9   2.05]\n",
      " [ 3.38  2.94]\n",
      " [ 0.52 -0.02]\n",
      " [ 1.26  2.68]] [1 1 1 0 0]\n",
      "[[-1.14 -2.66]\n",
      " [-3.45 -0.62]\n",
      " [ 0.53  2.94]\n",
      " [ 1.96  0.83]\n",
      " [-2.19 -1.48]] [0 0 1 1 1]\n"
     ]
    }
   ],
   "source": [
    "np.random.shuffle(x)\n",
    "np.random.shuffle(y)\n",
    "print(x[:5], y[:5])\n",
    "print(x[-5:], y[-5:])"
   ]
  },
  {
   "cell_type": "code",
   "execution_count": 8,
   "metadata": {},
   "outputs": [
    {
     "name": "stdout",
     "output_type": "stream",
     "text": [
      "[[ 3.92  3.48]\n",
      " [-3.96 -2.  ]\n",
      " [ 0.71  2.27]\n",
      " [ 3.19  2.32]\n",
      " [-2.41 -2.21]] [1 1 0 1 0]\n",
      "[[ 1.56  2.85]\n",
      " [ 2.17  2.64]\n",
      " [-1.72 -3.12]\n",
      " [-1.84 -1.11]\n",
      " [ 1.73  2.8 ]] [1 1 0 1 1]\n"
     ]
    }
   ],
   "source": [
    "np.random.shuffle(data)\n",
    "x, y = data[:, :2], data[:, 2]\n",
    "y = y.astype(np.int)\n",
    "print(x[:5], y[:5])\n",
    "print(x[-5:], y[-5:])"
   ]
  },
  {
   "cell_type": "code",
   "execution_count": 9,
   "metadata": {},
   "outputs": [],
   "source": [
    "np.random.seed(1)\n",
    "np.random.shuffle(data)\n",
    "x, y = data[:, :2], data[:, 2]\n",
    "y = y.astype(np.int)\n",
    "num = int(x.shape[0] * 0.7)\n",
    "x_train, x_test = x[:num], x[num:]\n",
    "y_train, y_test = y[:num], y[num:]\n"
   ]
  },
  {
   "cell_type": "code",
   "execution_count": 10,
   "metadata": {},
   "outputs": [],
   "source": [
    "def perceptron_predict(X, w):\n",
    "    z = np.dot(X, w)\n",
    "    yhat = np.where(z > 0, 1, 0)\n",
    "    return yhat"
   ]
  },
  {
   "cell_type": "code",
   "execution_count": 11,
   "metadata": {},
   "outputs": [],
   "source": [
    "def perceptron_train(X, y, X0=False, eta=0.1, epochs=1, random_seed=1):\n",
    "    \"\"\"  Perceptron training function for binary class labels\n",
    "    Input Parameters\n",
    "        X : numpy.ndarray, shape=(n_samples, m_features), by default X0=False\n",
    "            A 2D NumPy array containing the training examples\n",
    "            or \n",
    "            If X0=True, X's shape=(n_samples, m_features+1) \n",
    "            It includes the bias or x0 = 1 for all samples \n",
    "        \n",
    "        y : numpy.ndarray, shape=(n_samples,)\n",
    "            A 1D NumPy array containing the true class labels\n",
    "        \n",
    "        X0: If True, then X must have X_0 = 1 in all samples.\n",
    "             Set it Faslse, if X does not have X_0 \n",
    "        \n",
    "        eta : float (default: 0.1) \n",
    "            A learning rate for the parameter updates. Note that a learning\n",
    "            rate has no effect on the direction of the decision boundary\n",
    "            if the model weights are initialized to all zeros.\n",
    "        \n",
    "        epochs : int (default: 1), Number of passes over the training dataset.\n",
    "        \n",
    "        random_seed : int or None (default: 1)\n",
    "            Seed for the pseudo-random number generator that initializes the\n",
    "            weights w if w is None.\n",
    "    \n",
    "    Returns \n",
    "        w : numpy.ndarray, shape=(m_features, )\n",
    "    \n",
    "        If you wants W : numpy.ndarray, shape=(epochs, m_features) to use \n",
    "        when calling , then invoke this function with epochs = 1 multiple times \n",
    "        and save the result in the form of W = np.vstack([W, w]). \n",
    "        You may initialize the W = np.array([w]), where w is an initial weights.\n",
    "    \"\"\"\n",
    "    if X0 == False:\n",
    "        X = np.c_[ np.ones(len(X)), X ]\n",
    "    \n",
    "    randnum = np.random.RandomState(random_seed) \n",
    "    w = randnum.normal(loc=0.0, scale=0.01, size=X.shape[1])\n",
    "           \n",
    "    maxlabel, minlabel = y.max(), y.min()                 # for use of bipolar or unit step function\n",
    "    for _ in range(epochs):\n",
    "        for xi, yi in zip(X, y):\n",
    "            z = np.dot(xi, w)                             # Compute net input, same as np.dot(w.T, x)\n",
    "            yhat = np.where(z > 0.0, maxlabel, minlabel)  # Apply unit step func and get output\n",
    "            #print('xi{}, \\t (yi,yhat)=({},{})'.format(np.round(xi,2), yi, yhat))\n",
    "            if yi != yhat:\n",
    "                delta = eta * (yi - yhat) * xi                # Compute delta    \n",
    "                w += delta                                    # Adjust weight\n",
    "                #print('xi{}, \\t (yi,yhat)=({},{}), delta{}, w{}'.format\n",
    "                #         (np.round(xi,2), yi, yhat, np.round(delta,2), np.round(w,2)))\n",
    "        \n",
    "    return w"
   ]
  },
  {
   "cell_type": "code",
   "execution_count": 19,
   "metadata": {},
   "outputs": [
    {
     "name": "stdout",
     "output_type": "stream",
     "text": [
      "w =  [-0.02136758  0.01923733]\n",
      "Misclassified: 41/70\n"
     ]
    }
   ],
   "source": [
    "#version 0.1\n",
    "w = perceptron_train(x_train, y_train, X0=True, eta=0.02, epochs=1, random_seed=2)\n",
    "yhat = perceptron_predict(x_train, w)\n",
    "missed = 0\n",
    "m_samples = len(y_train)\n",
    "for m in range(m_samples):\n",
    "    if yhat[m] != y_train[m]:\n",
    "        missed += 1\n",
    "print(\"Misclassified: {}/{}\".format(missed, m_samples))"
   ]
  },
  {
   "cell_type": "code",
   "execution_count": 18,
   "metadata": {},
   "outputs": [
    {
     "name": "stdout",
     "output_type": "stream",
     "text": [
      "[0 0 1 1 1 1 1 1 0 0 1 1 0 1 1 0 0 1 1 1 1 0 1 0 0 0 1 0 1 0]\n",
      "[0 0 0 1 1 1 1 1 0 1 0 0 0 1 1 0 0 0 1 0 1 0 1 0 0 0 1 1 1 1]\n",
      "Misclassified: 8/30\n"
     ]
    }
   ],
   "source": [
    "w = perceptron_train(x_train, y_train, X0=True, eta=0.02, epochs=1, random_seed=2)\n",
    "yhat = perceptron_predict(x_test, w)\n",
    "missed = 0\n",
    "m_samples = len(y_test)\n",
    "print(yhat)\n",
    "print(y_test)\n",
    "for m in range(m_samples):\n",
    "    if yhat[m] != y_test[m]:\n",
    "        missed += 1\n",
    "print(\"Misclassified: {}/{}\".format(missed, m_samples))"
   ]
  },
  {
   "cell_type": "code",
   "execution_count": 14,
   "metadata": {},
   "outputs": [
    {
     "name": "stdout",
     "output_type": "stream",
     "text": [
      "Misclassified: 8/30\n"
     ]
    }
   ],
   "source": [
    "#version 0.2\n",
    "w = perceptron_train(x_train, y_train, X0=True, eta=0.05, epochs=2, random_seed=10)\n",
    "yhat = perceptron_predict(x_test, w)\n",
    "missed = np.sum(yhat.flatten() != y_test)\n",
    "print(\"Misclassified: {}/{}\".format(missed, m_samples))"
   ]
  },
  {
   "cell_type": "code",
   "execution_count": 20,
   "metadata": {},
   "outputs": [
    {
     "name": "stdout",
     "output_type": "stream",
     "text": [
      "Misclassified: 2/70\n"
     ]
    }
   ],
   "source": [
    "import numpy as np\n",
    "data = np.genfromtxt('data/joydata.txt')\n",
    "np.random.seed(1)\n",
    "np.random.shuffle(data)\n",
    "x, y = data[:, :2], data[:, 2]\n",
    "y = y.astype(np.int)\n",
    "num = int(x.shape[0] * 0.7)\n",
    "x_train, x_test = x[:num], x[num:]\n",
    "x_train = np.c_[ np.ones(len(x_train)), x_train ]\n",
    "x_test = np.c_[ np.ones(len(x_test)), x_test ]\n",
    "\n",
    "y_train, y_test = y[:num], y[num:]\n",
    "\n",
    "#version 0.1\n",
    "# 0.02 5 -> 1\n",
    "# 0.03 8 -> 2\n",
    "# 0.04 10 -> 14\n",
    "# 0.05 10 -> 15\n",
    "w = perceptron_train(x_train, y_train, X0=True, eta=0.05, epochs=2, random_seed=10)\n",
    "yhat = perceptron_predict(x_train, w)\n",
    "missed = 0\n",
    "m_samples = len(y_train)\n",
    "for m in range(m_samples):\n",
    "    if yhat[m] != y_train[m]:\n",
    "        missed += 1\n",
    "print(\"Misclassified: {}/{}\".format(missed, m_samples))"
   ]
  },
  {
   "cell_type": "code",
   "execution_count": 22,
   "metadata": {},
   "outputs": [
    {
     "data": {
      "image/png": "[encoded data removed]",
      "text/plain": [
       "<Figure size 432x288 with 1 Axes>"
      ]
     },
     "metadata": {
      "needs_background": "light"
     },
     "output_type": "display_data"
    }
   ],
   "source": [
    "%run code/plot_xyw.py\n",
    "plot_xyw(x_train, y_train, w.flatten(), X0=True)"
   ]
  },
  {
   "cell_type": "code",
   "execution_count": null,
   "metadata": {},
   "outputs": [],
   "source": []
  }
 ],
 "metadata": {
  "kernelspec": {
   "display_name": "Python 3",
   "language": "python",
   "name": "python3"
  },
  "language_info": {
   "codemirror_mode": {
    "name": "ipython",
    "version": 3
   },
   "file_extension": ".py",
   "mimetype": "text/x-python",
   "name": "python",
   "nbconvert_exporter": "python",
   "pygments_lexer": "ipython3",
   "version": "3.8.3"
  }
 },
 "nbformat": 4,
 "nbformat_minor": 4
}
