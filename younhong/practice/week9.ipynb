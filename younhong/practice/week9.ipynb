{
 "cells": [
  {
   "cell_type": "code",
   "execution_count": 1,
   "metadata": {},
   "outputs": [
    {
     "name": "stdout",
     "output_type": "stream",
     "text": [
      "X.shape=(2, 4), Y.shape=(1, 4)\n",
      "[[0 0 1 1]\n",
      " [0 1 0 1]]\n",
      "[[0 1 1 0]]\n"
     ]
    }
   ],
   "source": [
    "import numpy as np\n",
    "X = np.array([[0,0,1,1], [0,1,0,1]])\n",
    "Y = np.array([[0,1,1,0]])\n",
    "print('X.shape={}, Y.shape={}'.format(X.shape, Y.shape))\n",
    "print(X)\n",
    "print(Y)"
   ]
  },
  {
   "cell_type": "code",
   "execution_count": 3,
   "metadata": {},
   "outputs": [
    {
     "name": "stdout",
     "output_type": "stream",
     "text": [
      "W1, [[-0.16595599  0.44064899]\n",
      " [-0.99977125 -0.39533485]\n",
      " [-0.70648822 -0.81532281]]\n",
      "W2, [[-0.62747958 -0.30887855 -0.20646505]]\n"
     ]
    }
   ],
   "source": [
    "n_x = X.shape[0]\n",
    "n_y = Y.shape[0]\n",
    "n_h = 3\n",
    "np.random.seed(1)\n",
    "W1 = 2*np.random.random((n_h, n_x)) - 1\n",
    "W2 = 2*np.random.random((n_y, n_h)) - 1\n",
    "\n",
    "print(\"W1, {}\".format(W1))\n",
    "print(\"W2, {}\".format(W2))"
   ]
  },
  {
   "cell_type": "code",
   "execution_count": 11,
   "metadata": {},
   "outputs": [],
   "source": [
    "class NeuralNetwork():\n",
    "    def __init__(self, net_arch, eta=0.1, epochs=10000, random_seed=1):\n",
    "        self.layers = len(net_arch)\n",
    "        self.net_arch = net_arch\n",
    "        self.eta = eta\n",
    "        self.epochs = epochs\n",
    "        self.random_seed = random_seed\n",
    "    \n",
    "    def g(self, x):\n",
    "        return 1/(1 + np.exp((-x)))\n",
    "    \n",
    "    def g_prime(self, x):\n",
    "        return self.g(x) * (1 - self.g(x))\n",
    "    \n",
    "    def fit(self, X, Y):\n",
    "        np.random.seed(self.random_seed)\n",
    "        W1_shape = (self.net_arch[1], self.net_arch[0])\n",
    "        W2_shape = (self.net_arch[2], self.net_arch[1])\n",
    "        self.W1 = 2 * np.random.random(W1_shape) - 1\n",
    "        self.W2 = 2 * np.random.random(W2_shape) - 1\n",
    "        \n",
    "        self.cost_ = []\n",
    "        \n",
    "        for _ in range(self.epochs):\n",
    "            A0 = X\n",
    "            z1 = np.dot(self.W1, A0)\n",
    "            A1 = self.g(z1)\n",
    "            z2 = np.dot(self.W2, A1)\n",
    "            A2 = self.g(z2)\n",
    "            \n",
    "            E2 = Y - A2\n",
    "            E1 = np.dot(self.W2.T, E2)\n",
    "            \n",
    "            dz2 = E2 * self.g_prime(z2)\n",
    "            dz1 = E1 * self.g_prime(z1)\n",
    "            \n",
    "            self.W2 += np.dot(dz2, A1.T)\n",
    "            self.W1 += np.dot(dz1, A0.T)\n",
    "            self.cost_.append(np.sqrt(np.sum(E2 * E2)))\n",
    "        return self\n",
    "    \n",
    "    def net_input(self, X):\n",
    "        if X.shape[0] == self.w.shape[0]:\n",
    "            return np.dot(X, self.w)\n",
    "        else:\n",
    "            return np.dot(X, self.w[1:]) + self.w[0]\n",
    "        \n",
    "    def predict(self, X):\n",
    "        z1 = np.dot(self.W1, X)\n",
    "        A1 = self.g(z1)\n",
    "        z2 = np.dot(self.W2, A1)\n",
    "        A2 = self.g(z2)\n",
    "        \n",
    "        return A2"
   ]
  },
  {
   "cell_type": "code",
   "execution_count": 16,
   "metadata": {},
   "outputs": [
    {
     "name": "stdout",
     "output_type": "stream",
     "text": [
      "Final prediction of all\n",
      "[0 0] [0.077]\n",
      "[0 1] [0.935]\n",
      "[1 0] [0.94]\n",
      "[1 1] [0.043]\n"
     ]
    }
   ],
   "source": [
    "nn = NeuralNetwork(net_arch=[2,4,1], epochs=1000)\n",
    "X = np.array([[0,0,1,1], [0,1,0,1]])\n",
    "Y = np.array([0,1,1,0])\n",
    "nn.fit(X, Y)\n",
    "\n",
    "print(\"Final prediction of all\")\n",
    "A2 = nn.predict(X)\n",
    "for x, yhat in zip(X.T, A2.T):\n",
    "    print(x, np.round(yhat, 3))"
   ]
  },
  {
   "cell_type": "code",
   "execution_count": 17,
   "metadata": {},
   "outputs": [
    {
     "data": {
      "image/png": "[encoded data removed]",
      "text/plain": [
       "<Figure size 432x288 with 1 Axes>"
      ]
     },
     "metadata": {
      "needs_background": "light"
     },
     "output_type": "display_data"
    }
   ],
   "source": [
    "import joy\n",
    "import matplotlib.pyplot as plt\n",
    "joy.plot_decision_regions(X.T, Y, lambda z : nn.predict(z.T))\n",
    "plt.xlabel('x-axis')\n",
    "plt.ylabel('y-axis')\n",
    "plt.legend(loc='best')\n",
    "plt.show()"
   ]
  },
  {
   "cell_type": "code",
   "execution_count": 18,
   "metadata": {},
   "outputs": [
    {
     "data": {
      "image/png": "[encoded data removed]",
      "text/plain": [
       "<Figure size 432x288 with 1 Axes>"
      ]
     },
     "metadata": {
      "needs_background": "light"
     },
     "output_type": "display_data"
    }
   ],
   "source": [
    "plt.plot(range(len(nn.cost_)), nn.cost_, marker='o')\n",
    "plt.xlabel('Epochs')\n",
    "plt.ylabel('Error Squared Sum')\n",
    "plt.show()"
   ]
  },
  {
   "cell_type": "code",
   "execution_count": null,
   "metadata": {},
   "outputs": [],
   "source": []
  }
 ],
 "metadata": {
  "kernelspec": {
   "display_name": "Python 3",
   "language": "python",
   "name": "python3"
  },
  "language_info": {
   "codemirror_mode": {
    "name": "ipython",
    "version": 3
   },
   "file_extension": ".py",
   "mimetype": "text/x-python",
   "name": "python",
   "nbconvert_exporter": "python",
   "pygments_lexer": "ipython3",
   "version": "3.8.3"
  }
 },
 "nbformat": 4,
 "nbformat_minor": 4
}
