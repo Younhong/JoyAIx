{
 "cells": [
  {
   "cell_type": "code",
   "execution_count": null,
   "metadata": {},
   "outputs": [],
   "source": [
    "import numpy as np"
   ]
  },
  {
   "cell_type": "code",
   "execution_count": null,
   "metadata": {},
   "outputs": [],
   "source": [
    "x = np.array([0,1,2,3])\n",
    "w = np.array([0, 0.1, 0.2, 0.3])\n",
    "z = np.dot(x,w)\n",
    "print(z)"
   ]
  },
  {
   "cell_type": "code",
   "execution_count": null,
   "metadata": {},
   "outputs": [],
   "source": [
    "np.random.seed(0)\n",
    "x = np.array(np.arange(4))\n",
    "w = np.array(np.random.random(4))\n",
    "z = np.dot(x,w)\n",
    "print(z)"
   ]
  },
  {
   "cell_type": "code",
   "execution_count": null,
   "metadata": {},
   "outputs": [],
   "source": [
    "np.random.seed(0)\n",
    "x = np.array(np.arange(4)).reshape(4,1)\n",
    "w = np.array(np.random.random(4)).reshape(4,1)\n",
    "z = np.dot(x.T,w).squeeze()\n",
    "print(z)"
   ]
  },
  {
   "cell_type": "code",
   "execution_count": null,
   "metadata": {},
   "outputs": [],
   "source": [
    "import numpy as np\n",
    "import matplotlib.pyplot as plt\n",
    "%matplotlib inline\n",
    "%run code/plot_xyw.py\n",
    "%run code/perceptron.py\n",
    "\n",
    "x = np.array([[1.0, 1.0], [2.0, -2.0], [-1.0, -1.5], [-2.0, -1.0], [-2.0,1.0], [1.5, -0.5]])\n",
    "\n",
    "X = np.c_[ np.ones(len(x)), x ]\n",
    "y = np.array([1, -1, -1, -1, 1, 1])\n",
    "# w = np.random.random((X.shape[1],1))\n",
    "w = np.array([0,1,0.5])\n",
    "W = np.array([w])\n",
    "epochs = 4\n",
    "for _ in range(epochs):\n",
    "    w = perceptron(X, y, w, eta=0.05, epochs=1)\n",
    "    W = np.vstack([W, w])\n",
    "plot_xyw(X,y,W,X0=True, annotate=True)"
   ]
  },
  {
   "cell_type": "code",
   "execution_count": null,
   "metadata": {},
   "outputs": [],
   "source": [
    "%%writefile code/perceptron.py\n",
    "import numpy as np\n",
    "def perceptron(X, y, w=None, eta=0.1, epochs=5, random_seed=1):\n",
    "    if w is None:\n",
    "        np.random_seed(random_seed)\n",
    "        w = np.random.random((X.shape[1],1))\n",
    "    \n",
    "    maxlabel, minlabel = y.max(), y.min()\n",
    "    \n",
    "    for _ in range(epochs):\n",
    "        for xi, yi in zip(X, y):\n",
    "            xi = xi.reshape(w.shape)\n",
    "            z = np.dot(w.T, xi)\n",
    "            yhat = np.where(z > 0.0, maxlabel, minlabel)\n",
    "            delta = eta * (yi - yhat) * xi\n",
    "            w += delta\n",
    "    return w"
   ]
  },
  {
   "cell_type": "code",
   "execution_count": null,
   "metadata": {},
   "outputs": [],
   "source": []
  },
  {
   "cell_type": "code",
   "execution_count": null,
   "metadata": {},
   "outputs": [],
   "source": [
    "# 1 1 1          0 1 0.5             1      1     0.2     0 0 0\n",
    "# 1 2 -2         0 1 0.5             1     -1     0.2    -0.4 -0.8 0.8\n",
    "# 1 -1 -1.5      -0.4 0.2 1.3       -1     -1     0.2     0 0 0   \n",
    "# 1 -2 -1        -0.4 0.2 1.3       -1     -1     0.2     0 0 0\n",
    "# 1 -2 1         -0.4 0.2 1.3        1      1     0.2     0.4 -0.8 0.4\n",
    "# 1 1.5 -0.5     -0.4 0.2 1.3       -1      1     0.2     0.4 0.6 -0.2\n"
   ]
  },
  {
   "cell_type": "code",
   "execution_count": null,
   "metadata": {},
   "outputs": [],
   "source": [
    "import numpy as np\n",
    "import matplotlib.pyplot as plt\n",
    "%matplotlib inline\n",
    "%run code/plot_xyw.py\n",
    "\n",
    "x = np.array([[1.0, 1.0], [2.0, -2.0], [-1.0, -1.5], [-2.0, -1.0], [-2.0,1.0], [1.5, -0.5]])\n",
    "\n",
    "X = np.c_[ np.ones(len(x)), x ]\n",
    "\n",
    "y = np.array([1, -1, -1, -1, 1, 1])\n",
    "\n",
    "w = np.array([0, 0.8, 1.1])\n",
    "\n",
    "plot_xyw(X, y, w, X0=True, annotate=True)"
   ]
  },
  {
   "cell_type": "code",
   "execution_count": 2,
   "metadata": {},
   "outputs": [],
   "source": [
    "import numpy as np\n",
    "def perceptronV2(X, y, w=None, eta=0.1, epochs=5, random_seed=1):\n",
    "    if w is None:\n",
    "        randnum = np.random.RandomState(random_seed)\n",
    "        w = random.normal(loc=0, scale=0.01, size=X.shape[1])\n",
    "    \n",
    "    maxlabel, minlabel = y.max(), y.min()\n",
    "    \n",
    "    for _ in np.arange(epochs):\n",
    "        for xi, yi in zip(X, y):\n",
    "            z = np.dot(xi, w)\n",
    "            yhat = np.where(z > 0.0, maxlabel, minlabel)\n",
    "            if yhat != yi:\n",
    "                delta = eta * (yi - yhat) * xi\n",
    "                w += delta\n",
    "    return w"
   ]
  },
  {
   "cell_type": "code",
   "execution_count": 6,
   "metadata": {},
   "outputs": [
    {
     "name": "stdout",
     "output_type": "stream",
     "text": [
      "[0.2 0.5 1. ]\n"
     ]
    },
    {
     "data": {
      "image/png": "[encoded data removed]",
      "text/plain": [
       "<Figure size 432x288 with 1 Axes>"
      ]
     },
     "metadata": {
      "needs_background": "light"
     },
     "output_type": "display_data"
    }
   ],
   "source": [
    "import numpy as np\n",
    "import matplotlib.pyplot as plt\n",
    "%matplotlib inline\n",
    "%run code/plot_xyw.py\n",
    "\n",
    "x = np.array([[1.0, 1.0], [2.0, -2.0], [-1.0, -1.5], [-2.0, -1.0], [-2.0,1.0], [1.5, -0.5]])\n",
    "\n",
    "X = np.c_[ np.ones(len(x)), x ]\n",
    "y = np.array([1, -1, -1, -1, 1, 1])\n",
    "# w = np.random.random((X.shape[1],1))\n",
    "w = np.array([0,1,0.5])\n",
    "w = perceptronV2(X, y, w, eta=0.1, epochs=3)\n",
    "print(np.round(w,2))\n",
    "plot_xyw(X,y,w,X0=True)"
   ]
  }
 ],
 "metadata": {
  "kernelspec": {
   "display_name": "Python 3",
   "language": "python",
   "name": "python3"
  },
  "language_info": {
   "codemirror_mode": {
    "name": "ipython",
    "version": 3
   },
   "file_extension": ".py",
   "mimetype": "text/x-python",
   "name": "python",
   "nbconvert_exporter": "python",
   "pygments_lexer": "ipython3",
   "version": "3.8.3"
  }
 },
 "nbformat": 4,
 "nbformat_minor": 4
}
