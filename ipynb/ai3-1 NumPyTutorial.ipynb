{
 "cells": [
  {
   "cell_type": "markdown",
   "metadata": {},
   "source": [
    "The fear of the LORD is the beginning of knowledge, but fools despise wisdom and discipline. Proverbs 1:7\n",
    "\n",
    "-------\n",
    "\n",
    "# Welcome to \"AI for All\"\n",
    "\n",
    "Lecture Notes by idebtor@gmail.com, Handong Global University"
   ]
  },
  {
   "cell_type": "markdown",
   "metadata": {},
   "source": [
    "# Chapter 3. 넘파이$^{NumPy}$ 튜토리얼(1/3)\n",
    "\n",
    "## 학습 목표\n",
    "    - 기계학습에서 왜 넘파이를 사용하는지 이해한다\n",
    "    - 넘파이 개념과 기본적인 사용법을 익힌다.\n",
    "\n",
    "## 학습 내용\n",
    "1. 넘파이의 특징\n",
    "2. 왜 넘파이인가? \n",
    "3. 배열의 속성\n",
    "4. 배열의 생성과 출력"
   ]
  },
  {
   "cell_type": "markdown",
   "metadata": {},
   "source": [
    "## 1. 넘파이의 특징\n",
    "NumPy는 '넘파이'라고 읽고, NumPy쓰는 것이 정석입니다. 파이썬 기반 데이터 분석 환경에서 넘파이는 행렬 연산을 위한 핵심 라이브러리입니다. NumPy는 “Numerical Python“의 약자로 대규모 다차원 배열과 행렬 연산에 필요한 다양한 함수를 제공합니다. \n",
    "\n",
    "파이썬 리스트(list) 클래스를 개선하여 만든 넘파이의 `ndarray` 클래스를 사용하면 더 많은 데이터를 더 빠르게 처리할 수 있습니다. 메모리 버퍼에 배열 데이터를 저장하고 처리하는 효율적인 인터페이스를 제공합니다. "
   ]
  },
  {
   "cell_type": "markdown",
   "metadata": {},
   "source": [
    "NumPy는 다음과 같이 기계학습를 구현하는데 상당히 유용한 특징을 갖고 있습니다.\n",
    "\n",
    "- 강력한 N 차원 배열 객체\n",
    "- 정교한 브로드케스팅(Broadcast) 기능\n",
    "- 다양한 선형 대수학 함수와 난수 기능\n",
    "- 범용적 데이터 처리에 사용 가능한 다차원 컨테이너\n",
    "- C/C ++ 및 Fortran 코드 통합 도구"
   ]
  },
  {
   "cell_type": "markdown",
   "metadata": {},
   "source": [
    "파이썬에서 NumPy를 사용할 때, 다음과 같이 numpy 모듈을 “np”로 임포트하여 사용합니다. np로 임포트 하지 않으면, numpy를 사용해야 합니다. Numpy 라이브러리 버전은 다음과 같이 확인 할 수 있습니다."
   ]
  },
  {
   "cell_type": "code",
   "execution_count": 1,
   "metadata": {},
   "outputs": [
    {
     "data": {
      "text/plain": [
       "'1.18.5'"
      ]
     },
     "execution_count": 1,
     "metadata": {},
     "output_type": "execute_result"
    }
   ],
   "source": [
    "import numpy\n",
    "numpy.__version__"
   ]
  },
  {
   "cell_type": "code",
   "execution_count": 2,
   "metadata": {},
   "outputs": [
    {
     "data": {
      "text/plain": [
       "'1.18.5'"
      ]
     },
     "execution_count": 2,
     "metadata": {},
     "output_type": "execute_result"
    }
   ],
   "source": [
    "import numpy as np\n",
    "np.__version__"
   ]
  },
  {
   "cell_type": "markdown",
   "metadata": {},
   "source": [
    "## 2. 왜 넘파이인가?\n",
    "\n",
    "### 2.1 파이썬 리스트 복습하기\n",
    "\n",
    "넘파이를 실습하기 전에 넘파이 배열과 비슷한 파이썬 리스트를 먼저 복습해봅니다. 다음은 3개의 숫자와 하나의 문자열로 구성된 파이썬 리스트입니다."
   ]
  },
  {
   "cell_type": "code",
   "execution_count": 3,
   "metadata": {},
   "outputs": [
    {
     "name": "stdout",
     "output_type": "stream",
     "text": [
      "[10, 20, 'aim high', 30.5, (1, 2), [1, 2]]\n",
      "aim high\n"
     ]
    }
   ],
   "source": [
    "alist = [10, 20, 'aim high', 30.5, (1, 2), [1, 2]] \n",
    "print(alist)\n",
    "print(alist[2])"
   ]
  },
  {
   "cell_type": "markdown",
   "metadata": {},
   "source": [
    "리스트는 다른 리스트를 요소로 포함할 수 있습니다. 이렇게 중첩된 배열을 2차원 배열이라고 합니다. 예를 들면, 다음과 같이 만들 수 있습니다. 다만, 배열(array)이라고 할 때는 같은 형식(type)의 자료만으로 요소를 구성해야 합니다.  "
   ]
  },
  {
   "cell_type": "code",
   "execution_count": 4,
   "metadata": {},
   "outputs": [],
   "source": [
    "alist = [[10, 20, 30], [50, 60, 70]]"
   ]
  },
  {
   "cell_type": "markdown",
   "metadata": {},
   "source": [
    "이 리스트의 크기는 `2 x 3`(two by three)라고 말합니다. 또는 2개의 행과 3개의 열이 있다고 말합니다. 그리고, 배열의 요소를 선택할 때는 대괄호를 사용합니다. 예를 들어 두 번째 행의 세 번째 열을 선택하면, 70이 출력이 되어야 합니다. 인덱스는 0부터 시작합니다.  "
   ]
  },
  {
   "cell_type": "code",
   "execution_count": 5,
   "metadata": {},
   "outputs": [
    {
     "name": "stdout",
     "output_type": "stream",
     "text": [
      "70\n"
     ]
    }
   ],
   "source": [
    "print(alist[1][2])"
   ]
  },
  {
   "cell_type": "markdown",
   "metadata": {},
   "source": [
    "다차원 배열을 파이썬 리스트로 만들어 사용해도 되지만, 파이썬 리스트로 만든 배열은 배열의 크기가 커질수록 성능이 떨어지는 단점이 있습니다. 넘파이를 사용하면, 이런 성능의 문제가 많이 해결이 됩니다. 예를 들어, 파이썬 리스트의 요소를 모두 더하려면 for 문을 만들어야 합니다. \n",
    "\n",
    "넘파이에서는 배열에 관한 다양한 함수를 제공하기 때문에 반복문을 사용하지 않고도 배열의 합을 계산할 수 있습니다. sum() 함수는 배열의 요소를 모두 더해 주는 함수입니다. "
   ]
  },
  {
   "cell_type": "code",
   "execution_count": 6,
   "metadata": {},
   "outputs": [
    {
     "name": "stdout",
     "output_type": "stream",
     "text": [
      "240\n"
     ]
    }
   ],
   "source": [
    "# compute sum of allist \n",
    "sum = 0\n",
    "for row in alist:\n",
    "    for x in row:\n",
    "        sum += x\n",
    "print(sum)"
   ]
  },
  {
   "cell_type": "code",
   "execution_count": 8,
   "metadata": {},
   "outputs": [
    {
     "name": "stdout",
     "output_type": "stream",
     "text": [
      "<class 'numpy.ndarray'>\n",
      "240\n"
     ]
    }
   ],
   "source": [
    "# convert a list type to ndarray type  \n",
    "# compute sum of ndarray\n",
    "\n",
    "arr = np.array(alist)\n",
    "print(type(arr))\n",
    "print(np.sum(arr))"
   ]
  },
  {
   "cell_type": "markdown",
   "metadata": {},
   "source": [
    "위의 넘파이 함수의 방법은 반복문을 사용하는 것보다 간편합니다. "
   ]
  },
  {
   "cell_type": "markdown",
   "metadata": {},
   "source": [
    "### 2.2 넘파이의 연산속도\n",
    "\n",
    "넘파이를 사용하면, 다차원 행렬 연산을 손쉽게 할 수 있습니다. 특히, 앞으로 살펴볼 신경망에서 가중치를 계산하게 될 것입니다. 신경망이 복잡해지고 수행해야할 연산이 많아질수록 넘파이를 사용한 연산이 빛을 발하게 됩니다. 하나의 예제를 통해 행렬 연산을 사용해야 하는 이유를 보여드리겠습니다.\n",
    "\n",
    "다음 셀에서는 일백만개의 가중치 w와 입력값 x를 초기화합니다. 그리고, \n",
    "1. 한 경우는 파이썬 리스트 형식의 w, x에 값을 저장하고, 또\n",
    "2. 한 경우는 넘파이 배열 형식의 w_np, x_np에 저장합니다."
   ]
  },
  {
   "cell_type": "code",
   "execution_count": 10,
   "metadata": {},
   "outputs": [],
   "source": [
    "import numpy as np\n",
    "\n",
    "n = 1_000_000\n",
    "w = []                # list type\n",
    "x = []\n",
    "for i in range(n):\n",
    "    w.append(1.0)\n",
    "    x.append(1.0000001)\n",
    "\n",
    "w_np = np.array(w)\n",
    "x_np = np.array(x)"
   ]
  },
  {
   "cell_type": "code",
   "execution_count": 11,
   "metadata": {},
   "outputs": [
    {
     "name": "stdout",
     "output_type": "stream",
     "text": [
      "1000000\n",
      "1000000\n"
     ]
    }
   ],
   "source": [
    "print(len(w))\n",
    "print(len(w_np))"
   ]
  },
  {
   "cell_type": "markdown",
   "metadata": {},
   "source": [
    "#### 순입력 구하기: 입력(x)과 가중치(x)의 곱(wx)"
   ]
  },
  {
   "cell_type": "markdown",
   "metadata": {},
   "source": [
    "다음 두 셀은 각각의 데이터 구조에 저장된 __입력과 가중치를 곱한 값__, 즉 $wx$ 의 연산 속도를 보여줍니다. \n",
    "\n",
    "주피터 노트북의 셀 매직 커맨드인 `%%timeit`은 해당 셀을 수행하는데 사용된 시간을 보여줍니다. `time` 커맨드에 대한 자세한 설명은 [링크]( http://ipython.readthedocs.io/en/stable/interactive/magics.html#magic-time)를 통해 확인할 수 있습니다. "
   ]
  },
  {
   "cell_type": "code",
   "execution_count": 16,
   "metadata": {},
   "outputs": [
    {
     "name": "stdout",
     "output_type": "stream",
     "text": [
      "106 ms ± 943 µs per loop (mean ± std. dev. of 7 runs, 10 loops each)\n"
     ]
    }
   ],
   "source": [
    "%%timeit\n",
    "total = 0\n",
    "for i in range(n):\n",
    "    total += w[i] * x[i]"
   ]
  },
  {
   "cell_type": "code",
   "execution_count": 15,
   "metadata": {},
   "outputs": [
    {
     "name": "stdout",
     "output_type": "stream",
     "text": [
      "1000000.1000007543\n"
     ]
    }
   ],
   "source": [
    "print(total)"
   ]
  },
  {
   "cell_type": "markdown",
   "metadata": {},
   "source": [
    "다음 코드 셀의 None을 적절한 키워드로 대체하십시오. "
   ]
  },
  {
   "cell_type": "code",
   "execution_count": 21,
   "metadata": {},
   "outputs": [
    {
     "name": "stdout",
     "output_type": "stream",
     "text": [
      "454 µs ± 72.1 µs per loop (mean ± std. dev. of 7 runs, 1000 loops each)\n"
     ]
    }
   ],
   "source": [
    "%%timeit\n",
    "total_np = np.dot(w_np, x_np)"
   ]
  },
  {
   "cell_type": "code",
   "execution_count": 18,
   "metadata": {},
   "outputs": [
    {
     "data": {
      "text/plain": [
       "228.49083215796898"
      ]
     },
     "execution_count": 18,
     "metadata": {},
     "output_type": "execute_result"
    }
   ],
   "source": [
    "0.162/0.000709"
   ]
  },
  {
   "cell_type": "code",
   "execution_count": 22,
   "metadata": {},
   "outputs": [
    {
     "name": "stdout",
     "output_type": "stream",
     "text": [
      "1000000.1000003085\n"
     ]
    }
   ],
   "source": [
    "print(total_np)"
   ]
  },
  {
   "cell_type": "markdown",
   "metadata": {},
   "source": [
    "여러분의 컴퓨터 CPU 사양에 따라서 연산속도에는 차이가 있을 것입니다. 제가 사용하는 노트북의 환경에서는 넘파이를 사용한 연산이 비교할 수 없는 정도로 빠르다는것을 확일할 수 있습니다. 그 이유는 기존의 파이썬 리스트를 사용해서 연산을 할 경우 for 반복문이 한줄 한줄 실행되는 반면에, 넘파이 어레이를 사용할 경우 동시에 다양한 연산을 할 수 있기 때문입니다.\n",
    "\n",
    "자, 그러면, 우리가 넘파이를 열공할 이유가 충분한가요?  넘파이 배열의 속성부터 알아보도록 하겠습니다. "
   ]
  },
  {
   "cell_type": "markdown",
   "metadata": {},
   "source": [
    "## 3. 넘파이 배열 속성 \n",
    "\n",
    "### 3.1 shape, rank, axis, ndim, size\n",
    "\n",
    "넘파이 배열은 `ndarray` 클래스입니다. `ndarray` 클래스는 다음과 같은 속성이 있습니다. \n",
    "\n",
    "- ndim -- 차원, 축(axis)의 개수. 축의 갯수를 랭크(rank)라 부릅니다. (그림 1)에서 3D배열은 랭크가 3입니다.\n",
    "- shape -- 크기 혹은 형상, 각 차원에서 배열의 사이즈를 표시하는 튜플입니다. n 행과 m 열을 갖는 매트릭스를 예를들면 shape 은 (n,m) 입니다. shape튜플의 길이는 랭크입니다. (그림 1)에서 3D배열의 형상은 (2, 2, 3)\n",
    "- size -- 배열의 모든 원소(요소)들의 개수입니다. shape의 원소들의 모두 곱한 값과 같습니다. (그림 1)에서 3D배열의 크기는 12입니다.\n",
    "- dtype -- 배열 원소들의 자료 형식, 예를 들면 numpy.int32, numpy.int16, and numpy.float64 입니다. 다음 표에 나열된 것처럼 \"dtype prefix\"로 시작하는 문자열이고, 이 글자 뒤에 오는 숫자는 바이트의 수를 의미합니다. 예를 들면 i8은 8바이트 int를 뜻합니다. U4는 유니코드 4글자 유니코드 문자열을 뜻합니다. 숫자를 생략하면 운영체제에 따라 알맞은 크기를 지저합니다.\n",
    "\n",
    "이러한 속성들을 다음과 같이 출력해볼 수도 있습니다. "
   ]
  },
  {
   "cell_type": "code",
   "execution_count": 23,
   "metadata": {},
   "outputs": [],
   "source": [
    "def pprint(arr):\n",
    "    print(\"type:{}, size:{}\".format(type(arr), arr.size))\n",
    "    print(\"shape:{}, ndim/rank:{}, dtype:{}\".format(arr.shape, arr.ndim, arr.dtype))\n",
    "    print(\"Array's Data:\")\n",
    "    print(arr)"
   ]
  },
  {
   "cell_type": "markdown",
   "metadata": {},
   "source": [
    "<img src = \"https://github.com/idebtor/KMOOC-ML/blob/master/ipynb/images/numpy_dtype.png?raw=true\" width = \"600\">"
   ]
  },
  {
   "cell_type": "markdown",
   "metadata": {},
   "source": [
    "이러한 속성들을 알고 있으면, 강의를 들을 때, 코딩할 때, 문서를 참조할 때 상당히 도움이 됩니다.\n",
    "\n",
    "예를 들어 28x28 컬러 사진은 높이가 28, 폭이 28, 각 픽셀은 3개 채널(RGB)로 구성된 데이터 구조를 갖습니다. 즉 컬러 사진 데이터는 형상은 (28, 28, 3)인 3차원 배열이므로 rank 즉 ndim = 3입니다. 그러므로, axis = 0, 1, 2 세 축이 존재합니다. 이와 같은 다차원 배열은 입체적인 데이터 구조를 가지며, 데이터의 차원은 여러 갈래의 데이터 방향을 갖습니다. 다차원 배열의 데이터 방향을 axis로 표현할 수 있습니다.\n",
    "\n",
    "행방향(높이, row), 열방향(폭, column), 채널 방향은 각각 axis=0, axis=1 그리고 axis=2로 지정됩니다. Numpy 집계 𝑎𝑔𝑔𝑟𝑒𝑔𝑎𝑡𝑖𝑜𝑛  함수는 배열 데이터의 집계 방향을 지정하는 axis 옵션을 제공합니다. 집계 함수에는 sum, mean, std, min, max, argmax, median 등등이 있습니다."
   ]
  },
  {
   "cell_type": "markdown",
   "metadata": {},
   "source": [
    "<img src=\"https://github.com/idebtor/KMOOC-ML/blob/master/ipynb/images/ndarray.png?raw=true\" width=\"600\">\n",
    "<center>그림 1: 넘파이 1차원, 2차원 및 3차원 배열과 축(Axis)</center>"
   ]
  },
  {
   "cell_type": "markdown",
   "metadata": {},
   "source": [
    "### 3.2 inf 와 nan\n",
    "\n",
    "넘파이에서는 무한대를 표현하기 위한 `np.inf`(infinity)와 정의할 수 없는 숫자를 나타내는 `np.nan`(not a number)을 사용할 수 있습니다. 다음 예와 같이 1을 0으로 나누려고 하거나 0에 대한 로그 값을 계산하면 무한대인 `np.inf`가 나옵니다. 0을 0으로 나누려고 시도하면 `np.nan`이 나옵니다. "
   ]
  },
  {
   "cell_type": "code",
   "execution_count": 24,
   "metadata": {},
   "outputs": [
    {
     "data": {
      "text/plain": [
       "array([  0.,  inf, -inf,  nan])"
      ]
     },
     "execution_count": 24,
     "metadata": {},
     "output_type": "execute_result"
    }
   ],
   "source": [
    "# You may see some warnings if you don't have the next two lines\n",
    "import warnings;\n",
    "warnings.filterwarnings('ignore');\n",
    "\n",
    "np.array([0, 1, -1, 0]) / np.array([1, 0, 0, 0])"
   ]
  },
  {
   "cell_type": "code",
   "execution_count": 25,
   "metadata": {},
   "outputs": [
    {
     "data": {
      "text/plain": [
       "-inf"
      ]
     },
     "execution_count": 25,
     "metadata": {},
     "output_type": "execute_result"
    }
   ],
   "source": [
    "np.log(0)"
   ]
  },
  {
   "cell_type": "code",
   "execution_count": 26,
   "metadata": {},
   "outputs": [
    {
     "data": {
      "text/plain": [
       "0.0"
      ]
     },
     "execution_count": 26,
     "metadata": {},
     "output_type": "execute_result"
    }
   ],
   "source": [
    "np.exp(-np.inf)"
   ]
  },
  {
   "cell_type": "markdown",
   "metadata": {},
   "source": [
    "## 4. 배열의 생성과 출력\n",
    "\n",
    "\n",
    "\n",
    "### 4.1 1차원 배열 생성\n",
    "\n",
    "먼저 0부터 11까지 나열된 1차원의 배열을 만들고, 속성을 출력해 봅니다. 파이썬 리스트와 보기는 비슷하지만 출력도 좀 다른 것에 유의하길 바랍니다. 파이썬 리스트와 무엇이 다르게 표시되나요?"
   ]
  },
  {
   "cell_type": "code",
   "execution_count": 27,
   "metadata": {},
   "outputs": [
    {
     "name": "stdout",
     "output_type": "stream",
     "text": [
      "[ 0  1  2  3  4  5  6  7  8  9 10 11]\n"
     ]
    }
   ],
   "source": [
    "import numpy as np\n",
    "a = np.arange(12)\n",
    "print(a)"
   ]
  },
  {
   "cell_type": "markdown",
   "metadata": {},
   "source": [
    "배열을 생성할 때는 하나의 리스트를 인자로 제공해야 합니다. \n",
    "예를 들면, \n",
    "```\n",
    "a = np.array(1,2,3,4)    # wrong\n",
    "a = np.array([1,2,3,4])  # right - list\n",
    "a = np.array((1,2,3,4))  # right - tuple\n",
    "```"
   ]
  },
  {
   "cell_type": "markdown",
   "metadata": {},
   "source": [
    "#### Example 1.  리스트 `[0. 1. 2. ... 11]`를 먼저 생성한 후, ndarray로 변환하고 출력하십시오.  \n",
    "\n",
    "- Python의 리스트 형식과 ndarray 형식의 프린트 출력과 Evaluate 출력의 결과가 서로 다른 것을 관찰하십시오. "
   ]
  },
  {
   "cell_type": "code",
   "execution_count": 28,
   "metadata": {},
   "outputs": [
    {
     "name": "stdout",
     "output_type": "stream",
     "text": [
      "py_list: [0, 1, 2, 3, 4, 5, 6, 7, 8, 9, 10, 11]\n",
      "np_array: [ 0  1  2  3  4  5  6  7  8  9 10 11]\n"
     ]
    }
   ],
   "source": [
    "py_list = [ x for x in range(12) ]\n",
    "np_array = np.array(py_list)\n",
    "print('py_list:', py_list)\n",
    "print('np_array:', np_array)"
   ]
  },
  {
   "cell_type": "markdown",
   "metadata": {},
   "source": [
    "### 4.2 배열의 형식과 형상(크기)\n",
    "\n",
    "배열을 생성할 때 배열의 형식$^{type}$과 형상$^{shape}$을 지정할 수 있습니다. shape을 __크기__라고 번역하기도 합니다.  "
   ]
  },
  {
   "cell_type": "markdown",
   "metadata": {},
   "source": [
    "#### Example 1: \n",
    "\n",
    "None을 다른 코드로 대체 하여 아래와 같은 행렬(3 x 4)을 만들어 보십시오. \n",
    "\n",
    "```\n",
    "[[ 0  1  2  3]\n",
    " [ 4  5  6  7]\n",
    " [ 8  9 10 11]]\n",
    "```"
   ]
  },
  {
   "cell_type": "code",
   "execution_count": 29,
   "metadata": {},
   "outputs": [
    {
     "name": "stdout",
     "output_type": "stream",
     "text": [
      "[[ 0  1  2  3]\n",
      " [ 4  5  6  7]\n",
      " [ 8  9 10 11]]\n"
     ]
    }
   ],
   "source": [
    "a = np.arange(12).reshape(3, 4)\n",
    "print(a)"
   ]
  },
  {
   "cell_type": "markdown",
   "metadata": {},
   "source": [
    "#### Example 2: 위와 같은 행렬(3 x 4)을 만들되, -1을 활용하여 생성하십시오.   "
   ]
  },
  {
   "cell_type": "code",
   "execution_count": 30,
   "metadata": {},
   "outputs": [
    {
     "name": "stdout",
     "output_type": "stream",
     "text": [
      "[[ 0  1  2  3]\n",
      " [ 4  5  6  7]\n",
      " [ 8  9 10 11]]\n"
     ]
    }
   ],
   "source": [
    "#Using -1 \n",
    "a = np.arange(12).reshape(3, -1)\n",
    "print(a)"
   ]
  },
  {
   "cell_type": "code",
   "execution_count": 31,
   "metadata": {},
   "outputs": [
    {
     "name": "stdout",
     "output_type": "stream",
     "text": [
      "[[ 0  1  2  3]\n",
      " [ 4  5  6  7]\n",
      " [ 8  9 10 11]]\n"
     ]
    }
   ],
   "source": [
    "#Using -1 \n",
    "\n",
    "a = np.arange(12).reshape(-1, 4)\n",
    "print(a)"
   ]
  },
  {
   "cell_type": "markdown",
   "metadata": {},
   "source": [
    "### 4.3 배열 생성 함수\n",
    "\n",
    "배열에 형상을 튜플로 지정하면, 원소의 값을 초기화해서 배열을 생성하는 다양한 함수들이 있습니다. \n",
    "- zeros -- 지정된 shape의 배열을 생성하고, 원소를 모두 0으로 초기화\n",
    "- zeros_like, ones_like -- 주어진 배열의 shape(형상)을 가져오고, 0 혹은 1로 초기화한 배열을 생성함 \n",
    "- ones -- 지정된 shape의 배열을 생성하고, 원소를 모두 1로 초기화\n",
    "- full -- 지정된 shape의 배열을 생성하고, 원소를 모두 지정한 한 값으로 초기화\n",
    "- empty -- 지정된 shape의 배열을 생성하고, 원소들 모두 임의의 값으로 초기화\n",
    "- eye -- 주 대각선의 모든 원소가 1인 단위 행렬(Unit Matrix)을 생성"
   ]
  },
  {
   "cell_type": "markdown",
   "metadata": {},
   "source": [
    "크기가 정해져 있고 모든 값이 1.0인 배열을 생성하려면 ones()함수를 사용합니다. 인수로는 배열을 크기(shape)를 뜻하는 정수를 넣습니다.\n",
    "\n",
    "\n",
    "#### Example 1: 다음 배열을 생성하십시오.\n",
    "\n",
    "```\n",
    "[[1 1 1 1]\n",
    " [1 1 1 1]\n",
    " [1 1 1 1]]\n",
    " \n",
    "[0 0 0 0 0 0 0]\n",
    "```"
   ]
  },
  {
   "cell_type": "code",
   "execution_count": 32,
   "metadata": {},
   "outputs": [
    {
     "name": "stdout",
     "output_type": "stream",
     "text": [
      "[[1 1 1 1]\n",
      " [1 1 1 1]\n",
      " [1 1 1 1]]\n"
     ]
    }
   ],
   "source": [
    "a = np.ones((3, 4), dtype='i')\n",
    "print(a)"
   ]
  },
  {
   "cell_type": "code",
   "execution_count": 33,
   "metadata": {},
   "outputs": [
    {
     "name": "stdout",
     "output_type": "stream",
     "text": [
      "[0 0 0 0 0 0 0]\n"
     ]
    }
   ],
   "source": [
    "a = np.zeros(7, dtype='i')\n",
    "print(a)"
   ]
  },
  {
   "cell_type": "markdown",
   "metadata": {},
   "source": [
    "#### Example 2: 다음 배열을 생성하십시오. 튜플로 형상을 입력해서 다차원 배열도 만들 수 있습니다\n",
    "```\n",
    "[[[0. 0. 0. 0.]\n",
    "  [0. 0. 0. 0.]\n",
    "  [0. 0. 0. 0.]]\n",
    "\n",
    " [[0. 0. 0. 0.]\n",
    "  [0. 0. 0. 0.]\n",
    "  [0. 0. 0. 0.]]]\n",
    "```"
   ]
  },
  {
   "cell_type": "code",
   "execution_count": 34,
   "metadata": {},
   "outputs": [
    {
     "name": "stdout",
     "output_type": "stream",
     "text": [
      "[[[0. 0. 0. 0.]\n",
      "  [0. 0. 0. 0.]\n",
      "  [0. 0. 0. 0.]]\n",
      "\n",
      " [[0. 0. 0. 0.]\n",
      "  [0. 0. 0. 0.]\n",
      "  [0. 0. 0. 0.]]]\n"
     ]
    }
   ],
   "source": [
    "b = np.zeros((2, 3, 4))\n",
    "print(b)"
   ]
  },
  {
   "cell_type": "markdown",
   "metadata": {},
   "source": [
    "만약 형상을 튜플로 명시하지 않고 다른 배열과 같은 형상의 배열을 생성하고 싶다면 `ones_like`, `zeros_like` 함수를 사용하면 됩니다. "
   ]
  },
  {
   "cell_type": "code",
   "execution_count": 35,
   "metadata": {},
   "outputs": [
    {
     "name": "stdout",
     "output_type": "stream",
     "text": [
      "[[[1 1 1 1]\n",
      "  [1 1 1 1]\n",
      "  [1 1 1 1]]\n",
      "\n",
      " [[1 1 1 1]\n",
      "  [1 1 1 1]\n",
      "  [1 1 1 1]]]\n"
     ]
    }
   ],
   "source": [
    "d = np.ones_like(b, dtype = \"i\")\n",
    "print(d)"
   ]
  },
  {
   "cell_type": "code",
   "execution_count": 36,
   "metadata": {},
   "outputs": [
    {
     "name": "stdout",
     "output_type": "stream",
     "text": [
      "[[[1. 1. 1. 1.]\n",
      "  [1. 1. 1. 1.]\n",
      "  [1. 1. 1. 1.]]\n",
      "\n",
      " [[1. 1. 1. 1.]\n",
      "  [1. 1. 1. 1.]\n",
      "  [1. 1. 1. 1.]]]\n"
     ]
    }
   ],
   "source": [
    "e = np.ones_like(d, dtype = \"f\")\n",
    "print(e)"
   ]
  },
  {
   "cell_type": "markdown",
   "metadata": {},
   "source": [
    "배열의 형상(크기)가 커지면 배열을 초기화하는데도 시간이 걸립니다. 이 시간을 단축하려면 배열을 생성만 하고 특정한 값으로 초기화를 하지 않는 empty 함수를 사용할 수 있다. 배열의 값은 임의 값으로 채워져 있습니다."
   ]
  },
  {
   "cell_type": "markdown",
   "metadata": {},
   "source": [
    "#### Example 3\n",
    "\n",
    "배열 생성 함수를 사용하여 다음과 코드 셀에서 None을 수정하여 아래와 같은 배열을 생성하십시오. \n",
    "```\n",
    "[[7, 7, 7],\n",
    " [7, 7, 7]]\n",
    "```"
   ]
  },
  {
   "cell_type": "code",
   "execution_count": 37,
   "metadata": {},
   "outputs": [
    {
     "data": {
      "text/plain": [
       "array([[7, 7, 7],\n",
       "       [7, 7, 7]])"
      ]
     },
     "execution_count": 37,
     "metadata": {},
     "output_type": "execute_result"
    }
   ],
   "source": [
    "f = np.full((2, 3), 7)\n",
    "f"
   ]
  },
  {
   "cell_type": "markdown",
   "metadata": {},
   "source": [
    "#### Example 4: 배열 생성 함수를 사용하여 다음과 같은 배열을 생성하십시오. \n",
    "\n",
    "```\n",
    "[[[ 0  1]\n",
    "  [ 2  3]\n",
    "  [ 4  5]]\n",
    "\n",
    " [[ 6  7]\n",
    "  [ 8  9]\n",
    "  [10 11]]\n",
    "\n",
    " [[12 13]\n",
    "  [14 15]\n",
    "  [16 17]]\n",
    "\n",
    " [[18 19]\n",
    "  [20 21]\n",
    "  [22 23]]]\n",
    "```"
   ]
  },
  {
   "cell_type": "code",
   "execution_count": 44,
   "metadata": {},
   "outputs": [
    {
     "name": "stdout",
     "output_type": "stream",
     "text": [
      "[[[ 0  1]\n",
      "  [ 2  3]\n",
      "  [ 4  5]]\n",
      "\n",
      " [[ 6  7]\n",
      "  [ 8  9]\n",
      "  [10 11]]\n",
      "\n",
      " [[12 13]\n",
      "  [14 15]\n",
      "  [16 17]]\n",
      "\n",
      " [[18 19]\n",
      "  [20 21]\n",
      "  [22 23]]]\n"
     ]
    }
   ],
   "source": [
    "a = np.arange(24).reshape(4, 3, 2)\n",
    "print(a)"
   ]
  },
  {
   "cell_type": "markdown",
   "metadata": {},
   "source": [
    "### 4.4 데이터 생성 함수와 그래프 그리기\n",
    "\n",
    "사용자가 정하는 조건으로 데이터를 생성한 후, 배열을 만들어 반환하는 함수들입니다. \n",
    "\n",
    "1. `arange([start,] stop[, step,], dtype=None)` <br>\n",
    "  start부터 stop 미만까지 step 간격으로 데이터 생성하여 배열을 반환\n",
    "1. `linspace(start, stop, num=50, endpoint=True, retstep=False, dtype=None)` <br>\n",
    "  start부터 stop의 범위에서 num 개의 데이터를 균일한 간격으로 생성하고 배열을 반환  \n",
    "1. `logspace(start, stop, num=50, endpoint=True, base=10.0, dtype=None)` <br>\n",
    "  start부터 stop의 범위에서 로그 스케일로 num 개의 데이터를 균일한 간격으로 생성하고 배열을 반환"
   ]
  },
  {
   "cell_type": "code",
   "execution_count": 38,
   "metadata": {},
   "outputs": [
    {
     "data": {
      "text/plain": [
       "array([0.        , 0.02040816, 0.04081633, 0.06122449, 0.08163265,\n",
       "       0.10204082, 0.12244898, 0.14285714, 0.16326531, 0.18367347,\n",
       "       0.20408163, 0.2244898 , 0.24489796, 0.26530612, 0.28571429,\n",
       "       0.30612245, 0.32653061, 0.34693878, 0.36734694, 0.3877551 ,\n",
       "       0.40816327, 0.42857143, 0.44897959, 0.46938776, 0.48979592,\n",
       "       0.51020408, 0.53061224, 0.55102041, 0.57142857, 0.59183673,\n",
       "       0.6122449 , 0.63265306, 0.65306122, 0.67346939, 0.69387755,\n",
       "       0.71428571, 0.73469388, 0.75510204, 0.7755102 , 0.79591837,\n",
       "       0.81632653, 0.83673469, 0.85714286, 0.87755102, 0.89795918,\n",
       "       0.91836735, 0.93877551, 0.95918367, 0.97959184, 1.        ])"
      ]
     },
     "execution_count": 38,
     "metadata": {},
     "output_type": "execute_result"
    }
   ],
   "source": [
    "np.linspace(0, 1)"
   ]
  },
  {
   "cell_type": "code",
   "execution_count": 39,
   "metadata": {},
   "outputs": [
    {
     "data": {
      "text/plain": [
       "array([ 1.        ,  1.04811313,  1.09854114,  1.1513954 ,  1.20679264,\n",
       "        1.26485522,  1.32571137,  1.38949549,  1.45634848,  1.52641797,\n",
       "        1.59985872,  1.67683294,  1.75751062,  1.84206997,  1.93069773,\n",
       "        2.02358965,  2.12095089,  2.22299648,  2.32995181,  2.44205309,\n",
       "        2.55954792,  2.6826958 ,  2.8117687 ,  2.9470517 ,  3.0888436 ,\n",
       "        3.23745754,  3.39322177,  3.55648031,  3.72759372,  3.90693994,\n",
       "        4.09491506,  4.29193426,  4.49843267,  4.71486636,  4.94171336,\n",
       "        5.17947468,  5.42867544,  5.68986603,  5.96362332,  6.25055193,\n",
       "        6.55128557,  6.86648845,  7.19685673,  7.54312006,  7.90604321,\n",
       "        8.28642773,  8.68511374,  9.10298178,  9.54095476, 10.        ])"
      ]
     },
     "execution_count": 39,
     "metadata": {},
     "output_type": "execute_result"
    }
   ],
   "source": [
    "np.logspace(0, 1)"
   ]
  },
  {
   "cell_type": "markdown",
   "metadata": {},
   "source": [
    "#### 선 그래프 그리기\n",
    "선 그래프를 그리려면, x축의 값과 y축의 값을 plot()함수에 전달하면 됩니다. 다만, x축의 값을 전달하지 않으면, 0부터 원소의 갯수만큼의 정수로 입력된 것으로 간주합니다. 아래 예제에서는 x축의 값은 `[0 1 2 3 4 5 6 7 8 9]` 입니다.\n",
    "\n",
    "배열 `a`에 저장되어 있는 숫자들을 y축의 값으로 간주하고 그래프를 그립니다. 그래프를 그릴 때 사용하는 line style, marker style, color를 다양하게 설정할 수 있읍니다. 다음은 그 중에 극히 일부입니다. \n",
    "\n",
    "- Line styles: solid line -,  dashed line --, dotted line :, \n",
    "- Marker styles: circle o, square s, . , <, >, ^, v,  \n",
    "- Marker colors: c - cyan, g - green, m - magenta, r - red, k - black, b - bule, y - yellow\n",
    "\n",
    "예를 들면, 함수plot()에 빨간 동그람 점을 표시하는 인자(`or:`)를 전달하면 됩니다"
   ]
  },
  {
   "cell_type": "markdown",
   "metadata": {},
   "source": [
    "#### Example 1. 단순한 직선 그래프"
   ]
  },
  {
   "cell_type": "code",
   "execution_count": 45,
   "metadata": {},
   "outputs": [
    {
     "data": {
      "image/png": "[encoded data removed]",
      "text/plain": [
       "<Figure size 432x288 with 1 Axes>"
      ]
     },
     "metadata": {
      "needs_background": "light"
     },
     "output_type": "display_data"
    }
   ],
   "source": [
    "import numpy as np\n",
    "import matplotlib.pyplot as plt\n",
    "x = np.arange(20)\n",
    "y = np.arange(10)\n",
    "plt.plot(y, 'or--')\n",
    "plt.show()\n"
   ]
  },
  {
   "cell_type": "markdown",
   "metadata": {},
   "source": [
    "#### Example 2. 직선 그래프(red round marker  and dashed line)"
   ]
  },
  {
   "cell_type": "code",
   "execution_count": 46,
   "metadata": {},
   "outputs": [
    {
     "data": {
      "image/png": "[encoded data removed]",
      "text/plain": [
       "<Figure size 432x288 with 1 Axes>"
      ]
     },
     "metadata": {
      "needs_background": "light"
     },
     "output_type": "display_data"
    }
   ],
   "source": [
    "y = np.arange(1, 20, 2)\n",
    "plt.plot(y, 'bs:')\n",
    "plt.show()"
   ]
  },
  {
   "cell_type": "markdown",
   "metadata": {},
   "source": [
    "#### Example 3. Plot with named arguments (options)\n",
    "\n",
    "```\n",
    "plt.plot(y, color='magenta', marker='s', linestyle='dashed', linewidth=2, markersize=12)\n",
    "```"
   ]
  },
  {
   "cell_type": "code",
   "execution_count": 47,
   "metadata": {},
   "outputs": [
    {
     "data": {
      "image/png": "[encoded data removed]",
      "text/plain": [
       "<Figure size 432x288 with 1 Axes>"
      ]
     },
     "metadata": {
      "needs_background": "light"
     },
     "output_type": "display_data"
    }
   ],
   "source": [
    "y = np.arange(10)\n",
    "plt.plot(y, 'mo:', linewidth=2, markersize=12)\n",
    "plt.show()"
   ]
  },
  {
   "cell_type": "markdown",
   "metadata": {},
   "source": [
    "#### Example 4. 산점도(Scatter plot) 그리기\n",
    "\n",
    "자주 사용하는 또 하나의 그래프는 산점도(scatter plot)입니다. 산점도는 데이터의 x축, y축값을 이용하여 점으로 그래프를 그린 것입니다. \n",
    "\n",
    "- Use `marker = '^'` and `color='g'`"
   ]
  },
  {
   "cell_type": "code",
   "execution_count": 48,
   "metadata": {},
   "outputs": [
    {
     "data": {
      "text/plain": [
       "<matplotlib.collections.PathCollection at 0x7fae5e566f40>"
      ]
     },
     "execution_count": 48,
     "metadata": {},
     "output_type": "execute_result"
    },
    {
     "data": {
      "image/png": "[encoded data removed]",
      "text/plain": [
       "<Figure size 432x288 with 1 Axes>"
      ]
     },
     "metadata": {
      "needs_background": "light"
     },
     "output_type": "display_data"
    }
   ],
   "source": [
    "x = np.arange(10)\n",
    "y = np.arange(1, 20, 2)\n",
    "plt.scatter(x, y, marker='o', color='g')"
   ]
  },
  {
   "cell_type": "markdown",
   "metadata": {},
   "source": [
    "#### Example 5. 넘파이 배열 산점도 그리기\n",
    "\n",
    "- Use `np.random.randn(n)`  \n",
    "- Use `marker = v` and `color = red`. "
   ]
  },
  {
   "cell_type": "code",
   "execution_count": 52,
   "metadata": {},
   "outputs": [
    {
     "data": {
      "text/plain": [
       "<matplotlib.collections.PathCollection at 0x7fae613803d0>"
      ]
     },
     "execution_count": 52,
     "metadata": {},
     "output_type": "execute_result"
    },
    {
     "data": {
      "image/png": "[encoded data removed]",
      "text/plain": [
       "<Figure size 432x288 with 1 Axes>"
      ]
     },
     "metadata": {
      "needs_background": "light"
     },
     "output_type": "display_data"
    }
   ],
   "source": [
    "x = np.random.randn(500)\n",
    "y = np.random.randn(500)\n",
    "plt.scatter(x, y, marker='.', color='g')"
   ]
  },
  {
   "cell_type": "markdown",
   "metadata": {},
   "source": [
    "## Exercise\n",
    "\n",
    "\n",
    "#### 1. Plot `y = sin(x) ` where -pi < x < pi.\n",
    "\n",
    "- `x` 좌표의 배열을 `np.pi` 와 `np.linspace()`를 사용하여 발생하십시오.  \n",
    "- 각 x 좌표에 대한 `np.sin()` 함수의 y 좌표 값을 구하십시오.  \n",
    "- 그러면, 주어진 x, y 값으로 sine curve를 그려냅니다. "
   ]
  },
  {
   "cell_type": "code",
   "execution_count": null,
   "metadata": {},
   "outputs": [],
   "source": [
    "import numpy as np\n",
    "import matplotlib.pyplot as plt\n",
    "\n",
    "x = None\n",
    "y = np.sin(x)\n",
    "plt.plot(x, y)"
   ]
  },
  {
   "cell_type": "markdown",
   "metadata": {},
   "source": [
    "#### 2. Plot a graph y = log(x) where -1 < x < 3, log is a natural log.\n",
    "\n",
    "- `y = np.log(x)`함수의 그래프($-1 < x < 3 $)를 그려서, `np.log(0)`가 negative infinity에 수렴하고 있는 것을 관찰하십시오."
   ]
  },
  {
   "cell_type": "code",
   "execution_count": null,
   "metadata": {},
   "outputs": [],
   "source": [
    "x = None\n",
    "y = None\n",
    "plt.grid(True)\n",
    "plt.plot(x, y)"
   ]
  },
  {
   "cell_type": "markdown",
   "metadata": {},
   "source": [
    "#### 3. Plot a graph $ y = e^x $ where -5.0 < x < 2. \n",
    "\n",
    "`y = np.exp(x)`함수의 그래프를 그려서, `np.exp()`의 x가 negative로 커질 때의 수렴하는 값을 관찰하십시오. "
   ]
  },
  {
   "cell_type": "code",
   "execution_count": null,
   "metadata": {},
   "outputs": [],
   "source": [
    "x = None\n",
    "y = None\n",
    "plt.grid(True)\n",
    "plt.plot(x, y)"
   ]
  },
  {
   "cell_type": "markdown",
   "metadata": {},
   "source": [
    "## 학습 정리\n",
    "\n",
    "1. 넘파이의 특징\n",
    "2. 왜 넘파이인가? \n",
    "3. 배열의 속성\n",
    "4. 배열의 생성과 출력"
   ]
  },
  {
   "cell_type": "markdown",
   "metadata": {},
   "source": [
    "### 참고자료\n",
    "- CS231n Convolutional Neural Networks for Visual Recognition, [Python Numpy Tutorial](http://cs231n.github.io/python-numpy-tutorial/), Stanford University\n",
    "- [Python For Data Science Cheat Sheet NumPy Basics](https://s3.amazonaws.com/assets.datacamp.com/blog_assets/Numpy_Python_Cheat_Sheet.pdf), DataCamp\n",
    "- [astroML](http://www.astroml.org/book_figures/appendix/fig_broadcast_visual.html) \n",
    "- Python Numpy Tutorial - http://cs231n.github.io/\n",
    "- 김태완 블로그: [파이썬 데이터 사이언스 Cheat Sheet](http://taewan.kim/post/numpy_cheat_sheet/)"
   ]
  }
 ],
 "metadata": {
  "kernelspec": {
   "display_name": "Python 3",
   "language": "python",
   "name": "python3"
  },
  "language_info": {
   "codemirror_mode": {
    "name": "ipython",
    "version": 3
   },
   "file_extension": ".py",
   "mimetype": "text/x-python",
   "name": "python",
   "nbconvert_exporter": "python",
   "pygments_lexer": "ipython3",
   "version": "3.8.3"
  }
 },
 "nbformat": 4,
 "nbformat_minor": 2
}
