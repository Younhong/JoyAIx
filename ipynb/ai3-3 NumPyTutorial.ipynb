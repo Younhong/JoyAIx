{
 "cells": [
  {
   "cell_type": "markdown",
   "metadata": {},
   "source": [
    "The fear of the LORD is the beginning of knowledge, but fools despise wisdom and discipline. Proverbs 1:7\n",
    "\n",
    "-------\n",
    "\n",
    "# Welcome to \"AI for All\"\n",
    "\n",
    "Lecture Notes by idebtor@gmail.com, Handong Global University"
   ]
  },
  {
   "cell_type": "markdown",
   "metadata": {},
   "source": [
    "# Chapter 3. 넘파이$^{NumPy}$ 튜토리얼(3/3)\n",
    "\n",
    "## 학습 목표\n",
    "    - 기계학습에서 왜 넘파이를 사용하는지 이해한다\n",
    "    - 넘파이 개념과 기본적인 사용법을 익힌다.\n",
    "\n",
    "## 학습 내용\n",
    "\n",
    "1. 브로드캐스팅\n",
    "2. 배열의 Axes(축) 다루기\n",
    "3. 난수의 배열 생성\n",
    "4. 자료의 읽기와 쓰기\n"
   ]
  },
  {
   "cell_type": "markdown",
   "metadata": {},
   "source": [
    "## 1. 브로드캐스팅$^{broadcasting}$\n",
    "브로드캐스팅이라는 말을 들으면 우리는 금방 \"방송\"이란 뜻이 생각이 납니다. 그런데, '방송'외에 '널리 전하다, 퍼뜨리다'의 뜻도 있습니다. 아마도 방송이 발명되기 전에는 이런 의미가 더 강했을 것 같습니다. \n",
    "\n",
    "일반적으로 서로 형상이 다른 배열끼리는 연산이 가능하지 않습니다. 다음 셀을 실행하면, ValueError가 나오면서 broadcast할 수 없다는 에러 메세지가 나옵니다. "
   ]
  },
  {
   "cell_type": "code",
   "execution_count": 1,
   "metadata": {},
   "outputs": [],
   "source": [
    "import numpy as np\n",
    "\n",
    "a = np.array([1,2,3])\n",
    "b = np.array([1,2])"
   ]
  },
  {
   "cell_type": "markdown",
   "metadata": {},
   "source": [
    "그런데, 어떤 조건이 맞을 경우에는 형상이 서로 다른 배열 간에도 산술 연산이 가능하게 하니다. 이를 브로드캐스팅이라고 합니다. 종종 작은 배열과 큰 배열이 있을 때, 큰 배열을 대상으로 작은 배열을 여러 번 연산하고자 할 때 사용합니다. 간단한 예는 배열의 각 행에 상수 벡터를 더하는 경우입니다. \n",
    "\n",
    "예를 들며, A행렬에 B벡터를 A행렬의 모든 행마다 더하기를 원할 때입니다. \n",
    "\n",
    "$ A = \\begin{pmatrix} 1 & 2 & 3\\cr 4 & 5 & 6 \\cr 7 & 8 & 9 \\cr 10 & 11 & 12 \\end{pmatrix}, \\quad\n",
    "B = \\begin{pmatrix} 1 & 0 & 1 \\end{pmatrix} $"
   ]
  },
  {
   "cell_type": "markdown",
   "metadata": {},
   "source": [
    "여기서 \n",
    "\n",
    "$ A + B $\n",
    "\n",
    "하면, 브로드캐스팅으로 인하여 B가 확장이 되어 마치 A의 형상처럼 되어 연산을 합니다. \n",
    "\n",
    "$ A + B = \\begin{pmatrix} 1 & 2 & 3\\cr 4 & 5 & 6 \\cr 7 & 8 & 9 \\cr 10 & 11 & 12 \\end{pmatrix} + \n",
    "\\begin{pmatrix} 1 & 0 & 1 \\cr 1 & 0 & 1 \\cr 1 & 0 & 1 \\cr 1 & 0 & 1 \\end{pmatrix} $\n",
    "\n",
    "#### Example 1. 위의 배열들을 생성하고 연산을 실행합니다."
   ]
  },
  {
   "cell_type": "code",
   "execution_count": 2,
   "metadata": {},
   "outputs": [
    {
     "name": "stdout",
     "output_type": "stream",
     "text": [
      "[[ 2  2  4]\n",
      " [ 5  5  7]\n",
      " [ 8  8 10]\n",
      " [11 11 13]]\n"
     ]
    }
   ],
   "source": [
    "x = np.arange(1,13).reshape(4,3)\n",
    "y = np.array([1,0,1])\n",
    "print(x + y)"
   ]
  },
  {
   "cell_type": "markdown",
   "metadata": {},
   "source": [
    "#### Example 2: 다음 그림과 같이 넘파이의 브로드캐스딩으로 연산을 실행하십시오.  \n",
    "\n",
    "넘파이 배열 `[0, 1, 2]`에 스칼라 5를 합한 결과가 `[5, 6, 7]`이 됩니다. 브로드캐스팅으로 5가 0이외에 1과 2의 원소 부분에도 전파(broadcast)되어 계산되어 간단하게 합산이 이루어집니다.\n",
    "\n",
    "\\begin{align}\n",
    "  A = \\begin{pmatrix} 0 & 1 & 2 \\end{pmatrix} + \\begin{pmatrix} 5 \\end{pmatrix} \n",
    "    = \\begin{pmatrix} 5 & 6 & 7 \\end{pmatrix} \n",
    "\\end{align}\n",
    "\n",
    "<center>shape(3,) + shape(1,) = shape(3,)</center>\n",
    "    \n",
    "<img src=\"https://github.com/idebtor/KMOOC-ML/blob/master/ipynb/images/numpy-broadcast1.png?raw=true\" width=\"500\">\n",
    "<center>그림 2: 브로드캐스팅 예제 2</center>\n",
    "\n",
    "#### Solution:"
   ]
  },
  {
   "cell_type": "code",
   "execution_count": 3,
   "metadata": {},
   "outputs": [
    {
     "name": "stdout",
     "output_type": "stream",
     "text": [
      "[5 6 7]\n"
     ]
    }
   ],
   "source": [
    "x = np.arange(3) + 5\n",
    "print(x)"
   ]
  },
  {
   "cell_type": "markdown",
   "metadata": {},
   "source": [
    "#### Example 3. 다음 그림과 같이 넘파이의 브로드캐스딩으로 연산이 가능하도록 코딩을 하십시오. \n",
    "\n",
    "배열 간의 계산으로 배열의 차원이 확대된 경우인데, 3x3 배열에 1x3 배열을 합산한 경우입니다. 각 행에 동일한 계산을 전파한 것을 볼 수 있습니다.\n",
    "\n",
    "\\begin{align}\n",
    "A = \\begin{pmatrix} 1 & 1 & 1 \\cr  1 & 1 & 1 \\cr  1 & 1 & 1  \\end{pmatrix} \n",
    "  + \\begin{pmatrix} 0 & 1 & 2 \\end{pmatrix} \n",
    "  = \\begin{pmatrix} 1 & 2 & 3 \\cr 1 & 2 & 3 \\cr 1 & 2 & 3 \\end{pmatrix} \n",
    "\\end{align}\n",
    "<center> shape(3, 3) + shape(3,) = shape(3, 3) </center>\n",
    "    "
   ]
  },
  {
   "cell_type": "markdown",
   "metadata": {},
   "source": [
    "<img src=\"https://github.com/idebtor/KMOOC-ML/blob/master/ipynb/images/numpy-broadcast2.png?raw=true\" width=\"500\">\n",
    "<center>그림 3: 브로드캐스팅 예제 3</center>\n",
    "\n",
    "#### Solution:"
   ]
  },
  {
   "cell_type": "code",
   "execution_count": 5,
   "metadata": {},
   "outputs": [
    {
     "name": "stdout",
     "output_type": "stream",
     "text": [
      "[[1. 2. 3.]\n",
      " [1. 2. 3.]\n",
      " [1. 2. 3.]]\n"
     ]
    }
   ],
   "source": [
    "x = np.ones((3,3)) + np.arange(3)\n",
    "print(x)"
   ]
  },
  {
   "cell_type": "markdown",
   "metadata": {},
   "source": [
    "#### Example 4. \n",
    "\n",
    "다음 그림과 같이 넘파이의 브로드캐스딩으로 연산이 가능하도록 코딩을 하십시오. \n",
    "\n",
    "이 마지막 예제는 브로드캐스팅의 확장성 측면을 극명하게 보여주는 경우입니다. 3x1 배열과 1x3 배열의 합을 했는데 두 번째에서는 한쪽의 더 낮은 차원의 배열에서만 아래(0번 축) 방향으로 broadcast한 것에 반해 양 쪽 배열에서 broadcast한 것을 확인할 수 있습니다.\n",
    "\n",
    "\\begin{align}\n",
    "A = \\begin{pmatrix} 0 \\cr 1 \\cr 2 \\end{pmatrix} + \\begin{pmatrix} 0 & 1 & 2 \\end{pmatrix} \n",
    "    = \\begin{pmatrix} 0 & 1 & 2 \\cr 1 & 2 & 3 \\cr 2 & 3 & 4 \\end{pmatrix} \n",
    "\\end{align}\n",
    "<center>shape(3, 1) + shape(1, 3) = shape(3, 3)</center>"
   ]
  },
  {
   "cell_type": "markdown",
   "metadata": {},
   "source": [
    "<img src=\"https://github.com/idebtor/KMOOC-ML/blob/master/ipynb/images/numpy-broadcast3.png?raw=true\" width=\"500\">\n",
    "<center>그림 4: 브로드캐스팅 예제 4</center>\n",
    "\n",
    "#### Solution"
   ]
  },
  {
   "cell_type": "code",
   "execution_count": 6,
   "metadata": {},
   "outputs": [
    {
     "name": "stdout",
     "output_type": "stream",
     "text": [
      "[[0 1 2]\n",
      " [1 2 3]\n",
      " [2 3 4]]\n"
     ]
    }
   ],
   "source": [
    "x = np.arange(3).reshape(3,1) + np.arange(3)\n",
    "print(x)"
   ]
  },
  {
   "cell_type": "markdown",
   "metadata": {},
   "source": [
    "지금까지 예제를 통해 보로드캐스팅을 할 수 있는 있었던 조건을 살펴보면, \n",
    "- 배열 연산에서 항상 1차원 배열이 포함되어 있어야 합니다. \n",
    "- 행/열의 어떤 축이든(0축이든지 혹은 1축이든지) 차원의 길이가 같아야 합니다. 예제의 경우(3x3 + 1x3,  3x1 + 1x3)와 같이 말입니다. "
   ]
  },
  {
   "cell_type": "markdown",
   "metadata": {},
   "source": [
    "#### Example 5.  다음 그림과 같이 브로드캐스딩으로 연산이 가능하도록 코딩을 하십시오. \n",
    "\n",
    "3차원 배열의 0번 축으로 브로드캐스팅 된 예시입니다. (4,2,3)형상의 3차원 배열과 (4,2)형상의 2차원 배열이 있습니다. 위에서 말한 조건처럼 차원의 짝이 맞아야 브로드캐스팅이 수행될 수 있습니다. 2차원 배열의 형상(4,2)가 3차원 배열의 형상(4,2)와 짝이 맞기 때문에 누락된 부분인 3만큼의 차원 확장(broadcasting)이 되고 합산이 일어납니다. 0번 축으로 브로드캐스팅이 된 것입니다.\n",
    "\n",
    "브로드캐스팅은 저차원의 배열을 연산을 위해서 고차원 배열로 확장시키는 것과 같습니다."
   ]
  },
  {
   "cell_type": "markdown",
   "metadata": {},
   "source": [
    "<img src=\"https://github.com/idebtor/KMOOC-ML/blob/master/ipynb/images/numpy-broadcast4.png?raw=true\" width=\"500\">\n",
    "<center>그림 5: 브로드캐스팅 예제 5</center>\n",
    "<center>출처: Python 기초:http://sacko.tistory.com/</center>\n",
    "\n",
    "#### Solution:"
   ]
  },
  {
   "cell_type": "code",
   "execution_count": 7,
   "metadata": {},
   "outputs": [
    {
     "name": "stdout",
     "output_type": "stream",
     "text": [
      "[[[ 0  2  4]\n",
      "  [ 6  8 10]]\n",
      "\n",
      " [[ 6  8 10]\n",
      "  [12 14 16]]\n",
      "\n",
      " [[12 14 16]\n",
      "  [18 20 22]]\n",
      "\n",
      " [[18 20 22]\n",
      "  [24 26 28]]]\n"
     ]
    }
   ],
   "source": [
    "x = np.arange(24).reshape(4,2,3) + np.arange(6).reshape(2,3)\n",
    "print(x)"
   ]
  },
  {
   "cell_type": "markdown",
   "metadata": {},
   "source": [
    "## 2. 배열의 축(Axis) 다루기\n",
    "\n",
    "기계학습에서 자료를 다루다보면, Numpy 배열의 축(Axis)를 필수적으로 이해해야 할 필요가 종종 생깁니다. \n",
    "\n",
    "예를 들면, 다음 그림과 같은 3차원 배열은 어떻게 만들수 있을까요? 또한 axis = 0에 대한 np.sum()는 어떤 값을 반환할까 하는 문제입니다. 배열의 axis를 확실히 이해하지 않으면, 참 까다로운 문제입니다. \n",
    "\n",
    "<img src=\"https://github.com/idebtor/KMOOC-ML/blob/master/ipynb/images/ndarray.png?raw=true\" width=\"600\">\n",
    "<center>그림 6: 넘파이 1차원, 2차원 및 3차원 배열과 Axis</center>"
   ]
  },
  {
   "cell_type": "markdown",
   "metadata": {},
   "source": [
    "### 2차원 배열의 경우\n",
    "\n",
    "자, 그러면 이 문제를 정확하게 이해하기 위하여 np.sum() 함수를 이용하여 2차원의 예제부터 살펴보도록 하겠습니다. "
   ]
  },
  {
   "cell_type": "code",
   "execution_count": 8,
   "metadata": {},
   "outputs": [
    {
     "name": "stdout",
     "output_type": "stream",
     "text": [
      "[[0 1 2]\n",
      " [3 4 5]]\n"
     ]
    }
   ],
   "source": [
    "a = np.arange(6).reshape(2,3)\n",
    "print(a)"
   ]
  },
  {
   "cell_type": "markdown",
   "metadata": {},
   "source": [
    "#### Example 1. 배열 a의 모든 원소의 합을 구하십시오. "
   ]
  },
  {
   "cell_type": "code",
   "execution_count": 9,
   "metadata": {},
   "outputs": [
    {
     "name": "stdout",
     "output_type": "stream",
     "text": [
      "15\n"
     ]
    }
   ],
   "source": [
    "x = np.sum(a) \n",
    "print(x)"
   ]
  },
  {
   "cell_type": "markdown",
   "metadata": {},
   "source": [
    "#### Example 2. 배열 a에서 각 축의 합을 구하십시오. \n",
    "\n",
    "배열의 두 축 즉 axis=0 혹은 axis=1을 지정하면 각 축에 대한 합을 구할 수 있습니다. 그런데, 그 축의 합은 어느 값들의 합일까하는 문제입니다. 다음과 같이 실행했을 때, 출력은 무엇인가요? \n",
    "\n",
    "```\n",
    "[[0 1 2]\n",
    " [3 4 5]]\n",
    "```\n",
    "\n",
    "`np.sum(a, axis=0)`   \n",
    "`np.sum(a, axis=1)`\n",
    "\n",
    "제가 답을 말하기 전에 여러분이 먼저 답을 생각해보면 좋겠습니다. 먼저 형상은 무엇인지, 원소의 값은 무엇인지 생각해보십시오. "
   ]
  },
  {
   "cell_type": "code",
   "execution_count": 10,
   "metadata": {},
   "outputs": [
    {
     "name": "stdout",
     "output_type": "stream",
     "text": [
      "[[0 1 2]\n",
      " [3 4 5]]\n",
      "sum(axis = 0): [3 5 7]\n"
     ]
    }
   ],
   "source": [
    "print(a)\n",
    "print('sum(axis = 0):', np.sum(a, axis=0))"
   ]
  },
  {
   "cell_type": "markdown",
   "metadata": {},
   "source": [
    "여러분이 생각한 것과 같은가요?\n",
    "- aixs = 0 즉 행을 기준으로 각 행의 동일 인덱스의 원소를 그룹으로 합니다\n",
    "- aixs = 1 즉 열을 기준으로 각 열의 동일 인덱스의 원소를 그룹으로 합니다\n",
    "axis = 0를 기준으로 각 행의 인덱스가 각각 0, 1, 2 원소들끼리 합한 것이 정답입니다. 그러므로, 배열의 형상은 (3,)입니다. "
   ]
  },
  {
   "cell_type": "markdown",
   "metadata": {},
   "source": [
    "#### 한 번 연습을 해볼까요? 다음과 같이 실행했을 때, 형상과 원소의 값을 무엇인가요?\n",
    "```\n",
    "[[0 1 2]\n",
    " [3 4 5]]\n",
    "```\n",
    "`np.max(a, axis=1)`\n",
    "\n",
    "제가 답을 말하기 전에 여러분이 먼저 답을 생각해보면 좋겠습니다."
   ]
  },
  {
   "cell_type": "code",
   "execution_count": 11,
   "metadata": {},
   "outputs": [
    {
     "name": "stdout",
     "output_type": "stream",
     "text": [
      "[[0 1 2]\n",
      " [3 4 5]]\n",
      "max(axis = 1): [2 5]\n"
     ]
    }
   ],
   "source": [
    "print(a)\n",
    "print('max(axis = 1):', np.max(a, axis=1))"
   ]
  },
  {
   "cell_type": "markdown",
   "metadata": {},
   "source": [
    "배열에서 axis=1 즉 3개의 열들 중에서 인덱스가 같은 원소들끼리 비교하여 최대값을 구한 것입니다. 3개 중에 하나를 선택하는 것을 두 번해야 합니다. "
   ]
  },
  {
   "cell_type": "markdown",
   "metadata": {},
   "source": [
    "### 3차원 배열의 경우\n",
    "\n",
    "#### Example 1. 다음 그림과 같은 3차원 배열을 생성하십시오. \n",
    "\n",
    "2차원 배열은 1차원 배열(벡터)를 두 개 이상을 모아 둔 것이며, 3차원 배열은 2차원 배열을 두 개 이상 모아둔 것\n",
    "3차원 배열은 2차원의 배열을 두 개 이상 존재하는 것입니다.  다음과 같은 (4 x 2)배열을 넘파이로 어떻게 생성할 수 있을까요?"
   ]
  },
  {
   "cell_type": "markdown",
   "metadata": {},
   "source": [
    "<img src=\"https://github.com/idebtor/KMOOC-ML/blob/master/ipynb/images/numpy3d.png?raw=true\" width=\"300\">\n",
    "<center>그림 6: 넘파이 2차원, 3차원 배열</center>\n",
    "\n",
    "#### Solution:\n",
    "\n",
    "3차원은 배열은 그림에 보는 바와 같이 2차원의 배열을 세 번 반복하는 것을 관찰할 수 있습니다. 3차원 배열은 (4, 2) 2차원 배열을 3개를 모은 것입니다."
   ]
  },
  {
   "cell_type": "code",
   "execution_count": 12,
   "metadata": {},
   "outputs": [
    {
     "name": "stdout",
     "output_type": "stream",
     "text": [
      "(3, 4, 2)\n"
     ]
    }
   ],
   "source": [
    "a = np.arange(24).reshape(3,4,2)\n",
    "print(a.shape)"
   ]
  },
  {
   "cell_type": "markdown",
   "metadata": {},
   "source": [
    "#### Example 2. np.sum(a, axis = 0)은 어떤 형상이며, 값은 무엇일까요?\n",
    "Hint: 결과값의 첫번째 원소의 값은 24, 마지막 원소의 값은 45입니다. "
   ]
  },
  {
   "cell_type": "code",
   "execution_count": 13,
   "metadata": {},
   "outputs": [
    {
     "name": "stdout",
     "output_type": "stream",
     "text": [
      "(4, 2)\n",
      "[[24 27]\n",
      " [30 33]\n",
      " [36 39]\n",
      " [42 45]]\n"
     ]
    }
   ],
   "source": [
    "x = np.sum(a, axis=0)\n",
    "print(x.shape)\n",
    "print(x)"
   ]
  },
  {
   "cell_type": "markdown",
   "metadata": {},
   "source": [
    "축 axis = 0과 같은 방향으로 시선을 향하면 됩니다. 그러면, 형상은 당연히 (4, 2)가 보일 것입니다. 그리고 같은 위치에 있는 원소들을 합하면 됩니다. 예를 들면, (0, 4, 1), (1, 4, 1), (2, 4, 1) 위치의 원소를 다 합하면 45가 되는 것을 알 수 있습니다. \n",
    "\n",
    "<img src=\"https://github.com/idebtor/KMOOC-ML/blob/master/ipynb/images/numpy3d-axis0.png?raw=true\" width=\"200\">\n",
    "<center>그림 6: 3차원 배열의 축(axis = 0)</center>"
   ]
  },
  {
   "cell_type": "markdown",
   "metadata": {},
   "source": [
    "#### Example 3. np.min(a, axis = 1)은 어떤 형상이며, 값은 무엇일까요?\n",
    "Hint: 결과값의 첫번째 원소의 값은 0, 마지막 원소의 값은 17입니다.\n",
    "\n",
    "<img src=\"https://github.com/idebtor/KMOOC-ML/blob/master/ipynb/images/numpy3d-axis1.png?raw=true\" width=\"200\">\n",
    "<center>그림 6: 3차원 배열의 축(axis = 1)</center>\n",
    "\n",
    "축 axis = 1과 같은 방향으로 시선을 향하면 됩니다. 그러면, 형상은 당연히 (3, 2)가 보일 것입니다. 그 위치에 있는 원소들 중에 작은 값을 택하면 됩니다. 이런 경우, 모두 가장 위에 있는 값들이 가장 작은 것을 알 수 있습니다.  \n"
   ]
  },
  {
   "cell_type": "code",
   "execution_count": 14,
   "metadata": {},
   "outputs": [
    {
     "name": "stdout",
     "output_type": "stream",
     "text": [
      "(3, 2)\n",
      "[[ 0  1]\n",
      " [ 8  9]\n",
      " [16 17]]\n"
     ]
    }
   ],
   "source": [
    "x = np.min(a, axis = 1)\n",
    "print(x.shape)\n",
    "print(x)"
   ]
  },
  {
   "cell_type": "markdown",
   "metadata": {},
   "source": [
    "#### Example 4. np.max(a, axis = 2)은 어떤 형상이며, 값은 무엇일까요?\n",
    "\n",
    "<img src=\"https://github.com/idebtor/KMOOC-ML/blob/master/ipynb/images/numpy3d-axis2.png?raw=true\" width=\"200\">\n",
    "<center>그림 6: 3차원 배열의 축(axis = 2)</center>\n"
   ]
  },
  {
   "cell_type": "markdown",
   "metadata": {},
   "source": [
    "축 axis = 2의 방향으로 시선을 향하면 됩니다. 그러면, 형상은 (3, 4)가 보일 것입니다. 그 위치에 있는 원소들 중에 큰 값을 택하면 됩니다. 이런 경우, 시선에 가장 멀리 있는 원소들 (앞에서 볼 때, 가장 오른쪽) 가장 큰 값인 것을 알 수 있습니다. "
   ]
  },
  {
   "cell_type": "code",
   "execution_count": 15,
   "metadata": {},
   "outputs": [
    {
     "name": "stdout",
     "output_type": "stream",
     "text": [
      "(3, 4)\n",
      "[[ 1  3  5  7]\n",
      " [ 9 11 13 15]\n",
      " [17 19 21 23]]\n"
     ]
    }
   ],
   "source": [
    "x = np.max(a, axis = 2)\n",
    "print(x.shape)\n",
    "print(x)"
   ]
  },
  {
   "cell_type": "markdown",
   "metadata": {},
   "source": [
    "2차원 배열을 건물의 `[floor][room]`이라고 생각해보십시오. (참고로, 이미지(영상,화면)에서 x, y좌표는 좌측상단 코너가 원점(0,0)이며, x는 오른쪽으로, y는 아래쪽으로 양의 방향입니다) 이런 이미지 좌표 체계를 이해하면, 2차원일 경우는 서로 일치가 되니까 쉽게 이해할 수 있습니다.\n",
    "\n",
    "그런데, 3차원일 경우는 직접 비유하기가 좀 어렵네요. \n",
    "\n",
    "한 방법은 axis=2에서 바라보는 것처럼, axis=2를 배열 형상(3, 4, 2)에서 제외하면 배열 형상은 (3, 4)가 남게된다고 생각할 수 있습니다. 이런 것을 다차원으로 일반화 할 수는 없겠지만, 3차원에서는 가능할 것입니다. "
   ]
  },
  {
   "cell_type": "markdown",
   "metadata": {},
   "source": [
    "## 3. 2차원 배열을 이미지로 다루기\n",
    "\n",
    "다음과 같은 간단한 코드로 256개의 원소(0 ~ 255)를 가진 2차원 배열(16, 16)을 만들어 시각화한 것입니다. \n",
    "\n",
    "```\n",
    "import matplotlib.pyplot as plt\n",
    "image = np.arange(256).reshape(16, 16)\n",
    "plt.imshow(image, cmap=\"gray\")\n",
    "```\n",
    "\n",
    "<img src=\"https://github.com/idebtor/KMOOC-ML/blob/master/ipynb/images/16x16image.png?raw=true\" width=\"256\">\n",
    "\n",
    "<center>그림 7: 2차원 배열의 시각화</center>"
   ]
  },
  {
   "cell_type": "code",
   "execution_count": 18,
   "metadata": {
    "scrolled": true
   },
   "outputs": [
    {
     "data": {
      "text/plain": [
       "<matplotlib.image.AxesImage at 0x7f914cc02a30>"
      ]
     },
     "execution_count": 18,
     "metadata": {},
     "output_type": "execute_result"
    },
    {
     "data": {
      "image/png": "[encoded data removed]",
      "text/plain": [
       "<Figure size 432x288 with 1 Axes>"
      ]
     },
     "metadata": {
      "needs_background": "light"
     },
     "output_type": "display_data"
    }
   ],
   "source": [
    "import matplotlib.pyplot as plt\n",
    "image = np.arange(256).reshape(16,16)\n",
    "plt.imshow(image, cmap=\"gray\")"
   ]
  },
  {
   "cell_type": "markdown",
   "metadata": {},
   "source": [
    "#### Example 1. 주어진 이미지(16, 16)에서 위쪽 두 행과 아래 쪽 두 행(row)를 출력하십시오. \n",
    "```\n",
    "[[ 0  1  2  3  4  5  6  7  8  9 10 11 12 13 14 15]\n",
    " [16 17 18 19 20 21 22 23 24 25 26 27 28 29 30 31]]\n",
    "[[224 225 226 227 228 229 230 231 232 233 234 235 236 237 238 239]\n",
    " [240 241 242 243 244 245 246 247 248 249 250 251 252 253 254 255]]\n",
    "```"
   ]
  },
  {
   "cell_type": "code",
   "execution_count": 19,
   "metadata": {
    "scrolled": true
   },
   "outputs": [
    {
     "name": "stdout",
     "output_type": "stream",
     "text": [
      "[[ 0  1  2  3  4  5  6  7  8  9 10 11 12 13 14 15]\n",
      " [16 17 18 19 20 21 22 23 24 25 26 27 28 29 30 31]]\n",
      "[[224 225 226 227 228 229 230 231 232 233 234 235 236 237 238 239]\n",
      " [240 241 242 243 244 245 246 247 248 249 250 251 252 253 254 255]]\n"
     ]
    }
   ],
   "source": [
    "print(image[:2])\n",
    "print(image[-2:])"
   ]
  },
  {
   "cell_type": "markdown",
   "metadata": {},
   "source": [
    "#### Example 2. 주어진 이미지(16, 16)에서 왼쪽 위의 (4, 4)와 오른쪽 아래의 (4, 4) 부분 이미지를 추출하고 이미지로 출력하십시오.  \n",
    "        ```\n",
    "                        [[ 0  1  2  3]           [[204 205 206 207]\n",
    "                         [16 17 18 19]            [220 221 222 223]\n",
    "                         [32 33 34 35]            [236 237 238 239]\n",
    "                         [48 49 50 51]]           [252 253 254 255]]\n",
    "        ```\n",
    "\n",
    "<img src=\"https://github.com/idebtor/KMOOC-ML/blob/master/ipynb/images/numpy-image1.png?raw=true\" width=\"400\">\n",
    "\n",
    "<center>그림 8: 2차원 배열의 추출과 시각화 </center>\n",
    "\n",
    "#### Solution:"
   ]
  },
  {
   "cell_type": "code",
   "execution_count": 27,
   "metadata": {},
   "outputs": [
    {
     "name": "stdout",
     "output_type": "stream",
     "text": [
      "[[ 0  1  2  3]\n",
      " [16 17 18 19]\n",
      " [32 33 34 35]\n",
      " [48 49 50 51]]\n",
      "[[204 205 206 207]\n",
      " [220 221 222 223]\n",
      " [236 237 238 239]\n",
      " [252 253 254 255]]\n"
     ]
    },
    {
     "data": {
      "image/png": "[encoded data removed]",
      "text/plain": [
       "<Figure size 432x288 with 2 Axes>"
      ]
     },
     "metadata": {
      "needs_background": "light"
     },
     "output_type": "display_data"
    }
   ],
   "source": [
    "a = image[:4,:4]\n",
    "b = image[-4:, -4:]\n",
    "print(a)\n",
    "print(b)\n",
    "# display images\n",
    "fig, ax = plt.subplots(1,2)\n",
    "ax[0].imshow(a, cmap=\"gray\");\n",
    "ax[1].imshow(b, cmap=\"gray\");\n",
    "plt.show()"
   ]
  },
  {
   "cell_type": "markdown",
   "metadata": {},
   "source": [
    "#### Your data looks OK, but not the image display? \n",
    "- To show a better image, `imshow()` uses the automatic scaling of the colormap, or vmin=min(arr) and vmax=max(arr). \n",
    "- Turn off this automatic scaling of the colormap, set `vmin = 0` and `vmax = 255`."
   ]
  },
  {
   "cell_type": "code",
   "execution_count": 28,
   "metadata": {},
   "outputs": [
    {
     "data": {
      "image/png": "[encoded data removed]",
      "text/plain": [
       "<Figure size 432x288 with 2 Axes>"
      ]
     },
     "metadata": {
      "needs_background": "light"
     },
     "output_type": "display_data"
    }
   ],
   "source": [
    "# display images\n",
    "fig, ax = plt.subplots(1,2)\n",
    "ax[0].imshow(a, cmap=\"gray\", vmin=0, vmax=255);\n",
    "ax[1].imshow(b, cmap=\"gray\", vmin=0, vmax=255);\n",
    "plt.show()"
   ]
  },
  {
   "cell_type": "markdown",
   "metadata": {},
   "source": [
    "## 4. 난수의 배열 생성"
   ]
  },
  {
   "cell_type": "markdown",
   "metadata": {},
   "source": [
    "파이썬의 numpy.random 모듈에는 난수를 기반으로 난수를 발생하여 배열을 만드는 여러 함수를 제공합니다. 그 중에서 기계학습에서 종종 사용하는 세 개만 소개합니다. \n",
    "\n",
    "- `randint(low, high=None, size=None, dtype='l')`\n",
    "  low 부터 high 미만의 범위에서 정수 표본을 추출하여 지정된 shape으로 배열을 반환\n",
    "- `normal(loc=0.0, scale=1.0, size=None)` \n",
    "  정규 분포 확률 밀도에서 표본을 추출하여 배열로 반환하며, 정규 분포의 평균(loc), 표준편차(scale)을 지정할 수 있음.\n",
    "- `random(size=None)`\n",
    "  `[0., 1.)` 범위의 난수를 균등 분포(Uniform Distribution)에서 표본 추출하여 배열로 반환\n",
    "- `randn()` 표준 정규 분포로부터 샘플링된 난수를 반환, 평균 0, 표준편차 1임. "
   ]
  },
  {
   "cell_type": "code",
   "execution_count": 29,
   "metadata": {},
   "outputs": [
    {
     "name": "stdout",
     "output_type": "stream",
     "text": [
      "[[-4  4  0 -3]\n",
      " [ 0  3 -4  3]]\n"
     ]
    }
   ],
   "source": [
    "a = np.random.randint(-5, 5, size=(2, 4))\n",
    "print(a)"
   ]
  },
  {
   "cell_type": "code",
   "execution_count": 30,
   "metadata": {},
   "outputs": [
    {
     "name": "stdout",
     "output_type": "stream",
     "text": [
      "[[[ 0.13358693 -1.00048256 -0.78370987]\n",
      "  [ 2.13526095 -0.24170694 -0.14887612]\n",
      "  [-1.0896646  -2.13028318  0.58565416]]\n",
      "\n",
      " [[ 2.00710952  0.58228789  1.12604116]\n",
      "  [ 0.34574071 -0.25184969  0.58895554]\n",
      "  [-0.9041922   0.42011885 -0.67474016]]]\n"
     ]
    }
   ],
   "source": [
    "mean = 0\n",
    "std = 1\n",
    "a = np.random.normal(mean, std, size=(2, 3, 3))\n",
    "print(a)"
   ]
  },
  {
   "cell_type": "code",
   "execution_count": 31,
   "metadata": {},
   "outputs": [
    {
     "data": {
      "image/png": "[encoded data removed]",
      "text/plain": [
       "<Figure size 432x288 with 1 Axes>"
      ]
     },
     "metadata": {
      "needs_background": "light"
     },
     "output_type": "display_data"
    }
   ],
   "source": [
    "data = np.random.normal(0, 1, 10000)\n",
    "plt.hist(data, bins=100)\n",
    "plt.show()"
   ]
  },
  {
   "cell_type": "code",
   "execution_count": 32,
   "metadata": {
    "scrolled": true
   },
   "outputs": [
    {
     "name": "stdout",
     "output_type": "stream",
     "text": [
      "[[0.66137529 0.28628524 0.94540324 0.75019611]\n",
      " [0.38807032 0.75945228 0.13515288 0.67090938]]\n"
     ]
    },
    {
     "data": {
      "image/png": "[encoded data removed]",
      "text/plain": [
       "<Figure size 432x288 with 1 Axes>"
      ]
     },
     "metadata": {
      "needs_background": "light"
     },
     "output_type": "display_data"
    }
   ],
   "source": [
    "a = np.random.random((2, 4))\n",
    "print(a)\n",
    "data = np.random.random(10000)\n",
    "plt.hist(data, bins=100)\n",
    "plt.show()"
   ]
  },
  {
   "cell_type": "markdown",
   "metadata": {},
   "source": [
    "#### 난수 발생에 대한 노트\n",
    "기계학습에서 난수를 자주 사용합니다. 그런데, 주의할 점이 하나 있습니다. 난수를 발생하는 알고리즘은 특정한 시작 숫자로부터 무작위로 숫자를 만들어 냅니다. 따라서 시작점을 알면 난수 발생을 똑같이 반복할 수 있습니다. 이렇게 난수 발생을 재연하기 위해 난수의 시작점을 지정할 수 있는 함수가 있는데, 그것이 바로 np.random.seed 입니다.\n",
    "다음 예를 살펴봅시다. "
   ]
  },
  {
   "cell_type": "code",
   "execution_count": 34,
   "metadata": {},
   "outputs": [],
   "source": [
    "np.random.seed(100)"
   ]
  },
  {
   "cell_type": "code",
   "execution_count": 35,
   "metadata": {},
   "outputs": [
    {
     "data": {
      "text/plain": [
       "array([[0.54340494, 0.27836939],\n",
       "       [0.42451759, 0.84477613]])"
      ]
     },
     "execution_count": 35,
     "metadata": {},
     "output_type": "execute_result"
    }
   ],
   "source": [
    "np.random.random((2, 2))"
   ]
  },
  {
   "cell_type": "code",
   "execution_count": 36,
   "metadata": {},
   "outputs": [
    {
     "data": {
      "text/plain": [
       "array([[4, 2, 5],\n",
       "       [2, 2, 2]])"
      ]
     },
     "execution_count": 36,
     "metadata": {},
     "output_type": "execute_result"
    }
   ],
   "source": [
    "np.random.randint(0, 10, (2, 3))"
   ]
  },
  {
   "cell_type": "code",
   "execution_count": 37,
   "metadata": {},
   "outputs": [],
   "source": [
    "# 위의 seed값을 다시 설정하여, 아래에서 난수가 재연 가능하도록 함\n",
    "np.random.seed(100)  "
   ]
  },
  {
   "cell_type": "code",
   "execution_count": 38,
   "metadata": {},
   "outputs": [
    {
     "data": {
      "text/plain": [
       "array([[0.54340494, 0.27836939],\n",
       "       [0.42451759, 0.84477613]])"
      ]
     },
     "execution_count": 38,
     "metadata": {},
     "output_type": "execute_result"
    }
   ],
   "source": [
    "np.random.random((2, 2))"
   ]
  },
  {
   "cell_type": "code",
   "execution_count": 39,
   "metadata": {},
   "outputs": [
    {
     "data": {
      "text/plain": [
       "array([[4, 2, 5],\n",
       "       [2, 2, 2]])"
      ]
     },
     "execution_count": 39,
     "metadata": {},
     "output_type": "execute_result"
    }
   ],
   "source": [
    "np.random.randint(0, 10, (2, 3))"
   ]
  },
  {
   "cell_type": "markdown",
   "metadata": {},
   "source": [
    "기계학습에 특별히 개발할 때는 임의의 seed값을 정하여 난수를 발생할 것을 권장합니다. 왜냐하면, 만약에 디버깅할 경우에 버그가 발생한 상황을 재연할 수 있어야 하기 때문입니다. "
   ]
  },
  {
   "cell_type": "markdown",
   "metadata": {},
   "source": [
    "## 5. 자료 쓰기와 읽기 \n",
    "기계학습의 학습 자료 데이터 셋을 저장할 때 다양한 방식이 있을 수 있겠지만, 간단한 두 가지 방법 중에 중에 하나를 사용합니다. \n",
    "- 하나는 행 벡터 방식(디폴트)이고, 또 다른 하나는 열 벡터 방식입니다. 물론 그런 데이터를 읽고 적절히 가공하여 학습에 사용할 수 있어야 합니다. \n",
    "\n",
    "- 파일로 저장할 때 사용하는 명령어 `%%writefile` 셀매직(Cell Magic)명령어입니다. `%%`로 시작하는 셀매직 명령어는 항상 셀의 첫줄에 나와야 합니다. 특별히 `%%writefile` 명령어는 셀의 내용을 파일로 저장할 때, 만약 이미 해당 폴더에 같은 이름의 파일이 존재할지라도 아무런 경고없이 덮어쓰기를 하니까 유의해야 합니다. \n",
    "\n",
    "- 기계학습 자료를 파일에 저장하거나 읽는 함수 라이브러리로 pandas를 많이 사용하지만, 간단한 자료는 넘파이의 `loadtxt()`, `genfromtxt()`, `savetxt()` 함수도 자주 사용합니다. 는 것도 좋습니다.  \n",
    "\n",
    "\n",
    "#### loadtxt() - Load data from a text file.\n",
    "```\n",
    "numpy.loadtxt(fname, dtype=<class 'float'>, comments='#', delimiter=None, converters=None, skiprows=0, usecols=None, unpack=False, ndmin=0, encoding='bytes', max_rows=None)\n",
    "```\n",
    "\n",
    "#### genfromtxt() - Load data from a text file, with missing values handled as specified\n",
    "```\n",
    "numpy.genfromtxt(fname, dtype=<class 'float'>, comments='#', delimiter=None, skip_header=0, skip_footer=0, converters=None, missing_values=None, filling_values=None, usecols=None, names=None, excludelist=None, deletechars=\" !#$%&'()*+, -./:;<=>?@[\\]^{|}~\", replace_space='_', autostrip=False, case_sensitive=True, defaultfmt='f%i', unpack=None, usemask=False, loose=True, invalid_raise=True, max_rows=None, encoding='bytes')[source]¶\n",
    "```\n",
    "\n",
    "#### savetxt() - Save an array to a text file\n",
    "```\n",
    "numpy.savetxt(fname, X, fmt='%.18e', delimiter=' ', newline='n', header='', footer='', comments='# ', encoding=None)\n",
    "```"
   ]
  },
  {
   "cell_type": "markdown",
   "metadata": {},
   "source": [
    "### 자료 쓰기\n",
    "다음은 행$^{row}$ 벡터 방식으로 즉 보이는 형식 그대로 데이터를 저장합니다. "
   ]
  },
  {
   "cell_type": "code",
   "execution_count": 42,
   "metadata": {},
   "outputs": [
    {
     "name": "stdout",
     "output_type": "stream",
     "text": [
      "Writing ./data/joyxor.txt\n"
     ]
    }
   ],
   "source": [
    "%%writefile ./data/joyxor.txt\n",
    "# writing a data file\n",
    "# xor data with bias X0 - row vector style\n",
    "# x0 x1 x2 y\n",
    "1 0 0 0\n",
    "1 0 1 1\n",
    "1 1 0 1\n",
    "1 1 1 0"
   ]
  },
  {
   "cell_type": "code",
   "execution_count": 43,
   "metadata": {},
   "outputs": [
    {
     "name": "stdout",
     "output_type": "stream",
     "text": [
      "# writing a data file\r\n",
      "# xor data with bias X0 - row vector style\r\n",
      "# x0 x1 x2 y\r\n",
      "1 0 0 0\r\n",
      "1 0 1 1\r\n",
      "1 1 0 1\r\n",
      "1 1 1 0\r\n"
     ]
    }
   ],
   "source": [
    "# read and display a file  \n",
    "!cat  ./data/joyxor.txt"
   ]
  },
  {
   "cell_type": "markdown",
   "metadata": {},
   "source": [
    "### 자료 읽기\n",
    "\n",
    "기계학습 자료가 헤더 행을 포함하지 않고 공백으로 구분된 숫자들로 구성되어 있다면 `loadtxt()` 함수를 사용하여 txt 파일이나 csv 파일로부터 넘파이 배열로 쉽게 읽어와 사용할 수 있습니다. 다음과 같은 편리한 옵션도 있습니다.\n",
    "\n",
    "- `unpack` 옵션을 사용하여 row vector를 column vector로 변환(전치)할 수 있습니다.\n",
    "- `dtype` 옵션을 이용하여 읽어오는 자료형 정할 수 있습니다. \n",
    "- `delimit` 옵션을 자료들을 구분할 수 있으며, 디폴트는 '공백'입니다. "
   ]
  },
  {
   "cell_type": "code",
   "execution_count": 44,
   "metadata": {},
   "outputs": [
    {
     "name": "stdout",
     "output_type": "stream",
     "text": [
      "[[1 0 0 0]\n",
      " [1 0 1 1]\n",
      " [1 1 0 1]\n",
      " [1 1 1 0]]\n"
     ]
    }
   ],
   "source": [
    "import numpy as np\n",
    "data = np.loadtxt('./data/joyxor.txt', dtype=int)\n",
    "print(data)"
   ]
  },
  {
   "cell_type": "markdown",
   "metadata": {},
   "source": [
    "#### Example 1: 위에 읽은 XOR 데이터에서 입력 x(4, 3)과 출력 y(4, 1)형상으로 Slicing하십시오. \n",
    "```\n",
    "[[1 0 0]\n",
    " [1 0 1]\n",
    " [1 1 0]\n",
    " [1 1 1]]\n",
    "[[0]\n",
    " [1]\n",
    " [1]\n",
    " [0]]\n",
    "```"
   ]
  },
  {
   "cell_type": "code",
   "execution_count": 47,
   "metadata": {},
   "outputs": [
    {
     "name": "stdout",
     "output_type": "stream",
     "text": [
      "[[1 0 0]\n",
      " [1 0 1]\n",
      " [1 1 0]\n",
      " [1 1 1]]\n",
      "[[0]\n",
      " [1]\n",
      " [1]\n",
      " [0]]\n"
     ]
    }
   ],
   "source": [
    "x, y = data[:,:-1], data[:,-1:]\n",
    "print(x)\n",
    "print(y)"
   ]
  },
  {
   "cell_type": "markdown",
   "metadata": {},
   "source": [
    "## Exercise "
   ]
  },
  {
   "cell_type": "markdown",
   "metadata": {},
   "source": [
    "### 1. 배열 생성과 axis를 이용한 연산 \n",
    "\n",
    "다음 그림과 같은 3차원 배열 `a`를 생성하고, axis = 0 및 axis = 1 의 sum을 각각 손으로 계산하고, 또한 코드로 확인하십시오.  \n",
    "\n",
    "<img src=\"https://github.com/idebtor/KMOOC-ML/blob/master/ipynb/images/ndarray2.png?raw=true\" width=\"600\">\n",
    "\n",
    "<center>그림 1: 넘파이 1차원, 2차원 및 3차원 배열과 Axis 0 의미의 변화</center>"
   ]
  },
  {
   "cell_type": "markdown",
   "metadata": {},
   "source": [
    "1차원 배열에 있는 유일한 축 즉 첫 번째 축이 axix 0 입니다. 2차원 배열에서 axis 0는 행(row)의 갯수입니다.  2차원 배열이 여러 개 모여 3차원의 배열을 이루는데, 그 첫 번째 axis는 2차원 배열의 갯수입니다. 배열 shape의 첫 번째 요소가 항상 axis 0에 해당합니다. \n",
    "\n",
    "여기서 생성한 3차원 배열 `a`는 (2, 3) 2차원 배열이 4개 모인 것이며, shape은 (4, 2, 3)이 될 것입니다.  크기가 (2, 3)인 4개의 배열들의 원소들을 각각 더하면 될 것입니다. 우선 그러한 배열을 생성하여 출력하고, 우리가 머리로 먼저 계산하고, 이것을 코딩하여 확인합니다.  이제 크기가 (2, 3)인 4개의 배열들의 원소들을 각각 더하면, 결과를 내면 그 형상은 당연히 (2, 3)가 될 것입니다.  \n",
    "\n",
    "```\n",
    "[[36 40 44]\n",
    " [48 52 56]]]\n",
    "\n",
    "[[ 3  5  7]\n",
    " [15 17 19]\n",
    " [27 29 31]\n",
    " [39 41 43]]\n",
    "```\n",
    "#### Solution:"
   ]
  },
  {
   "cell_type": "code",
   "execution_count": null,
   "metadata": {},
   "outputs": [],
   "source": [
    "a = None\n",
    "axis0sum = None\n",
    "axis1sum = None\n",
    "print(axis0sum)\n",
    "print(axis1sum)"
   ]
  },
  {
   "cell_type": "markdown",
   "metadata": {},
   "source": [
    "예를 들면, 어떤 배열의 크기(shape)가 (60000, 28, 28)이라고 한다면, 배열의 크기가 (28, 28)인 2차원 배열이 6만개 있다는 것입니다. 2차원 배열은 흔히 이미지를 나타내는 많이 사용됩니다. 좀 더 구체적으로 말하면, 채널이 하나인 흑백 이미지가 6만 장이라는 말입니다. "
   ]
  },
  {
   "cell_type": "markdown",
   "metadata": {},
   "source": [
    "### 2. 이미지 추출하기 - Center\n",
    "\n",
    "기계학습을 진행하다 보면, 이미지를 일부분을 추출(Slicing)해야 할 때가 종종 있습니다. 주어진 이미지(16, 16)에서 처음과 마지막 두 행과 열을 제외한 부분 이미지(8x8)를 추출하십시오\n",
    "- 추출한 이미지의 four corners의 값을 출력하여, 각각 `68, 75, 180, 187`인 것을 확인하십시오.  "
   ]
  },
  {
   "cell_type": "markdown",
   "metadata": {},
   "source": [
    "<img src=\"https://github.com/idebtor/KMOOC-ML/blob/master/ipynb/images/numpy-image2.png?raw=true\" width=\"200\">\n",
    "\n",
    "<center>그림 2: 이미지의 가운데 부분 추출하기</center>\n",
    "\n",
    "#### Solution:"
   ]
  },
  {
   "cell_type": "code",
   "execution_count": null,
   "metadata": {},
   "outputs": [],
   "source": [
    "image = np.arange(256).reshape(16, 16)\n",
    "center = None\n",
    "print(None, None)\n",
    "plt.imshow(center, cmap=\"gray\", vmin=0, vmax=255)"
   ]
  },
  {
   "cell_type": "markdown",
   "metadata": {},
   "source": [
    "### 3. 이미지 추출하여 결합하기 - Four corners\n",
    "\n",
    "기계학습을 진행하다 보면, 이미지를 일부분을 추출(Slicing)해야 할 때가 종종 있습니다. 주어진 이미지(16, 16)에서 네 코너들(upper lower 를 4x4로 추출한 후, 이들을 결합한 새로운 이미지(8x8)를 만드십시오. \n",
    "- 결합한 이미지의 four corners의 값을 출력하여, 각각 `0, 15, 240, 255`인 것을 확인하십시오.  "
   ]
  },
  {
   "cell_type": "markdown",
   "metadata": {},
   "source": [
    "<img src=\"https://github.com/idebtor/KMOOC-ML/blob/master/ipynb/images/numpy-image3.png?raw=true\" width=\"200\">\n",
    "\n",
    "<center>그림 3: 이미지의 네 코너들을 4x4로 추출하여 결합하기</center>\n",
    "\n",
    "#### Solution:"
   ]
  },
  {
   "cell_type": "code",
   "execution_count": null,
   "metadata": {},
   "outputs": [],
   "source": [
    "image = np.arange(256).reshape(16, 16)\n",
    "upperleft = None\n",
    "lowerleft = None\n",
    "upper = None      # combine two upper corners\n",
    "upperright = None\n",
    "lowerright = None\n",
    "lower = None      # combine two lower corners\n",
    "corners = np.hstack([upper, lower])            # combine upper and lower \n",
    "print(None)\n",
    "plt.imshow(corners, cmap=\"gray\")"
   ]
  },
  {
   "cell_type": "markdown",
   "metadata": {},
   "source": [
    "### 4. 이미지 이동하기 (Shift)\n",
    "\n",
    "기계학습을 진행하다 보면, 이미지를 아래로, 오른쪽으로 혹은 위로, 왼쪽 이동해야 할 때가 있습니다. 이를 위해 ndarray처럼 ndimage 라이브러리가 제공됩니다. 수많은 함수 중에 이미지를 이동할 수 있는 shift함수가 있으며, 이동한 빈 자리에 어떤 값으로 채울지에 여러 옵션도 있습니다. \n",
    "\n",
    "shfit함수의 두 번째 인자가 __shift__인데, 이것을 정확히 설정하는 것이 중요합니다. 이 함수는 축에 따라 이미지를 shift하는데, 2D텐서(2차원 배열, 이미지)에서 axis 0는 위에 아래 방향이고, axis 1은 왼쪽에서 오른쪽 방향입니다. 넘파이 2차원 배열과 일치합니다.\n",
    "\n",
    "[scipy.ndimage.interpolation.shift](https://docs.scipy.org/doc/scipy/reference/generated/scipy.ndimage.shift.html) 를 검색해서 살펴 보십시오. \n",
    "\n",
    "```\n",
    "scipy.ndimage.interpolation.shift(input, shift, output=None, order=3, mode='constant', cval=0.0, prefilter=True)\n",
    "```\n",
    "- input : ndarray - The input array.\n",
    "- shift : float or sequence, optional, \n",
    "\n",
    "<p style=\"color:blue\">The shift along the axes. If a float, shift is the same for each axis. If a sequence, shift should contain one value for each axis. </p>\n",
    "\n",
    "위와 같은 설명에 따라 두 번째 shift 매개변수를 axis에 따라 어떻게 이동할지 설정해야 합니다. 이를 참고로 하여 아래 이미지(original)를 상/하, 좌우로 3 픽셀을 옮기고, 그 빈 자리에는 100으로 채우도록 코딩하십시오. "
   ]
  },
  {
   "cell_type": "markdown",
   "metadata": {},
   "source": [
    "<img src=\"https://github.com/idebtor/KMOOC-ML/blob/master/ipynb/images/midterm14.png?raw=true\" width=\"600\">\n",
    "\n",
    "<center>그림 4: 이미지 이동하기</center>\n",
    "\n",
    "#### Solution:"
   ]
  },
  {
   "cell_type": "code",
   "execution_count": null,
   "metadata": {},
   "outputs": [],
   "source": [
    "from scipy.ndimage.interpolation import shift\n",
    "\n",
    "shifted_down = shift(image, [3, 0], cval=100)  \n",
    "shifted_right = None\n",
    "shifted_up = None\n",
    "shifted_left = None\n",
    "\n",
    "fig, ax = plt.subplots(1, 5, figsize=(10,10))  \n",
    "ax[0].imshow(image, cmap = \"gray\")\n",
    "ax[1].imshow(shifted_down, cmap=\"gray\")\n",
    "ax[2].imshow(shifted_right, cmap=\"gray\")\n",
    "ax[3].imshow(shifted_up, cmap=\"gray\")\n",
    "ax[4].imshow(shifted_left, cmap=\"gray\")\n",
    "\n",
    "ax[0].set_title(\"original\")\n",
    "ax[1].set_title(\"shifted down\")\n",
    "ax[2].set_title(\"shifted right\")\n",
    "ax[3].set_title(\"shifted up\")\n",
    "ax[4].set_title(\"shifted left\")\n",
    "\n",
    "plt.setp(plt.gcf().get_axes(), xticks=[], yticks=[]);\n",
    "plt.show()"
   ]
  },
  {
   "cell_type": "markdown",
   "metadata": {},
   "source": [
    "## 학습 정리\n",
    "\n",
    "- 넘파이를 사용하는 이유 \n",
    "- 넘파이 개념과 사용법 \n",
    "    - 브로드캐스팅\n",
    "    - 배열의 축 다루기\n",
    "    - 난수 배열\n"
   ]
  },
  {
   "cell_type": "markdown",
   "metadata": {},
   "source": [
    "### 참고자료\n",
    "- CS231n Convolutional Neural Networks for Visual Recognition, [Python Numpy Tutorial](http://cs231n.github.io/python-numpy-tutorial/), Stanford University\n",
    "- [데이터 사이언스 스쿨](https://datascienceschool.net/view-notebook/17608f897087478bbeac096438c716f6/)\n",
    "- Python Numpy Tutorial - http://cs231n.github.io/\n",
    "- 김태완 블로그: [파이썬 데이터 사이언스 Cheat Sheet](http://taewan.kim/post/numpy_cheat_sheet/)"
   ]
  }
 ],
 "metadata": {
  "kernelspec": {
   "display_name": "Python 3",
   "language": "python",
   "name": "python3"
  },
  "language_info": {
   "codemirror_mode": {
    "name": "ipython",
    "version": 3
   },
   "file_extension": ".py",
   "mimetype": "text/x-python",
   "name": "python",
   "nbconvert_exporter": "python",
   "pygments_lexer": "ipython3",
   "version": "3.8.3"
  }
 },
 "nbformat": 4,
 "nbformat_minor": 2
}
