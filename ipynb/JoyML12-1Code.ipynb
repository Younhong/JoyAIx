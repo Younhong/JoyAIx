{
 "cells": [
  {
   "cell_type": "markdown",
   "metadata": {},
   "source": [
    "# Week 12-1 Gradient Descent - MiniBatch GD\n",
    "#### Machine Learning with Python by idebtor@gmail.com\n",
    "\n",
    "-----------------------------------\n",
    "\n",
    "## 1. 미니 배치 경사하강법"
   ]
  },
  {
   "cell_type": "code",
   "execution_count": 5,
   "metadata": {},
   "outputs": [],
   "source": [
    "import numpy as np\n",
    "import matplotlib.pyplot as plt\n",
    "import joy\n",
    "%matplotlib inline"
   ]
  },
  {
   "cell_type": "code",
   "execution_count": 10,
   "metadata": {},
   "outputs": [],
   "source": [
    "#%%writefile code/MnistMiniBatch.py\n",
    "#%load code/MnistMiniBatch.py\n",
    "class MnistMiniBatch(object):\n",
    "    \"\"\" Mini-batch Gradient Descent\n",
    "    \"\"\"\n",
    "    def __init__(self, n_x, n_h, n_y, eta = 0.1, epochs = 100, batch_size = 32, random_seed=1):\n",
    "        \"\"\" \n",
    "        \"\"\"\n",
    "        self.n_x = n_x\n",
    "        self.n_h = n_h\n",
    "        self.n_y = n_y\n",
    "        self.eta = eta\n",
    "        self.epochs = epochs\n",
    "        self.batch_size = batch_size\n",
    "        np.random.seed(random_seed)\n",
    "        self.W1 = 2*np.random.random((self.n_h, self.n_x)) - 1  # between -1 and 1\n",
    "        self.W2 = 2*np.random.random((self.n_y, self.n_h)) - 1  # between -1 and 1\n",
    "        #print('W1.shape={}, W2.shape={}'.format(self.W1.shape, self.W2.shape))\n",
    "        \n",
    "    def forpass(self, A0):\n",
    "        Z1 = np.dot(self.W1, A0)          # hidden layer inputs\n",
    "        A1 = self.g(Z1)                      # hidden layer outputs/activation func\n",
    "        Z2 = np.dot(self.W2, A1)          # output layer inputs\n",
    "        A2 = self.g(Z2)                       # output layer outputs/activation func\n",
    "        return Z1, A1, Z2, A2\n",
    "\n",
    "    def fit(self, X, y):\n",
    "        \"\"\" \n",
    "        X: input dataset \n",
    "        y: class labels\n",
    "        \"\"\"\n",
    "\n",
    "        self.cost_ = []\n",
    "        m_samples = len(y)       \n",
    "        Y = joy.one_hot_encoding(y, self.n_y)       # (m, n_y) = (m, 10)   one-hot encoding\n",
    "        #print('X.shape={}, y.shape={}, Y.shape={}'.format(X.shape, y.shape, Y.shape))\n",
    "        \n",
    "        for epoch in range(self.epochs):\n",
    "            #print('Training epoch {}/{}.'.format(epoch + 1, self.epochs))\n",
    "            for i in range(0, m_samples, self.batch_size):\n",
    "                A0 = X[i: i + self.batch_size]\n",
    "                Y0 = Y[i: i + self.batch_size]\n",
    "                \n",
    "                A0 = np.array(A0, ndmin=2).T\n",
    "                Y0 = np.array(Y0, ndmin=2).T\n",
    "\n",
    "                Z1, A1, Z2, A2 = self.forpass(A0)        \n",
    "\n",
    "                E2 = Y0 - A2                 \n",
    "                E1 = np.dot(self.W2.T, E2)       \n",
    "\n",
    "                # back prop, error prop\n",
    "                dZ2 = E2 * self.g_prime(Z2)     \n",
    "                dZ1 = E1 * self.g_prime(Z1)    \n",
    "\n",
    "                # update weights\n",
    "                self.W2 +=  self.eta * np.dot(dZ2, A1.T)     \n",
    "                self.W1 +=  self.eta * np.dot(dZ1, A0.T)    \n",
    "\n",
    "                self.cost_.append(np.sqrt(np.sum(E2 * E2)\n",
    "                                          /self.batch_size))\n",
    "        return self\n",
    "\n",
    "    def predict(self, X):\n",
    "        A0 = np.array(X, ndmin=2).T         # A0: inputs\n",
    "        Z1, A1, Z2, A2 = self.forpass(A0)   # forpass\n",
    "        return A2                                       \n",
    "\n",
    "    def g(self, x):                             # activation_function: sigmoid\n",
    "        return 1.0/(1.0+np.exp(-x))\n",
    "    \n",
    "    def g_prime(self, x):                    # activation_function: sigmoid derivative\n",
    "        return self.g(x) * (1 - self.g(x))\n",
    "    \n",
    "    def evaluate(self, Xtest, ytest):       \n",
    "        m_samples = len(ytest)\n",
    "        scores = 0        \n",
    "        A2 = self.predict(Xtest)\n",
    "        yhat = np.argmax(A2, axis = 0)\n",
    "        scores += np.sum(yhat == ytest)\n",
    "        return scores/m_samples * 100"
   ]
  },
  {
   "cell_type": "markdown",
   "metadata": {},
   "source": [
    "## 2. 학습결과"
   ]
  },
  {
   "cell_type": "code",
   "execution_count": 11,
   "metadata": {},
   "outputs": [
    {
     "name": "stdout",
     "output_type": "stream",
     "text": [
      "Accuracy 87.0%\n"
     ]
    }
   ],
   "source": [
    "import joy\n",
    "(X, y), (Xtest, ytest) = joy.load_mnist()\n",
    "nn = MnistMiniBatch(784, 100, 10, epochs = 20, batch_size = 32)\n",
    "nn.fit(X[:1000], y[:1000])\n",
    "accuracy = nn.evaluate(Xtest[:100], ytest[:100])\n",
    "print('Accuracy {}%'.format(accuracy))"
   ]
  },
  {
   "cell_type": "code",
   "execution_count": 12,
   "metadata": {},
   "outputs": [
    {
     "data": {
      "image/png": "[encoded data removed]",
      "text/plain": [
       "<Figure size 432x288 with 1 Axes>"
      ]
     },
     "metadata": {},
     "output_type": "display_data"
    }
   ],
   "source": [
    "plt.plot(range(len(nn.cost_)), nn.cost_)\n",
    "plt.xlabel('Epochs')\n",
    "plt.ylabel('Error Squared Sum')\n",
    "plt.title('Mini-Batch GD: batch_size:{}'.format(nn.batch_size))\n",
    "plt.show()"
   ]
  },
  {
   "cell_type": "markdown",
   "metadata": {},
   "source": [
    "## 3.1 과대적합: 원인 - 반복횟수"
   ]
  },
  {
   "cell_type": "code",
   "execution_count": 13,
   "metadata": {},
   "outputs": [
    {
     "name": "stdout",
     "output_type": "stream",
     "text": [
      "epoch_list = [1, 3, 5, 7, 9, 11, 13, 15, 17, 19, 21, 23, 25, 27, 29, 40, 60, 80, 100]\n",
      "i = 1/19, epoch = 1\n",
      "i = 2/19, epoch = 3\n",
      "i = 3/19, epoch = 5\n",
      "i = 4/19, epoch = 7\n",
      "i = 5/19, epoch = 9\n",
      "i = 6/19, epoch = 11\n",
      "i = 7/19, epoch = 13\n",
      "i = 8/19, epoch = 15\n",
      "i = 9/19, epoch = 17\n",
      "i = 10/19, epoch = 19\n",
      "i = 11/19, epoch = 21\n",
      "i = 12/19, epoch = 23\n",
      "i = 13/19, epoch = 25\n",
      "i = 14/19, epoch = 27\n",
      "i = 15/19, epoch = 29\n",
      "i = 16/19, epoch = 40\n",
      "i = 17/19, epoch = 60\n",
      "i = 18/19, epoch = 80\n",
      "i = 19/19, epoch = 100\n"
     ]
    }
   ],
   "source": [
    "(X, y), (Xtest, ytest) = joy.load_mnist()\n",
    "epoch_list = [i for i in np.arange(1, 31, 2)] + [i for i in np.arange(40, 101, 20)]\n",
    "print('epoch_list =', epoch_list)\n",
    "self_accuracy = []\n",
    "test_accuracy = []\n",
    "for i, e in enumerate(epoch_list):\n",
    "    print(\"i = {}/{}, epoch = {}\".format(i+1, len(epoch_list), e))\n",
    "    nn = MnistMiniBatch(784, 100, 10, epochs = e, batch_size = 32)\n",
    "    nn.fit(X, y)\n",
    "    self_accuracy.append(nn.evaluate(X, y))\n",
    "    test_accuracy.append(nn.evaluate(Xtest, ytest))"
   ]
  },
  {
   "cell_type": "code",
   "execution_count": 11,
   "metadata": {},
   "outputs": [
    {
     "ename": "NameError",
     "evalue": "name 'epoch_list' is not defined",
     "output_type": "error",
     "traceback": [
      "\u001b[1;31m---------------------------------------------------------------------------\u001b[0m",
      "\u001b[1;31mNameError\u001b[0m                                 Traceback (most recent call last)",
      "\u001b[1;32m<ipython-input-11-67849ecda1b0>\u001b[0m in \u001b[0;36m<module>\u001b[1;34m()\u001b[0m\n\u001b[0;32m      1\u001b[0m \u001b[0mget_ipython\u001b[0m\u001b[1;33m(\u001b[0m\u001b[1;33m)\u001b[0m\u001b[1;33m.\u001b[0m\u001b[0mrun_line_magic\u001b[0m\u001b[1;33m(\u001b[0m\u001b[1;34m'matplotlib'\u001b[0m\u001b[1;33m,\u001b[0m \u001b[1;34m'inline'\u001b[0m\u001b[1;33m)\u001b[0m\u001b[1;33m\u001b[0m\u001b[0m\n\u001b[0;32m      2\u001b[0m \u001b[1;32mimport\u001b[0m \u001b[0mmatplotlib\u001b[0m\u001b[1;33m.\u001b[0m\u001b[0mpyplot\u001b[0m \u001b[1;32mas\u001b[0m \u001b[0mplt\u001b[0m\u001b[1;33m\u001b[0m\u001b[0m\n\u001b[1;32m----> 3\u001b[1;33m \u001b[0mplt\u001b[0m\u001b[1;33m.\u001b[0m\u001b[0mplot\u001b[0m\u001b[1;33m(\u001b[0m\u001b[0mepoch_list\u001b[0m\u001b[1;33m,\u001b[0m \u001b[0mself_accuracy\u001b[0m\u001b[1;33m,\u001b[0m \u001b[0mlabel\u001b[0m\u001b[1;33m=\u001b[0m\u001b[1;34m'self'\u001b[0m\u001b[1;33m)\u001b[0m\u001b[1;33m\u001b[0m\u001b[0m\n\u001b[0m\u001b[0;32m      4\u001b[0m \u001b[0mplt\u001b[0m\u001b[1;33m.\u001b[0m\u001b[0mplot\u001b[0m\u001b[1;33m(\u001b[0m\u001b[0mepoch_list\u001b[0m\u001b[1;33m,\u001b[0m \u001b[0mtest_accuracy\u001b[0m\u001b[1;33m,\u001b[0m \u001b[0mlabel\u001b[0m\u001b[1;33m=\u001b[0m\u001b[1;34m'test'\u001b[0m\u001b[1;33m)\u001b[0m\u001b[1;33m\u001b[0m\u001b[0m\n\u001b[0;32m      5\u001b[0m \u001b[0mplt\u001b[0m\u001b[1;33m.\u001b[0m\u001b[0mxlabel\u001b[0m\u001b[1;33m(\u001b[0m\u001b[1;34m'Epochs'\u001b[0m\u001b[1;33m)\u001b[0m\u001b[1;33m\u001b[0m\u001b[0m\n",
      "\u001b[1;31mNameError\u001b[0m: name 'epoch_list' is not defined"
     ]
    }
   ],
   "source": [
    "%matplotlib inline\n",
    "import matplotlib.pyplot as plt \n",
    "plt.plot(epoch_list, self_accuracy, label='self')\n",
    "plt.plot(epoch_list, test_accuracy, label='test')\n",
    "plt.xlabel('Epochs')\n",
    "plt.ylabel('Accuracy')\n",
    "plt.title('Overfitting:Higher Epochs'.format(nn.batch_size))\n",
    "plt.legend(loc='center')\n",
    "plt.show()"
   ]
  },
  {
   "cell_type": "markdown",
   "metadata": {},
   "source": [
    "## 3.2 은닉층 노드의 수"
   ]
  },
  {
   "cell_type": "code",
   "execution_count": null,
   "metadata": {},
   "outputs": [
    {
     "name": "stdout",
     "output_type": "stream",
     "text": [
      "n_h_list = [ 50 100 150 200 250 300 350 400 450 500 550 600 650 700 750 800]\n",
      "i = 1/16, hidden_nodes = 50\n",
      "i = 2/16, hidden_nodes = 100\n",
      "i = 3/16, hidden_nodes = 150\n",
      "i = 4/16, hidden_nodes = 200\n",
      "i = 5/16, hidden_nodes = 250\n",
      "i = 6/16, hidden_nodes = 300\n",
      "i = 7/16, hidden_nodes = 350\n",
      "i = 8/16, hidden_nodes = 400\n",
      "i = 9/16, hidden_nodes = 450\n",
      "i = 10/16, hidden_nodes = 500\n",
      "i = 11/16, hidden_nodes = 550\n",
      "i = 12/16, hidden_nodes = 600\n",
      "i = 13/16, hidden_nodes = 650\n",
      "i = 14/16, hidden_nodes = 700\n",
      "i = 15/16, hidden_nodes = 750\n",
      "i = 16/16, hidden_nodes = 800\n"
     ]
    }
   ],
   "source": [
    "(X, y), (Xtest, ytest) = joy.load_mnist() \n",
    "n_h_list = np.linspace(50, 800, 16, dtype=int)\n",
    "print('n_h_list =', n_h_list) \n",
    "self_accuracy = []\n",
    "test_accuracy = []\n",
    "for i, n_h in  enumerate(n_h_list):\n",
    "    print(\"i = {}/{}, hidden_nodes = {}\".format(i+1, len(n_h_list), n_h))\n",
    "    nn = MnistMiniBatch(784, n_h, 10, epochs = 10, batch_size = 32)  \n",
    "    nn.fit(X, y)  \n",
    "    self_accuracy.append(nn.evaluate(X, y))  \n",
    "    test_accuracy.append(nn.evaluate(Xtest, ytest))"
   ]
  },
  {
   "cell_type": "code",
   "execution_count": 10,
   "metadata": {},
   "outputs": [
    {
     "data": {
      "image/png": "[encoded data removed]",
      "text/plain": [
       "<Figure size 432x288 with 1 Axes>"
      ]
     },
     "metadata": {},
     "output_type": "display_data"
    }
   ],
   "source": [
    "%matplotlib inline\n",
    "import matplotlib.pyplot as plt \n",
    "plt.plot(n_h_list, self_accuracy, label='self')\n",
    "plt.plot(n_h_list, test_accuracy, label='test')\n",
    "plt.xlabel('Epochs')\n",
    "plt.ylabel('Accuracy')\n",
    "plt.title('Overfitting:Higher Hidden Neurons'.format(nn.batch_size))\n",
    "plt.legend(loc='best')\n",
    "plt.show()"
   ]
  },
  {
   "cell_type": "markdown",
   "metadata": {},
   "source": [
    "## 3.3 해결방법 - 조기종료"
   ]
  },
  {
   "cell_type": "code",
   "execution_count": 4,
   "metadata": {},
   "outputs": [],
   "source": [
    "import joy\n",
    "(X, y), (Xtest, ytest) = joy.load_mnist()\n",
    "\n",
    "trainlist = []\n",
    "testlist = []\n",
    "w1 = []\n",
    "w2 = []\n",
    "for hl in range(40, 810, 10):\n",
    "    nn = MnistMiniBatch(784, hl, 10, epochs = 20, batch_size = 32)\n",
    "    nn.fit(X[:1000], y[:1000])\n",
    "    trainning = nn.evaluate(X[:1000], y[:1000])\n",
    "    test = nn.evaluate(Xtest[:1000], ytest[:1000])\n",
    "    \n",
    "    trainlist.append(round(trainning, 2))\n",
    "    testlist.append(round(test, 2))\n",
    "    w1.append(nn.W1)\n",
    "    w2.append(nn.W2)"
   ]
  },
  {
   "cell_type": "markdown",
   "metadata": {},
   "source": [
    "## 3.4 데이터 증식"
   ]
  },
  {
   "cell_type": "code",
   "execution_count": 8,
   "metadata": {},
   "outputs": [
    {
     "data": {
      "image/png": "[encoded data removed]",
      "text/plain": [
       "<Figure size 432x288 with 1 Axes>"
      ]
     },
     "metadata": {},
     "output_type": "display_data"
    },
    {
     "data": {
      "image/png": "[encoded data removed]",
      "text/plain": [
       "<Figure size 432x288 with 1 Axes>"
      ]
     },
     "metadata": {},
     "output_type": "display_data"
    },
    {
     "data": {
      "image/png": "[encoded data removed]",
      "text/plain": [
       "<Figure size 432x288 with 1 Axes>"
      ]
     },
     "metadata": {},
     "output_type": "display_data"
    },
    {
     "data": {
      "image/png": "[encoded data removed]",
      "text/plain": [
       "<Figure size 432x288 with 1 Axes>"
      ]
     },
     "metadata": {},
     "output_type": "display_data"
    },
    {
     "data": {
      "image/png": "[encoded data removed]",
      "text/plain": [
       "<Figure size 432x288 with 1 Axes>"
      ]
     },
     "metadata": {},
     "output_type": "display_data"
    },
    {
     "data": {
      "image/png": "[encoded data removed]",
      "text/plain": [
       "<Figure size 432x288 with 1 Axes>"
      ]
     },
     "metadata": {},
     "output_type": "display_data"
    }
   ],
   "source": [
    "import joy\n",
    "import scipy\n",
    "(X, y), (Xtest, ytest) = joy.load_mnist()\n",
    "for idx in range(0, 3):\n",
    "    Xr = X[idx].reshape(28, 28)\n",
    "    joy.show_mnist(Xr)\n",
    "    Xr = scipy.ndimage.rotate(Xr, 12.0, cval = 0.01, order = 1, reshape = False)\n",
    "    joy.show_mnist(Xr)"
   ]
  },
  {
   "cell_type": "markdown",
   "metadata": {},
   "source": [
    "## 3.5 드롭아웃(Dropout)\n",
    "\n",
    "### MnistMiniBatchGD"
   ]
  },
  {
   "cell_type": "code",
   "execution_count": 14,
   "metadata": {},
   "outputs": [],
   "source": [
    "#%%writefile code/MnistMiniBatch.py\n",
    "#%load code/MnistMiniBatch.py\n",
    "class MnistMiniBatchGD(object):\n",
    "    \"\"\" Mini-batch Gradient Descent\n",
    "    \"\"\"\n",
    "    def __init__(self, n_x, n_h, n_y, eta = 0.1, epochs = 100, batch_size = 32, random_seed=1):\n",
    "        \"\"\" \n",
    "        \"\"\"\n",
    "        self.n_x = n_x\n",
    "        self.n_h = n_h\n",
    "        self.n_y = n_y\n",
    "        self.eta = eta\n",
    "        self.epochs = epochs\n",
    "        self.batch_size = batch_size\n",
    "        np.random.seed(random_seed)\n",
    "        self.W1 = 2*np.random.random((self.n_h, self.n_x)) - 1  # between -1 and 1\n",
    "        self.W2 = 2*np.random.random((self.n_y, self.n_h)) - 1  # between -1 and 1\n",
    "        #print('W1.shape={}, W2.shape={}'.format(self.W1.shape, self.W2.shape))\n",
    "        \n",
    "    def forpass(self, A0, train=True):\n",
    "        Z1 = np.dot(self.W1, A0)          # hidden layer inputs\n",
    "        A1 = self.g(Z1)                      # hidden layer outputs/activation func\n",
    "           \n",
    "        Z2 = np.dot(self.W2, A1)          # output layer inputs\n",
    "        A2 = self.g(Z2)                       # output layer outputs/activation func\n",
    "        return Z1, A1, Z2, A2\n",
    "\n",
    "    def fit(self, X, y):\n",
    "        \"\"\" \n",
    "        X: input dataset \n",
    "        y: class labels\n",
    "        \"\"\"\n",
    "\n",
    "        self.cost_ = []\n",
    "        m_samples = len(y)       \n",
    "        Y = joy.one_hot_encoding(y, self.n_y)       # (m, n_y) = (m, 10)   one-hot encoding\n",
    "        #print('X.shape={}, y.shape={}, Y.shape={}'.format(X.shape, y.shape, Y.shape))\n",
    "        \n",
    "        for epoch in range(self.epochs):\n",
    "            #print('Training epoch {}/{}.'.format(epoch + 1, self.epochs))\n",
    "            for i in range(0, m_samples, self.batch_size):\n",
    "                A0 = X[i: i + self.batch_size]\n",
    "                Y0 = Y[i: i + self.batch_size]\n",
    "                \n",
    "                A0 = np.array(A0, ndmin=2).T\n",
    "                Y0 = np.array(Y0, ndmin=2).T\n",
    "\n",
    "                Z1, A1, Z2, A2 = self.forpass(A0)        \n",
    "\n",
    "                E2 = Y0 - A2                 \n",
    "                E1 = np.dot(self.W2.T, E2)       \n",
    "\n",
    "                # back prop, error prop\n",
    "                dZ2 = E2 * self.g_prime(Z2)     \n",
    "                dZ1 = E1 * self.g_prime(Z1)    \n",
    "                \n",
    "                # update weights\n",
    "                self.W2 +=  self.eta * np.dot(dZ2, A1.T)     \n",
    "                self.W1 +=  self.eta * np.dot(dZ1, A0.T)    \n",
    "\n",
    "                self.cost_.append(np.sqrt(np.sum(E2 * E2)\n",
    "                                          /self.batch_size))\n",
    "        return self\n",
    "\n",
    "    def predict(self, X):\n",
    "        A0 = np.array(X, ndmin=2).T         # A0: inputs\n",
    "        Z1, A1, Z2, A2 = self.forpass(A0, train=False)   # forpass\n",
    "        return A2                                       \n",
    "\n",
    "    def g(self, x):                             # activation_function: sigmoid\n",
    "        return 1.0/(1.0+np.exp(-x))\n",
    "    \n",
    "    def g_prime(self, x):                    # activation_function: sigmoid derivative\n",
    "        return self.g(x) * (1 - self.g(x))\n",
    "    \n",
    "    def evaluate(self, Xtest, ytest):       \n",
    "        m_samples = len(ytest)\n",
    "        scores = 0        \n",
    "        A2 = self.predict(Xtest)\n",
    "        yhat = np.argmax(A2, axis = 0)\n",
    "        scores += np.sum(yhat == ytest)\n",
    "        return scores/m_samples * 100"
   ]
  },
  {
   "cell_type": "code",
   "execution_count": 15,
   "metadata": {},
   "outputs": [
    {
     "name": "stdout",
     "output_type": "stream",
     "text": [
      "MNIST self accuracy 100.0%\n",
      "MNIST test accuracy 89.3%\n"
     ]
    }
   ],
   "source": [
    "import joy\n",
    "(X, y), (Xtest, ytest) = joy.load_mnist()\n",
    "nn = MnistMiniBatchGD(784, 600, 10, epochs = 40)\n",
    "nn.fit(X[:3000], y[:3000])\n",
    "self = nn.evaluate(X[:3000], y[:3000])\n",
    "test = nn.evaluate(Xtest[:1000], ytest[:1000])\n",
    "print('MNIST self accuracy {}%'.format(self))\n",
    "print('MNIST test accuracy {}%'.format(test))"
   ]
  },
  {
   "cell_type": "markdown",
   "metadata": {},
   "source": [
    "### MnistMiniBatchGD with Dropout"
   ]
  },
  {
   "cell_type": "code",
   "execution_count": 3,
   "metadata": {},
   "outputs": [],
   "source": [
    "#%%writefile code/MnistMiniBatch.py\n",
    "#%load code/MnistMiniBatch.py\n",
    "class MnistMiniBatchGD_Dropout(object):\n",
    "    \"\"\" Mini-batch Gradient Descent with Dropout\n",
    "    \"\"\"\n",
    "    def __init__(self, n_x, n_h, n_y, eta = 0.1, epochs = 100, batch_size = 32, random_seed=1, dropout_ratio=0.5):\n",
    "        \"\"\" \n",
    "        \"\"\"\n",
    "        self.n_x = n_x\n",
    "        self.n_h = n_h\n",
    "        self.n_y = n_y\n",
    "        self.eta = eta\n",
    "        self.epochs = epochs\n",
    "        self.batch_size = batch_size\n",
    "        np.random.seed(random_seed)\n",
    "        self.dropout_ratio = dropout_ratio\n",
    "        self.W1 = 2*np.random.random((self.n_h, self.n_x)) - 1  # between -1 and 1\n",
    "        self.W2 = 2*np.random.random((self.n_y, self.n_h)) - 1  # between -1 and 1\n",
    "        #print('W1.shape={}, W2.shape={}'.format(self.W1.shape, self.W2.shape))\n",
    "        \n",
    "    def forpass(self, A0, train=True):\n",
    "        Z1 = np.dot(self.W1, A0)                # hidden layer inputs\n",
    "        A1 = self.g(Z1)                         # hidden layer outputs/activation func\n",
    "\n",
    "        # Dropout\n",
    "        if train:\n",
    "            self.drop_units = np.random.rand(*A1.shape) > self.dropout_ratio\n",
    "            A1 = A1 * self.drop_units / self.dropout_ratio\n",
    "          \n",
    "        Z2 = np.dot(self.W2, A1)                # output layer inputs\n",
    "        A2 = self.g(Z2)                         # output layer outputs/activation func\n",
    "        return Z1, A1, Z2, A2\n",
    "\n",
    "    def fit(self, X, y):\n",
    "        \"\"\" \n",
    "        X: input dataset \n",
    "        y: class labels\n",
    "        \"\"\"\n",
    "\n",
    "        self.cost_ = []\n",
    "        m_samples = len(y)       \n",
    "        Y = joy.one_hot_encoding(y, self.n_y)       # (m, n_y) = (m, 10)   one-hot encoding\n",
    "        #print('X.shape={}, y.shape={}, Y.shape={}'.format(X.shape, y.shape, Y.shape))\n",
    "        \n",
    "        for epoch in range(self.epochs):\n",
    "            #print('Training epoch {}/{}.'.format(epoch + 1, self.epochs))\n",
    "            for i in range(0, m_samples, self.batch_size):\n",
    "                A0 = X[i: i + self.batch_size].T\n",
    "                Y0 = Y[i: i + self.batch_size].T\n",
    "                Z1, A1, Z2, A2 = self.forpass(A0)        \n",
    "\n",
    "                E2 = Y0 - A2                 \n",
    "                E1 = np.dot(self.W2.T, E2)       \n",
    "\n",
    "                # back prop, error prop\n",
    "                dZ2 = E2 * self.g_prime(Z2)     \n",
    "                dZ1 = E1 * self.g_prime(Z1)    \n",
    "\n",
    "                # Dropout\n",
    "                dZ1 = dZ1 * self.drop_units       \n",
    "\n",
    "                # update weights\n",
    "                self.W2 +=  self.eta * np.dot(dZ2, A1.T)     \n",
    "                self.W1 +=  self.eta * np.dot(dZ1, A0.T)    \n",
    "\n",
    "                self.cost_.append(np.sqrt(np.sum(E2 * E2)\n",
    "                                          /self.batch_size))\n",
    "        return self\n",
    "\n",
    "    def predict(self, X):\n",
    "        A0 = np.array(X, ndmin=2).T         # A0: inputs\n",
    "        Z1, A1, Z2, A2 = self.forpass(A0, train=False)   # forpass\n",
    "        return A2                                       \n",
    "\n",
    "    def g(self, x):                             # activation_function: sigmoid\n",
    "        return 1.0/(1.0+np.exp(-x))\n",
    "    \n",
    "    def g_prime(self, x):                    # activation_function: sigmoid derivative\n",
    "        return self.g(x) * (1 - self.g(x))\n",
    "    \n",
    "    def evaluate(self, Xtest, ytest):       \n",
    "        m_samples = len(ytest)\n",
    "        scores = 0        \n",
    "        A2 = self.predict(Xtest)\n",
    "        yhat = np.argmax(A2, axis = 0)\n",
    "        scores += np.sum(yhat == ytest)\n",
    "        return scores/m_samples * 100"
   ]
  },
  {
   "cell_type": "code",
   "execution_count": 6,
   "metadata": {},
   "outputs": [
    {
     "name": "stdout",
     "output_type": "stream",
     "text": [
      "MNIST self accuracy 99.73333333333333%\n",
      "MNIST test accuracy 91.7%\n"
     ]
    }
   ],
   "source": [
    "import joy\n",
    "(X, y), (Xtest, ytest) = joy.load_mnist()\n",
    "nn = MnistMiniBatchGD_Dropout(784, 600, 10, \n",
    "            epochs = 40, dropout_ratio = 0.5)\n",
    "nn.fit(X[:3000], y[:3000])\n",
    "self = nn.evaluate(X[:3000], y[:3000])\n",
    "test = nn.evaluate(Xtest[:1000], ytest[:1000])\n",
    "print('MNIST self accuracy {}%'.format(self))\n",
    "print('MNIST test accuracy {}%'.format(test))"
   ]
  },
  {
   "cell_type": "code",
   "execution_count": 7,
   "metadata": {},
   "outputs": [
    {
     "data": {
      "image/png": "[encoded data removed]",
      "text/plain": [
       "<Figure size 432x288 with 1 Axes>"
      ]
     },
     "metadata": {
      "needs_background": "light"
     },
     "output_type": "display_data"
    }
   ],
   "source": [
    "import matplotlib.pyplot as plt\n",
    "\n",
    "plt.plot(range(len(nn.cost_)), nn.cost_)\n",
    "plt.xlabel('Epochs')\n",
    "plt.ylabel('Squared Sum Error')\n",
    "plt.title('Mini-Batch GD with Dropout: batch_size:{}'.format(nn.batch_size))\n",
    "plt.show()"
   ]
  },
  {
   "cell_type": "markdown",
   "metadata": {},
   "source": [
    "----------\n",
    "_In the beginning God created the heavens and the earth. Genesis1:1_"
   ]
  }
 ],
 "metadata": {
  "kernelspec": {
   "display_name": "Python 3",
   "language": "python",
   "name": "python3"
  },
  "language_info": {
   "codemirror_mode": {
    "name": "ipython",
    "version": 3
   },
   "file_extension": ".py",
   "mimetype": "text/x-python",
   "name": "python",
   "nbconvert_exporter": "python",
   "pygments_lexer": "ipython3",
   "version": "3.8.3"
  }
 },
 "nbformat": 4,
 "nbformat_minor": 2
}
